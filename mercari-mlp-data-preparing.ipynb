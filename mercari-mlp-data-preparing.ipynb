{
 "cells": [
  {
   "cell_type": "code",
   "execution_count": 1,
   "id": "legal-canada",
   "metadata": {
    "_cell_guid": "b1076dfc-b9ad-4769-8c92-a6c4dae69d19",
    "_uuid": "8f2839f25d086af736a60e9eeb907d3b93b6e0e5",
    "execution": {
     "iopub.execute_input": "2021-05-19T02:38:01.778359Z",
     "iopub.status.busy": "2021-05-19T02:38:01.777649Z",
     "iopub.status.idle": "2021-05-19T02:38:17.480319Z",
     "shell.execute_reply": "2021-05-19T02:38:17.479205Z"
    },
    "papermill": {
     "duration": 15.733242,
     "end_time": "2021-05-19T02:38:17.480553",
     "exception": false,
     "start_time": "2021-05-19T02:38:01.747311",
     "status": "completed"
    },
    "tags": []
   },
   "outputs": [
    {
     "data": {
      "text/html": [
       "<style type='text/css'>\n",
       ".datatable table.frame { margin-bottom: 0; }\n",
       ".datatable table.frame thead { border-bottom: none; }\n",
       ".datatable table.frame tr.coltypes td {  color: #FFFFFF;  line-height: 6px;  padding: 0 0.5em;}\n",
       ".datatable .bool    { background: #DDDD99; }\n",
       ".datatable .object  { background: #565656; }\n",
       ".datatable .int     { background: #5D9E5D; }\n",
       ".datatable .float   { background: #4040CC; }\n",
       ".datatable .str     { background: #CC4040; }\n",
       ".datatable .row_index {  background: var(--jp-border-color3);  border-right: 1px solid var(--jp-border-color0);  color: var(--jp-ui-font-color3);  font-size: 9px;}\n",
       ".datatable .frame tr.coltypes .row_index {  background: var(--jp-border-color0);}\n",
       ".datatable th:nth-child(2) { padding-left: 12px; }\n",
       ".datatable .hellipsis {  color: var(--jp-cell-editor-border-color);}\n",
       ".datatable .vellipsis {  background: var(--jp-layout-color0);  color: var(--jp-cell-editor-border-color);}\n",
       ".datatable .na {  color: var(--jp-cell-editor-border-color);  font-size: 80%;}\n",
       ".datatable .footer { font-size: 9px; }\n",
       ".datatable .frame_dimensions {  background: var(--jp-border-color3);  border-top: 1px solid var(--jp-border-color0);  color: var(--jp-ui-font-color3);  display: inline-block;  opacity: 0.6;  padding: 1px 10px 1px 5px;}\n",
       "</style>\n"
      ],
      "text/plain": [
       "<IPython.core.display.HTML object>"
      ]
     },
     "metadata": {},
     "output_type": "display_data"
    }
   ],
   "source": [
    "from sklearn.preprocessing import Normalizer\n",
    "import tensorflow as tf\n",
    "from numpy import array\n",
    "from numpy import asarray\n",
    "from numpy import zeros\n",
    "from tensorflow.keras.preprocessing.text import Tokenizer\n",
    "from tensorflow.keras.preprocessing.sequence import pad_sequences\n",
    "from sklearn.preprocessing import LabelEncoder\n",
    "\n",
    "import tensorflow as tf\n",
    "\n",
    "import warnings\n",
    "warnings.filterwarnings(\"ignore\")\n",
    "import gc\n",
    "\n",
    "import pandas as pd\n",
    "import numpy as np\n",
    "import string\n",
    "import matplotlib.pyplot as plt\n",
    "from wordcloud import WordCloud\n",
    "import seaborn as sns\n",
    "import math\n",
    "import lightgbm as lgb\n",
    "from tqdm.notebook import tqdm\n",
    "tqdm.pandas()\n",
    "\n",
    "from sklearn.feature_extraction.text import CountVectorizer\n",
    "from sklearn.feature_extraction.text import TfidfVectorizer\n",
    "from sklearn.model_selection import train_test_split\n",
    "\n",
    "import scipy\n",
    "import scipy.sparse\n",
    "from scipy.sparse import hstack\n",
    "\n",
    "from sklearn.metrics import mean_squared_log_error\n",
    "import pickle\n",
    "import regex as re\n",
    "import os\n",
    "\n",
    "!pip install -q pyyaml h5py  # Required to save models in HDF5 format"
   ]
  },
  {
   "cell_type": "code",
   "execution_count": 2,
   "id": "velvet-basis",
   "metadata": {
    "execution": {
     "iopub.execute_input": "2021-05-19T02:38:17.520793Z",
     "iopub.status.busy": "2021-05-19T02:38:17.520134Z",
     "iopub.status.idle": "2021-05-19T02:38:24.995485Z",
     "shell.execute_reply": "2021-05-19T02:38:24.994437Z"
    },
    "papermill": {
     "duration": 7.497144,
     "end_time": "2021-05-19T02:38:24.995665",
     "exception": false,
     "start_time": "2021-05-19T02:38:17.498521",
     "status": "completed"
    },
    "tags": []
   },
   "outputs": [],
   "source": [
    "train_path = '../input/mercari-data-processed/train_processed.pkl'\n",
    "test_path = '../input/mercari-data-processed/test_processed.pkl'\n",
    "\n",
    "train_df = pd.read_pickle(train_path)"
   ]
  },
  {
   "cell_type": "markdown",
   "id": "practical-quest",
   "metadata": {
    "papermill": {
     "duration": 0.015486,
     "end_time": "2021-05-19T02:38:25.025955",
     "exception": false,
     "start_time": "2021-05-19T02:38:25.010469",
     "status": "completed"
    },
    "tags": []
   },
   "source": [
    "### Split original train data into sub-train data and test data"
   ]
  },
  {
   "cell_type": "code",
   "execution_count": 3,
   "id": "rational-exchange",
   "metadata": {
    "execution": {
     "iopub.execute_input": "2021-05-19T02:38:25.111144Z",
     "iopub.status.busy": "2021-05-19T02:38:25.066241Z",
     "iopub.status.idle": "2021-05-19T02:38:25.224640Z",
     "shell.execute_reply": "2021-05-19T02:38:25.225142Z"
    },
    "papermill": {
     "duration": 0.183381,
     "end_time": "2021-05-19T02:38:25.225312",
     "exception": false,
     "start_time": "2021-05-19T02:38:25.041931",
     "status": "completed"
    },
    "tags": []
   },
   "outputs": [],
   "source": [
    "X = train_df.drop(['train_id', 'category_name', 'price', 'log_prices'], axis='columns')\n",
    "y = train_df['log_prices']"
   ]
  },
  {
   "cell_type": "code",
   "execution_count": 4,
   "id": "excessive-fluid",
   "metadata": {
    "execution": {
     "iopub.execute_input": "2021-05-19T02:38:25.258052Z",
     "iopub.status.busy": "2021-05-19T02:38:25.257101Z",
     "iopub.status.idle": "2021-05-19T02:38:27.534058Z",
     "shell.execute_reply": "2021-05-19T02:38:27.534512Z"
    },
    "papermill": {
     "duration": 2.294637,
     "end_time": "2021-05-19T02:38:27.534681",
     "exception": false,
     "start_time": "2021-05-19T02:38:25.240044",
     "status": "completed"
    },
    "tags": []
   },
   "outputs": [
    {
     "name": "stdout",
     "output_type": "stream",
     "text": [
      "(1302134, 14) (1302134,)\n",
      "(144682, 14) (144682,)\n"
     ]
    }
   ],
   "source": [
    "X_train, X_test, y_train, y_test = train_test_split(X, y, test_size=0.10, random_state=42)\n",
    "print(X_train.shape, y_train.shape)\n",
    "print(X_test.shape, y_test.shape)"
   ]
  },
  {
   "cell_type": "markdown",
   "id": "relevant-thumbnail",
   "metadata": {
    "papermill": {
     "duration": 0.014565,
     "end_time": "2021-05-19T02:38:27.564560",
     "exception": false,
     "start_time": "2021-05-19T02:38:27.549995",
     "status": "completed"
    },
    "tags": []
   },
   "source": [
    "### Data Vectorizer"
   ]
  },
  {
   "cell_type": "code",
   "execution_count": 5,
   "id": "impressive-collective",
   "metadata": {
    "execution": {
     "iopub.execute_input": "2021-05-19T02:38:27.599698Z",
     "iopub.status.busy": "2021-05-19T02:38:27.599098Z",
     "iopub.status.idle": "2021-05-19T02:38:27.601761Z",
     "shell.execute_reply": "2021-05-19T02:38:27.601349Z"
    },
    "papermill": {
     "duration": 0.02247,
     "end_time": "2021-05-19T02:38:27.601931",
     "exception": false,
     "start_time": "2021-05-19T02:38:27.579461",
     "status": "completed"
    },
    "tags": []
   },
   "outputs": [],
   "source": [
    "def vectorize_data(col_data, count_vectorizer=None):\n",
    "    \"\"\"\n",
    "    Description:\n",
    "    This funciton will count vectorize the input column data.\n",
    "\n",
    "    Input: dataframe column\n",
    "    Output: one-hot encoded values and the fitted vectorizer\n",
    "    \"\"\"\n",
    "    if count_vectorizer==None:\n",
    "        count_vectorizer = CountVectorizer()\n",
    "        count_vectorizer.fit(col_data)\n",
    "    ohe_data = count_vectorizer.transform(col_data)\n",
    "    return ohe_data, count_vectorizer"
   ]
  },
  {
   "cell_type": "code",
   "execution_count": 6,
   "id": "sacred-rates",
   "metadata": {
    "execution": {
     "iopub.execute_input": "2021-05-19T02:38:27.639856Z",
     "iopub.status.busy": "2021-05-19T02:38:27.639154Z",
     "iopub.status.idle": "2021-05-19T02:38:27.642517Z",
     "shell.execute_reply": "2021-05-19T02:38:27.641944Z"
    },
    "papermill": {
     "duration": 0.025629,
     "end_time": "2021-05-19T02:38:27.642682",
     "exception": false,
     "start_time": "2021-05-19T02:38:27.617053",
     "status": "completed"
    },
    "tags": []
   },
   "outputs": [],
   "source": [
    "def glove_vectorize_text_data(col):\n",
    "    \"\"\"\n",
    "    Description:\n",
    "    This funciton will glove vectorize (100 dimensions) the input text data\n",
    "\n",
    "    Input: dataframe column\n",
    "    Output: glove vectorized text data\n",
    "    \"\"\"\n",
    "    glove_path = '../input/glove-100d/glove.6B.100d.txt'\n",
    "    embeddings_index = dict()\n",
    "    with open(glove_path) as f:\n",
    "        for line in f:\n",
    "            w_coef = line.split()\n",
    "            word = w_coef[0]\n",
    "            coefs = np.asarray(w_coef[1:], dtype='float32')\n",
    "            embeddings_index[word]=coefs\n",
    "    print(len(embeddings_index))\n",
    "\n",
    "    # Avg Word2Vec\n",
    "    # compute Avg word2vec for each description.\n",
    "    avg_w2v_vectors = [] # the tfidf-w2v for each sentence is stored in this list\n",
    "    for sentence in tqdm(col): # for each sentence\n",
    "        vector = np.zeros(100) # as word vectors are of zero length\n",
    "        word_count=0 # num of words with a valid vector in the sentence\n",
    "        for word in str(sentence).split(): # for each word in a sentence\n",
    "            if word in embeddings_index.keys():\n",
    "                vec = embeddings_index[word] # getting the vector for each word\n",
    "                vector += vec\n",
    "                word_count += 1\n",
    "        if word_count != 0:\n",
    "            vector /= word_count\n",
    "        avg_w2v_vectors.append(vector)\n",
    "\n",
    "    return np.array(avg_w2v_vectors)"
   ]
  },
  {
   "cell_type": "markdown",
   "id": "constitutional-groove",
   "metadata": {
    "papermill": {
     "duration": 0.014972,
     "end_time": "2021-05-19T02:38:27.673601",
     "exception": false,
     "start_time": "2021-05-19T02:38:27.658629",
     "status": "completed"
    },
    "tags": []
   },
   "source": [
    "### Train data"
   ]
  },
  {
   "cell_type": "code",
   "execution_count": 7,
   "id": "wooden-metropolitan",
   "metadata": {
    "execution": {
     "iopub.execute_input": "2021-05-19T02:38:28.283645Z",
     "iopub.status.busy": "2021-05-19T02:38:28.277993Z",
     "iopub.status.idle": "2021-05-19T02:39:21.570269Z",
     "shell.execute_reply": "2021-05-19T02:39:21.569601Z"
    },
    "papermill": {
     "duration": 53.878504,
     "end_time": "2021-05-19T02:39:21.570411",
     "exception": false,
     "start_time": "2021-05-19T02:38:27.691907",
     "status": "completed"
    },
    "tags": []
   },
   "outputs": [],
   "source": [
    "general_cat_ohe_train, general_cat_vectorizer_train = vectorize_data(X_train['general_cat'].values.astype('U'))\n",
    "subcat_1_ohe_train, subcat_1_vectorizer_train = vectorize_data(X_train['subcat_1'].values.astype('U'))\n",
    "subcat_2_ohe_train, subcat_2_vectorizer_train = vectorize_data(X_train['subcat_2'].values.astype('U'))\n",
    "brand_name_ohe_train, brand_name_vectorizer_train = vectorize_data(X_train['brand_name'].values.astype('U'))\n",
    "item_name_ohe_train, item_name_vectorizer_train = vectorize_data(X_train['name'].values.astype('U'))"
   ]
  },
  {
   "cell_type": "code",
   "execution_count": 8,
   "id": "democratic-removal",
   "metadata": {
    "execution": {
     "iopub.execute_input": "2021-05-19T02:39:21.606744Z",
     "iopub.status.busy": "2021-05-19T02:39:21.606143Z",
     "iopub.status.idle": "2021-05-19T02:40:30.741680Z",
     "shell.execute_reply": "2021-05-19T02:40:30.742199Z"
    },
    "papermill": {
     "duration": 69.156393,
     "end_time": "2021-05-19T02:40:30.742411",
     "exception": false,
     "start_time": "2021-05-19T02:39:21.586018",
     "status": "completed"
    },
    "tags": []
   },
   "outputs": [
    {
     "name": "stdout",
     "output_type": "stream",
     "text": [
      "400001\n"
     ]
    },
    {
     "data": {
      "application/vnd.jupyter.widget-view+json": {
       "model_id": "b266194033d04ffa9e55cb2398e2aea4",
       "version_major": 2,
       "version_minor": 0
      },
      "text/plain": [
       "  0%|          | 0/1302134 [00:00<?, ?it/s]"
      ]
     },
     "metadata": {},
     "output_type": "display_data"
    },
    {
     "data": {
      "text/plain": [
       "(1302134, 100)"
      ]
     },
     "execution_count": 8,
     "metadata": {},
     "output_type": "execute_result"
    }
   ],
   "source": [
    "avg_w2v_vectors_train = glove_vectorize_text_data(X_train['item_description'].values)\n",
    "avg_w2v_vectors_train.shape"
   ]
  },
  {
   "cell_type": "code",
   "execution_count": 9,
   "id": "developing-indie",
   "metadata": {
    "execution": {
     "iopub.execute_input": "2021-05-19T02:40:30.783756Z",
     "iopub.status.busy": "2021-05-19T02:40:30.782783Z",
     "iopub.status.idle": "2021-05-19T02:40:39.449743Z",
     "shell.execute_reply": "2021-05-19T02:40:39.449259Z"
    },
    "papermill": {
     "duration": 8.690978,
     "end_time": "2021-05-19T02:40:39.449896",
     "exception": false,
     "start_time": "2021-05-19T02:40:30.758918",
     "status": "completed"
    },
    "tags": []
   },
   "outputs": [
    {
     "name": "stdout",
     "output_type": "stream",
     "text": [
      "==================================================\n",
      "Final Data matrix:\n",
      "(1302134, 103395) (1446816,)\n",
      "==================================================\n",
      "Size of X_tr in memory = 1722 MB\n"
     ]
    }
   ],
   "source": [
    "X_train_stack = hstack((general_cat_ohe_train, subcat_1_ohe_train, subcat_2_ohe_train, brand_name_ohe_train, item_name_ohe_train, avg_w2v_vectors_train, \n",
    "               X_train['desc_neg'].values.reshape(-1,1), \n",
    "               X_train['desc_neu'].values.reshape(-1,1),\n",
    "               X_train['desc_pos'].values.reshape(-1,1),\n",
    "               X_train['scaler_desc_len'].values.reshape(-1,1),\n",
    "               X_train['scaler_name_len'].values.reshape(-1,1), \n",
    "               X_train['item_condition_id'].values.reshape(-1,1), \n",
    "               X_train['is_expensive'].values.reshape(-1,1), \n",
    "               X_train['shipping'].values.reshape(-1,1))).tocsr()\n",
    "\n",
    "print(\"=\"*50)\n",
    "print(\"Final Data matrix:\")\n",
    "print(X_train_stack.shape, y.shape)\n",
    "print(\"=\"*50)\n",
    "\n",
    "X_train_size = X_train_stack.data.nbytes + X_train_stack.indptr.nbytes + X_train_stack.indices.nbytes\n",
    "print(\"Size of X_tr in memory =\", int(X_train_size/1024/1024),\"MB\")"
   ]
  },
  {
   "cell_type": "markdown",
   "id": "sunrise-cartoon",
   "metadata": {
    "papermill": {
     "duration": 0.016412,
     "end_time": "2021-05-19T02:40:39.482906",
     "exception": false,
     "start_time": "2021-05-19T02:40:39.466494",
     "status": "completed"
    },
    "tags": []
   },
   "source": [
    "### Test Data"
   ]
  },
  {
   "cell_type": "code",
   "execution_count": 10,
   "id": "administrative-extra",
   "metadata": {
    "execution": {
     "iopub.execute_input": "2021-05-19T02:40:39.554430Z",
     "iopub.status.busy": "2021-05-19T02:40:39.553390Z",
     "iopub.status.idle": "2021-05-19T02:40:42.737366Z",
     "shell.execute_reply": "2021-05-19T02:40:42.736857Z"
    },
    "papermill": {
     "duration": 3.238274,
     "end_time": "2021-05-19T02:40:42.737522",
     "exception": false,
     "start_time": "2021-05-19T02:40:39.499248",
     "status": "completed"
    },
    "tags": []
   },
   "outputs": [],
   "source": [
    "general_cat_ohe_test, general_cat_vectorizer_test = vectorize_data(X_test['general_cat'].values.astype('U'), general_cat_vectorizer_train)\n",
    "subcat_1_ohe_test, subcat_1_vector_test = vectorize_data(X_test['subcat_1'].values.astype('U'), subcat_1_vectorizer_train)\n",
    "subcat_2_ohe_test, subcat_2_vectorizer_test = vectorize_data(X_test['subcat_2'].values.astype('U'), subcat_2_vectorizer_train)\n",
    "brand_name_ohe_test, brand_name_vectorizer_test = vectorize_data(X_test['brand_name'].values.astype('U'), brand_name_vectorizer_train)\n",
    "item_name_ohe_test, item_name_vectorizer_test = vectorize_data(X_test['name'].values.astype('U'), item_name_vectorizer_train)"
   ]
  },
  {
   "cell_type": "code",
   "execution_count": 11,
   "id": "virgin-technique",
   "metadata": {
    "execution": {
     "iopub.execute_input": "2021-05-19T02:40:42.776797Z",
     "iopub.status.busy": "2021-05-19T02:40:42.776062Z",
     "iopub.status.idle": "2021-05-19T02:40:59.764412Z",
     "shell.execute_reply": "2021-05-19T02:40:59.763796Z"
    },
    "papermill": {
     "duration": 17.009468,
     "end_time": "2021-05-19T02:40:59.764559",
     "exception": false,
     "start_time": "2021-05-19T02:40:42.755091",
     "status": "completed"
    },
    "tags": []
   },
   "outputs": [
    {
     "name": "stdout",
     "output_type": "stream",
     "text": [
      "400001\n"
     ]
    },
    {
     "data": {
      "application/vnd.jupyter.widget-view+json": {
       "model_id": "eebdf26d148f4fbe8cdef9307dcddbc2",
       "version_major": 2,
       "version_minor": 0
      },
      "text/plain": [
       "  0%|          | 0/144682 [00:00<?, ?it/s]"
      ]
     },
     "metadata": {},
     "output_type": "display_data"
    },
    {
     "data": {
      "text/plain": [
       "(144682, 100)"
      ]
     },
     "execution_count": 11,
     "metadata": {},
     "output_type": "execute_result"
    }
   ],
   "source": [
    "avg_w2v_vectors_test = glove_vectorize_text_data(X_test['item_description'].values)\n",
    "avg_w2v_vectors_test.shape"
   ]
  },
  {
   "cell_type": "code",
   "execution_count": 12,
   "id": "enabling-swedish",
   "metadata": {
    "execution": {
     "iopub.execute_input": "2021-05-19T02:40:59.812423Z",
     "iopub.status.busy": "2021-05-19T02:40:59.811451Z",
     "iopub.status.idle": "2021-05-19T02:41:00.697494Z",
     "shell.execute_reply": "2021-05-19T02:41:00.696835Z"
    },
    "papermill": {
     "duration": 0.912794,
     "end_time": "2021-05-19T02:41:00.697644",
     "exception": false,
     "start_time": "2021-05-19T02:40:59.784850",
     "status": "completed"
    },
    "tags": []
   },
   "outputs": [
    {
     "name": "stdout",
     "output_type": "stream",
     "text": [
      "==================================================\n",
      "Final Data matrix:\n",
      "(144682, 103395) (144682,)\n",
      "==================================================\n",
      "Size of X_te in memory = 191 MB\n"
     ]
    }
   ],
   "source": [
    "X_test_stack = hstack((general_cat_ohe_test, subcat_1_ohe_test, subcat_2_ohe_test, brand_name_ohe_test, item_name_ohe_test, avg_w2v_vectors_test, \n",
    "               X_test['desc_neg'].values.reshape(-1,1), \n",
    "               X_test['desc_neu'].values.reshape(-1,1),\n",
    "               X_test['desc_pos'].values.reshape(-1,1),\n",
    "               X_test['scaler_desc_len'].values.reshape(-1,1),\n",
    "               X_test['scaler_name_len'].values.reshape(-1,1), \n",
    "               X_test['item_condition_id'].values.reshape(-1,1), \n",
    "               X_test['is_expensive'].values.reshape(-1,1), \n",
    "               X_test['shipping'].values.reshape(-1,1))).tocsr()\n",
    "\n",
    "print(\"=\"*50)\n",
    "print(\"Final Data matrix:\")\n",
    "print(X_test_stack.shape, y_test.shape)\n",
    "print(\"=\"*50)\n",
    "\n",
    "X_test_stack_size = X_test_stack.data.nbytes + X_test_stack.indptr.nbytes + X_test_stack.indices.nbytes\n",
    "print(\"Size of X_te in memory =\", int(X_test_stack_size/1024/1024),\"MB\")"
   ]
  },
  {
   "cell_type": "code",
   "execution_count": 13,
   "id": "adjacent-northern",
   "metadata": {
    "execution": {
     "iopub.execute_input": "2021-05-19T02:41:00.744872Z",
     "iopub.status.busy": "2021-05-19T02:41:00.743959Z",
     "iopub.status.idle": "2021-05-19T02:42:32.675400Z",
     "shell.execute_reply": "2021-05-19T02:42:32.675962Z"
    },
    "papermill": {
     "duration": 91.959743,
     "end_time": "2021-05-19T02:42:32.676205",
     "exception": false,
     "start_time": "2021-05-19T02:41:00.716462",
     "status": "completed"
    },
    "tags": []
   },
   "outputs": [],
   "source": [
    "scipy.sparse.save_npz('./mercari_mlp_train_input.npz', X_train_stack)"
   ]
  },
  {
   "cell_type": "code",
   "execution_count": 14,
   "id": "backed-allowance",
   "metadata": {
    "execution": {
     "iopub.execute_input": "2021-05-19T02:42:32.718842Z",
     "iopub.status.busy": "2021-05-19T02:42:32.718082Z",
     "iopub.status.idle": "2021-05-19T02:42:42.881178Z",
     "shell.execute_reply": "2021-05-19T02:42:42.880606Z"
    },
    "papermill": {
     "duration": 10.186637,
     "end_time": "2021-05-19T02:42:42.881342",
     "exception": false,
     "start_time": "2021-05-19T02:42:32.694705",
     "status": "completed"
    },
    "tags": []
   },
   "outputs": [],
   "source": [
    "scipy.sparse.save_npz('./mercari_mlp_test_input.npz', X_test_stack)"
   ]
  },
  {
   "cell_type": "code",
   "execution_count": 15,
   "id": "senior-turning",
   "metadata": {
    "execution": {
     "iopub.execute_input": "2021-05-19T02:42:43.392678Z",
     "iopub.status.busy": "2021-05-19T02:42:43.392088Z",
     "iopub.status.idle": "2021-05-19T02:42:44.614523Z",
     "shell.execute_reply": "2021-05-19T02:42:44.614035Z"
    },
    "papermill": {
     "duration": 1.714965,
     "end_time": "2021-05-19T02:42:44.614669",
     "exception": false,
     "start_time": "2021-05-19T02:42:42.899704",
     "status": "completed"
    },
    "tags": []
   },
   "outputs": [],
   "source": [
    "scipy.sparse.save_npz('./mercari_mlp_train_labels.npz', scipy.sparse.csr_matrix(y_train).reshape(-1,1))"
   ]
  },
  {
   "cell_type": "code",
   "execution_count": 16,
   "id": "starting-review",
   "metadata": {
    "execution": {
     "iopub.execute_input": "2021-05-19T02:42:44.656504Z",
     "iopub.status.busy": "2021-05-19T02:42:44.655916Z",
     "iopub.status.idle": "2021-05-19T02:42:44.797267Z",
     "shell.execute_reply": "2021-05-19T02:42:44.796733Z"
    },
    "papermill": {
     "duration": 0.163535,
     "end_time": "2021-05-19T02:42:44.797412",
     "exception": false,
     "start_time": "2021-05-19T02:42:44.633877",
     "status": "completed"
    },
    "tags": []
   },
   "outputs": [],
   "source": [
    "scipy.sparse.save_npz('./mercari_mlp_test_labels.npz', scipy.sparse.csr_matrix(y_test).reshape(-1,1))"
   ]
  },
  {
   "cell_type": "markdown",
   "id": "initial-recipient",
   "metadata": {
    "papermill": {
     "duration": 0.018452,
     "end_time": "2021-05-19T02:42:44.834042",
     "exception": false,
     "start_time": "2021-05-19T02:42:44.815590",
     "status": "completed"
    },
    "tags": []
   },
   "source": [
    "### Split sub-train data into train input and val input"
   ]
  },
  {
   "cell_type": "code",
   "execution_count": 17,
   "id": "flexible-material",
   "metadata": {
    "execution": {
     "iopub.execute_input": "2021-05-19T02:42:44.876401Z",
     "iopub.status.busy": "2021-05-19T02:42:44.875498Z",
     "iopub.status.idle": "2021-05-19T02:42:44.877992Z",
     "shell.execute_reply": "2021-05-19T02:42:44.878443Z"
    },
    "papermill": {
     "duration": 0.024903,
     "end_time": "2021-05-19T02:42:44.878607",
     "exception": false,
     "start_time": "2021-05-19T02:42:44.853704",
     "status": "completed"
    },
    "tags": []
   },
   "outputs": [],
   "source": [
    "# y_train = np.asarray(y_train)\n",
    "# y_test = np.asarray(y_test)"
   ]
  },
  {
   "cell_type": "code",
   "execution_count": 18,
   "id": "potential-creek",
   "metadata": {
    "execution": {
     "iopub.execute_input": "2021-05-19T02:42:44.918499Z",
     "iopub.status.busy": "2021-05-19T02:42:44.917937Z",
     "iopub.status.idle": "2021-05-19T02:42:44.920620Z",
     "shell.execute_reply": "2021-05-19T02:42:44.920146Z"
    },
    "papermill": {
     "duration": 0.024072,
     "end_time": "2021-05-19T02:42:44.920754",
     "exception": false,
     "start_time": "2021-05-19T02:42:44.896682",
     "status": "completed"
    },
    "tags": []
   },
   "outputs": [],
   "source": [
    "# X_tr, X_val, y_tr, y_val = train_test_split(X_train_stack, y_train, test_size=0.10, random_state=42)\n",
    "# print(X_tr.shape, y_tr.shape)\n",
    "# print(X_val.shape, y_val.shape)"
   ]
  },
  {
   "cell_type": "code",
   "execution_count": 19,
   "id": "exclusive-advocacy",
   "metadata": {
    "execution": {
     "iopub.execute_input": "2021-05-19T02:42:44.962311Z",
     "iopub.status.busy": "2021-05-19T02:42:44.961651Z",
     "iopub.status.idle": "2021-05-19T02:42:44.964466Z",
     "shell.execute_reply": "2021-05-19T02:42:44.963985Z"
    },
    "papermill": {
     "duration": 0.025329,
     "end_time": "2021-05-19T02:42:44.964609",
     "exception": false,
     "start_time": "2021-05-19T02:42:44.939280",
     "status": "completed"
    },
    "tags": []
   },
   "outputs": [],
   "source": [
    "# scipy.sparse.save_npz('./mercari_mlp_train_input.npz', X_tr)"
   ]
  },
  {
   "cell_type": "code",
   "execution_count": 20,
   "id": "meaningful-treat",
   "metadata": {
    "execution": {
     "iopub.execute_input": "2021-05-19T02:42:45.007329Z",
     "iopub.status.busy": "2021-05-19T02:42:45.006649Z",
     "iopub.status.idle": "2021-05-19T02:42:45.009408Z",
     "shell.execute_reply": "2021-05-19T02:42:45.008865Z"
    },
    "papermill": {
     "duration": 0.026379,
     "end_time": "2021-05-19T02:42:45.009544",
     "exception": false,
     "start_time": "2021-05-19T02:42:44.983165",
     "status": "completed"
    },
    "tags": []
   },
   "outputs": [],
   "source": [
    "# scipy.sparse.save_npz('./mercari_mlp_val_input.npz', X_val)"
   ]
  },
  {
   "cell_type": "code",
   "execution_count": 21,
   "id": "comic-youth",
   "metadata": {
    "execution": {
     "iopub.execute_input": "2021-05-19T02:42:45.050874Z",
     "iopub.status.busy": "2021-05-19T02:42:45.050246Z",
     "iopub.status.idle": "2021-05-19T02:42:45.053642Z",
     "shell.execute_reply": "2021-05-19T02:42:45.053155Z"
    },
    "papermill": {
     "duration": 0.025661,
     "end_time": "2021-05-19T02:42:45.053789",
     "exception": false,
     "start_time": "2021-05-19T02:42:45.028128",
     "status": "completed"
    },
    "tags": []
   },
   "outputs": [],
   "source": [
    "# scipy.sparse.save_npz('./mercari_mlp_test_input.npz', X_te)"
   ]
  },
  {
   "cell_type": "markdown",
   "id": "behavioral-exception",
   "metadata": {
    "papermill": {
     "duration": 0.018245,
     "end_time": "2021-05-19T02:42:45.091297",
     "exception": false,
     "start_time": "2021-05-19T02:42:45.073052",
     "status": "completed"
    },
    "tags": []
   },
   "source": [
    "#### Converting label to sparse matrix and reshape from (dim1, dim2) to (dim2, dim1) as it's diffirent shape as numpy labels format"
   ]
  },
  {
   "cell_type": "code",
   "execution_count": 22,
   "id": "ranging-oliver",
   "metadata": {
    "execution": {
     "iopub.execute_input": "2021-05-19T02:42:45.133307Z",
     "iopub.status.busy": "2021-05-19T02:42:45.132626Z",
     "iopub.status.idle": "2021-05-19T02:42:45.135353Z",
     "shell.execute_reply": "2021-05-19T02:42:45.134889Z"
    },
    "papermill": {
     "duration": 0.025746,
     "end_time": "2021-05-19T02:42:45.135497",
     "exception": false,
     "start_time": "2021-05-19T02:42:45.109751",
     "status": "completed"
    },
    "tags": []
   },
   "outputs": [],
   "source": [
    "# scipy.sparse.save_npz('./mercari_mlp_train_labels.npz', scipy.sparse.csr_matrix(y_tr).reshape(-1,1))"
   ]
  },
  {
   "cell_type": "code",
   "execution_count": 23,
   "id": "elect-indication",
   "metadata": {
    "execution": {
     "iopub.execute_input": "2021-05-19T02:42:45.181228Z",
     "iopub.status.busy": "2021-05-19T02:42:45.180515Z",
     "iopub.status.idle": "2021-05-19T02:42:45.182966Z",
     "shell.execute_reply": "2021-05-19T02:42:45.183373Z"
    },
    "papermill": {
     "duration": 0.028218,
     "end_time": "2021-05-19T02:42:45.183548",
     "exception": false,
     "start_time": "2021-05-19T02:42:45.155330",
     "status": "completed"
    },
    "tags": []
   },
   "outputs": [],
   "source": [
    "# scipy.sparse.save_npz('./mercari_mlp_val_labels.npz', scipy.sparse.csr_matrix(y_val).reshape(-1,1))"
   ]
  },
  {
   "cell_type": "code",
   "execution_count": 24,
   "id": "english-trading",
   "metadata": {
    "execution": {
     "iopub.execute_input": "2021-05-19T02:42:45.228799Z",
     "iopub.status.busy": "2021-05-19T02:42:45.228140Z",
     "iopub.status.idle": "2021-05-19T02:42:45.231076Z",
     "shell.execute_reply": "2021-05-19T02:42:45.231526Z"
    },
    "papermill": {
     "duration": 0.02627,
     "end_time": "2021-05-19T02:42:45.231704",
     "exception": false,
     "start_time": "2021-05-19T02:42:45.205434",
     "status": "completed"
    },
    "tags": []
   },
   "outputs": [],
   "source": [
    "# scipy.sparse.save_npz('./mercari_mlp_test_labels.npz', scipy.sparse.csr_matrix(y_test).reshape(-1,1))"
   ]
  },
  {
   "cell_type": "code",
   "execution_count": null,
   "id": "outer-receiver",
   "metadata": {
    "papermill": {
     "duration": 0.018736,
     "end_time": "2021-05-19T02:42:45.270478",
     "exception": false,
     "start_time": "2021-05-19T02:42:45.251742",
     "status": "completed"
    },
    "tags": []
   },
   "outputs": [],
   "source": []
  }
 ],
 "metadata": {
  "kernelspec": {
   "display_name": "Python 3",
   "language": "python",
   "name": "python3"
  },
  "language_info": {
   "codemirror_mode": {
    "name": "ipython",
    "version": 3
   },
   "file_extension": ".py",
   "mimetype": "text/x-python",
   "name": "python",
   "nbconvert_exporter": "python",
   "pygments_lexer": "ipython3",
   "version": "3.7.10"
  },
  "papermill": {
   "default_parameters": {},
   "duration": 292.992258,
   "end_time": "2021-05-19T02:42:47.009699",
   "environment_variables": {},
   "exception": null,
   "input_path": "__notebook__.ipynb",
   "output_path": "__notebook__.ipynb",
   "parameters": {},
   "start_time": "2021-05-19T02:37:54.017441",
   "version": "2.3.3"
  },
  "widgets": {
   "application/vnd.jupyter.widget-state+json": {
    "state": {
     "0f534f5508b54baebc8016222aa7e223": {
      "model_module": "@jupyter-widgets/base",
      "model_module_version": "1.2.0",
      "model_name": "LayoutModel",
      "state": {
       "_model_module": "@jupyter-widgets/base",
       "_model_module_version": "1.2.0",
       "_model_name": "LayoutModel",
       "_view_count": null,
       "_view_module": "@jupyter-widgets/base",
       "_view_module_version": "1.2.0",
       "_view_name": "LayoutView",
       "align_content": null,
       "align_items": null,
       "align_self": null,
       "border": null,
       "bottom": null,
       "display": null,
       "flex": null,
       "flex_flow": null,
       "grid_area": null,
       "grid_auto_columns": null,
       "grid_auto_flow": null,
       "grid_auto_rows": null,
       "grid_column": null,
       "grid_gap": null,
       "grid_row": null,
       "grid_template_areas": null,
       "grid_template_columns": null,
       "grid_template_rows": null,
       "height": null,
       "justify_content": null,
       "justify_items": null,
       "left": null,
       "margin": null,
       "max_height": null,
       "max_width": null,
       "min_height": null,
       "min_width": null,
       "object_fit": null,
       "object_position": null,
       "order": null,
       "overflow": null,
       "overflow_x": null,
       "overflow_y": null,
       "padding": null,
       "right": null,
       "top": null,
       "visibility": null,
       "width": null
      }
     },
     "17917e8d0abe44858adf1a26c099eaba": {
      "model_module": "@jupyter-widgets/controls",
      "model_module_version": "1.5.0",
      "model_name": "FloatProgressModel",
      "state": {
       "_dom_classes": [],
       "_model_module": "@jupyter-widgets/controls",
       "_model_module_version": "1.5.0",
       "_model_name": "FloatProgressModel",
       "_view_count": null,
       "_view_module": "@jupyter-widgets/controls",
       "_view_module_version": "1.5.0",
       "_view_name": "ProgressView",
       "bar_style": "success",
       "description": "",
       "description_tooltip": null,
       "layout": "IPY_MODEL_94fd10814c944821bd7d34364a8c6b2c",
       "max": 1302134.0,
       "min": 0.0,
       "orientation": "horizontal",
       "style": "IPY_MODEL_b5b1ecc3bda341f1abf093a054857cef",
       "value": 1302134.0
      }
     },
     "2fc2fd8270a94e40b9d7a9c0bbd9a4d8": {
      "model_module": "@jupyter-widgets/base",
      "model_module_version": "1.2.0",
      "model_name": "LayoutModel",
      "state": {
       "_model_module": "@jupyter-widgets/base",
       "_model_module_version": "1.2.0",
       "_model_name": "LayoutModel",
       "_view_count": null,
       "_view_module": "@jupyter-widgets/base",
       "_view_module_version": "1.2.0",
       "_view_name": "LayoutView",
       "align_content": null,
       "align_items": null,
       "align_self": null,
       "border": null,
       "bottom": null,
       "display": null,
       "flex": null,
       "flex_flow": null,
       "grid_area": null,
       "grid_auto_columns": null,
       "grid_auto_flow": null,
       "grid_auto_rows": null,
       "grid_column": null,
       "grid_gap": null,
       "grid_row": null,
       "grid_template_areas": null,
       "grid_template_columns": null,
       "grid_template_rows": null,
       "height": null,
       "justify_content": null,
       "justify_items": null,
       "left": null,
       "margin": null,
       "max_height": null,
       "max_width": null,
       "min_height": null,
       "min_width": null,
       "object_fit": null,
       "object_position": null,
       "order": null,
       "overflow": null,
       "overflow_x": null,
       "overflow_y": null,
       "padding": null,
       "right": null,
       "top": null,
       "visibility": null,
       "width": null
      }
     },
     "52be1631e9804806b88b3048dff8abd5": {
      "model_module": "@jupyter-widgets/base",
      "model_module_version": "1.2.0",
      "model_name": "LayoutModel",
      "state": {
       "_model_module": "@jupyter-widgets/base",
       "_model_module_version": "1.2.0",
       "_model_name": "LayoutModel",
       "_view_count": null,
       "_view_module": "@jupyter-widgets/base",
       "_view_module_version": "1.2.0",
       "_view_name": "LayoutView",
       "align_content": null,
       "align_items": null,
       "align_self": null,
       "border": null,
       "bottom": null,
       "display": null,
       "flex": null,
       "flex_flow": null,
       "grid_area": null,
       "grid_auto_columns": null,
       "grid_auto_flow": null,
       "grid_auto_rows": null,
       "grid_column": null,
       "grid_gap": null,
       "grid_row": null,
       "grid_template_areas": null,
       "grid_template_columns": null,
       "grid_template_rows": null,
       "height": null,
       "justify_content": null,
       "justify_items": null,
       "left": null,
       "margin": null,
       "max_height": null,
       "max_width": null,
       "min_height": null,
       "min_width": null,
       "object_fit": null,
       "object_position": null,
       "order": null,
       "overflow": null,
       "overflow_x": null,
       "overflow_y": null,
       "padding": null,
       "right": null,
       "top": null,
       "visibility": null,
       "width": null
      }
     },
     "7efcf5df4cca4b0d9a93f8d205c37a9e": {
      "model_module": "@jupyter-widgets/controls",
      "model_module_version": "1.5.0",
      "model_name": "HTMLModel",
      "state": {
       "_dom_classes": [],
       "_model_module": "@jupyter-widgets/controls",
       "_model_module_version": "1.5.0",
       "_model_name": "HTMLModel",
       "_view_count": null,
       "_view_module": "@jupyter-widgets/controls",
       "_view_module_version": "1.5.0",
       "_view_name": "HTMLView",
       "description": "",
       "description_tooltip": null,
       "layout": "IPY_MODEL_52be1631e9804806b88b3048dff8abd5",
       "placeholder": "​",
       "style": "IPY_MODEL_ab1b6aa377d24b4bae55a674da40a525",
       "value": "100%"
      }
     },
     "8642f4baf91f4f89b7dd20c20c91f687": {
      "model_module": "@jupyter-widgets/controls",
      "model_module_version": "1.5.0",
      "model_name": "HTMLModel",
      "state": {
       "_dom_classes": [],
       "_model_module": "@jupyter-widgets/controls",
       "_model_module_version": "1.5.0",
       "_model_name": "HTMLModel",
       "_view_count": null,
       "_view_module": "@jupyter-widgets/controls",
       "_view_module_version": "1.5.0",
       "_view_name": "HTMLView",
       "description": "",
       "description_tooltip": null,
       "layout": "IPY_MODEL_cedd60d73baa497baed9e97ca4d49b0d",
       "placeholder": "​",
       "style": "IPY_MODEL_bf6128fec56a4015875fcb64cfa700ae",
       "value": "100%"
      }
     },
     "919b56fb08874d72b940ed68fa25c89c": {
      "model_module": "@jupyter-widgets/controls",
      "model_module_version": "1.5.0",
      "model_name": "HTMLModel",
      "state": {
       "_dom_classes": [],
       "_model_module": "@jupyter-widgets/controls",
       "_model_module_version": "1.5.0",
       "_model_name": "HTMLModel",
       "_view_count": null,
       "_view_module": "@jupyter-widgets/controls",
       "_view_module_version": "1.5.0",
       "_view_name": "HTMLView",
       "description": "",
       "description_tooltip": null,
       "layout": "IPY_MODEL_e5afd91907064c8d8b355e844c6a375d",
       "placeholder": "​",
       "style": "IPY_MODEL_b26a62f857aa4689b4ba4044afa2baf0",
       "value": " 1302134/1302134 [00:54&lt;00:00, 24111.64it/s]"
      }
     },
     "93ce37ab566c47a09d15158ed962b8dd": {
      "model_module": "@jupyter-widgets/controls",
      "model_module_version": "1.5.0",
      "model_name": "FloatProgressModel",
      "state": {
       "_dom_classes": [],
       "_model_module": "@jupyter-widgets/controls",
       "_model_module_version": "1.5.0",
       "_model_name": "FloatProgressModel",
       "_view_count": null,
       "_view_module": "@jupyter-widgets/controls",
       "_view_module_version": "1.5.0",
       "_view_name": "ProgressView",
       "bar_style": "success",
       "description": "",
       "description_tooltip": null,
       "layout": "IPY_MODEL_a4edce8baea940e286e60a5991089da8",
       "max": 144682.0,
       "min": 0.0,
       "orientation": "horizontal",
       "style": "IPY_MODEL_ad98aa8136d64406b3435b455bd99abe",
       "value": 144682.0
      }
     },
     "94fd10814c944821bd7d34364a8c6b2c": {
      "model_module": "@jupyter-widgets/base",
      "model_module_version": "1.2.0",
      "model_name": "LayoutModel",
      "state": {
       "_model_module": "@jupyter-widgets/base",
       "_model_module_version": "1.2.0",
       "_model_name": "LayoutModel",
       "_view_count": null,
       "_view_module": "@jupyter-widgets/base",
       "_view_module_version": "1.2.0",
       "_view_name": "LayoutView",
       "align_content": null,
       "align_items": null,
       "align_self": null,
       "border": null,
       "bottom": null,
       "display": null,
       "flex": null,
       "flex_flow": null,
       "grid_area": null,
       "grid_auto_columns": null,
       "grid_auto_flow": null,
       "grid_auto_rows": null,
       "grid_column": null,
       "grid_gap": null,
       "grid_row": null,
       "grid_template_areas": null,
       "grid_template_columns": null,
       "grid_template_rows": null,
       "height": null,
       "justify_content": null,
       "justify_items": null,
       "left": null,
       "margin": null,
       "max_height": null,
       "max_width": null,
       "min_height": null,
       "min_width": null,
       "object_fit": null,
       "object_position": null,
       "order": null,
       "overflow": null,
       "overflow_x": null,
       "overflow_y": null,
       "padding": null,
       "right": null,
       "top": null,
       "visibility": null,
       "width": null
      }
     },
     "95ccb12d105a43f9ae35ce8be90efb06": {
      "model_module": "@jupyter-widgets/controls",
      "model_module_version": "1.5.0",
      "model_name": "HTMLModel",
      "state": {
       "_dom_classes": [],
       "_model_module": "@jupyter-widgets/controls",
       "_model_module_version": "1.5.0",
       "_model_name": "HTMLModel",
       "_view_count": null,
       "_view_module": "@jupyter-widgets/controls",
       "_view_module_version": "1.5.0",
       "_view_name": "HTMLView",
       "description": "",
       "description_tooltip": null,
       "layout": "IPY_MODEL_f9be3cb630db414aaf79c88e9d6299fa",
       "placeholder": "​",
       "style": "IPY_MODEL_cc9be6f33ccd4e99a33648895c2530d5",
       "value": " 144682/144682 [00:06&lt;00:00, 25008.84it/s]"
      }
     },
     "a4edce8baea940e286e60a5991089da8": {
      "model_module": "@jupyter-widgets/base",
      "model_module_version": "1.2.0",
      "model_name": "LayoutModel",
      "state": {
       "_model_module": "@jupyter-widgets/base",
       "_model_module_version": "1.2.0",
       "_model_name": "LayoutModel",
       "_view_count": null,
       "_view_module": "@jupyter-widgets/base",
       "_view_module_version": "1.2.0",
       "_view_name": "LayoutView",
       "align_content": null,
       "align_items": null,
       "align_self": null,
       "border": null,
       "bottom": null,
       "display": null,
       "flex": null,
       "flex_flow": null,
       "grid_area": null,
       "grid_auto_columns": null,
       "grid_auto_flow": null,
       "grid_auto_rows": null,
       "grid_column": null,
       "grid_gap": null,
       "grid_row": null,
       "grid_template_areas": null,
       "grid_template_columns": null,
       "grid_template_rows": null,
       "height": null,
       "justify_content": null,
       "justify_items": null,
       "left": null,
       "margin": null,
       "max_height": null,
       "max_width": null,
       "min_height": null,
       "min_width": null,
       "object_fit": null,
       "object_position": null,
       "order": null,
       "overflow": null,
       "overflow_x": null,
       "overflow_y": null,
       "padding": null,
       "right": null,
       "top": null,
       "visibility": null,
       "width": null
      }
     },
     "ab1b6aa377d24b4bae55a674da40a525": {
      "model_module": "@jupyter-widgets/controls",
      "model_module_version": "1.5.0",
      "model_name": "DescriptionStyleModel",
      "state": {
       "_model_module": "@jupyter-widgets/controls",
       "_model_module_version": "1.5.0",
       "_model_name": "DescriptionStyleModel",
       "_view_count": null,
       "_view_module": "@jupyter-widgets/base",
       "_view_module_version": "1.2.0",
       "_view_name": "StyleView",
       "description_width": ""
      }
     },
     "ad98aa8136d64406b3435b455bd99abe": {
      "model_module": "@jupyter-widgets/controls",
      "model_module_version": "1.5.0",
      "model_name": "ProgressStyleModel",
      "state": {
       "_model_module": "@jupyter-widgets/controls",
       "_model_module_version": "1.5.0",
       "_model_name": "ProgressStyleModel",
       "_view_count": null,
       "_view_module": "@jupyter-widgets/base",
       "_view_module_version": "1.2.0",
       "_view_name": "StyleView",
       "bar_color": null,
       "description_width": ""
      }
     },
     "b266194033d04ffa9e55cb2398e2aea4": {
      "model_module": "@jupyter-widgets/controls",
      "model_module_version": "1.5.0",
      "model_name": "HBoxModel",
      "state": {
       "_dom_classes": [],
       "_model_module": "@jupyter-widgets/controls",
       "_model_module_version": "1.5.0",
       "_model_name": "HBoxModel",
       "_view_count": null,
       "_view_module": "@jupyter-widgets/controls",
       "_view_module_version": "1.5.0",
       "_view_name": "HBoxView",
       "box_style": "",
       "children": [
        "IPY_MODEL_8642f4baf91f4f89b7dd20c20c91f687",
        "IPY_MODEL_17917e8d0abe44858adf1a26c099eaba",
        "IPY_MODEL_919b56fb08874d72b940ed68fa25c89c"
       ],
       "layout": "IPY_MODEL_2fc2fd8270a94e40b9d7a9c0bbd9a4d8"
      }
     },
     "b26a62f857aa4689b4ba4044afa2baf0": {
      "model_module": "@jupyter-widgets/controls",
      "model_module_version": "1.5.0",
      "model_name": "DescriptionStyleModel",
      "state": {
       "_model_module": "@jupyter-widgets/controls",
       "_model_module_version": "1.5.0",
       "_model_name": "DescriptionStyleModel",
       "_view_count": null,
       "_view_module": "@jupyter-widgets/base",
       "_view_module_version": "1.2.0",
       "_view_name": "StyleView",
       "description_width": ""
      }
     },
     "b5b1ecc3bda341f1abf093a054857cef": {
      "model_module": "@jupyter-widgets/controls",
      "model_module_version": "1.5.0",
      "model_name": "ProgressStyleModel",
      "state": {
       "_model_module": "@jupyter-widgets/controls",
       "_model_module_version": "1.5.0",
       "_model_name": "ProgressStyleModel",
       "_view_count": null,
       "_view_module": "@jupyter-widgets/base",
       "_view_module_version": "1.2.0",
       "_view_name": "StyleView",
       "bar_color": null,
       "description_width": ""
      }
     },
     "bf6128fec56a4015875fcb64cfa700ae": {
      "model_module": "@jupyter-widgets/controls",
      "model_module_version": "1.5.0",
      "model_name": "DescriptionStyleModel",
      "state": {
       "_model_module": "@jupyter-widgets/controls",
       "_model_module_version": "1.5.0",
       "_model_name": "DescriptionStyleModel",
       "_view_count": null,
       "_view_module": "@jupyter-widgets/base",
       "_view_module_version": "1.2.0",
       "_view_name": "StyleView",
       "description_width": ""
      }
     },
     "cc9be6f33ccd4e99a33648895c2530d5": {
      "model_module": "@jupyter-widgets/controls",
      "model_module_version": "1.5.0",
      "model_name": "DescriptionStyleModel",
      "state": {
       "_model_module": "@jupyter-widgets/controls",
       "_model_module_version": "1.5.0",
       "_model_name": "DescriptionStyleModel",
       "_view_count": null,
       "_view_module": "@jupyter-widgets/base",
       "_view_module_version": "1.2.0",
       "_view_name": "StyleView",
       "description_width": ""
      }
     },
     "cedd60d73baa497baed9e97ca4d49b0d": {
      "model_module": "@jupyter-widgets/base",
      "model_module_version": "1.2.0",
      "model_name": "LayoutModel",
      "state": {
       "_model_module": "@jupyter-widgets/base",
       "_model_module_version": "1.2.0",
       "_model_name": "LayoutModel",
       "_view_count": null,
       "_view_module": "@jupyter-widgets/base",
       "_view_module_version": "1.2.0",
       "_view_name": "LayoutView",
       "align_content": null,
       "align_items": null,
       "align_self": null,
       "border": null,
       "bottom": null,
       "display": null,
       "flex": null,
       "flex_flow": null,
       "grid_area": null,
       "grid_auto_columns": null,
       "grid_auto_flow": null,
       "grid_auto_rows": null,
       "grid_column": null,
       "grid_gap": null,
       "grid_row": null,
       "grid_template_areas": null,
       "grid_template_columns": null,
       "grid_template_rows": null,
       "height": null,
       "justify_content": null,
       "justify_items": null,
       "left": null,
       "margin": null,
       "max_height": null,
       "max_width": null,
       "min_height": null,
       "min_width": null,
       "object_fit": null,
       "object_position": null,
       "order": null,
       "overflow": null,
       "overflow_x": null,
       "overflow_y": null,
       "padding": null,
       "right": null,
       "top": null,
       "visibility": null,
       "width": null
      }
     },
     "e5afd91907064c8d8b355e844c6a375d": {
      "model_module": "@jupyter-widgets/base",
      "model_module_version": "1.2.0",
      "model_name": "LayoutModel",
      "state": {
       "_model_module": "@jupyter-widgets/base",
       "_model_module_version": "1.2.0",
       "_model_name": "LayoutModel",
       "_view_count": null,
       "_view_module": "@jupyter-widgets/base",
       "_view_module_version": "1.2.0",
       "_view_name": "LayoutView",
       "align_content": null,
       "align_items": null,
       "align_self": null,
       "border": null,
       "bottom": null,
       "display": null,
       "flex": null,
       "flex_flow": null,
       "grid_area": null,
       "grid_auto_columns": null,
       "grid_auto_flow": null,
       "grid_auto_rows": null,
       "grid_column": null,
       "grid_gap": null,
       "grid_row": null,
       "grid_template_areas": null,
       "grid_template_columns": null,
       "grid_template_rows": null,
       "height": null,
       "justify_content": null,
       "justify_items": null,
       "left": null,
       "margin": null,
       "max_height": null,
       "max_width": null,
       "min_height": null,
       "min_width": null,
       "object_fit": null,
       "object_position": null,
       "order": null,
       "overflow": null,
       "overflow_x": null,
       "overflow_y": null,
       "padding": null,
       "right": null,
       "top": null,
       "visibility": null,
       "width": null
      }
     },
     "eebdf26d148f4fbe8cdef9307dcddbc2": {
      "model_module": "@jupyter-widgets/controls",
      "model_module_version": "1.5.0",
      "model_name": "HBoxModel",
      "state": {
       "_dom_classes": [],
       "_model_module": "@jupyter-widgets/controls",
       "_model_module_version": "1.5.0",
       "_model_name": "HBoxModel",
       "_view_count": null,
       "_view_module": "@jupyter-widgets/controls",
       "_view_module_version": "1.5.0",
       "_view_name": "HBoxView",
       "box_style": "",
       "children": [
        "IPY_MODEL_7efcf5df4cca4b0d9a93f8d205c37a9e",
        "IPY_MODEL_93ce37ab566c47a09d15158ed962b8dd",
        "IPY_MODEL_95ccb12d105a43f9ae35ce8be90efb06"
       ],
       "layout": "IPY_MODEL_0f534f5508b54baebc8016222aa7e223"
      }
     },
     "f9be3cb630db414aaf79c88e9d6299fa": {
      "model_module": "@jupyter-widgets/base",
      "model_module_version": "1.2.0",
      "model_name": "LayoutModel",
      "state": {
       "_model_module": "@jupyter-widgets/base",
       "_model_module_version": "1.2.0",
       "_model_name": "LayoutModel",
       "_view_count": null,
       "_view_module": "@jupyter-widgets/base",
       "_view_module_version": "1.2.0",
       "_view_name": "LayoutView",
       "align_content": null,
       "align_items": null,
       "align_self": null,
       "border": null,
       "bottom": null,
       "display": null,
       "flex": null,
       "flex_flow": null,
       "grid_area": null,
       "grid_auto_columns": null,
       "grid_auto_flow": null,
       "grid_auto_rows": null,
       "grid_column": null,
       "grid_gap": null,
       "grid_row": null,
       "grid_template_areas": null,
       "grid_template_columns": null,
       "grid_template_rows": null,
       "height": null,
       "justify_content": null,
       "justify_items": null,
       "left": null,
       "margin": null,
       "max_height": null,
       "max_width": null,
       "min_height": null,
       "min_width": null,
       "object_fit": null,
       "object_position": null,
       "order": null,
       "overflow": null,
       "overflow_x": null,
       "overflow_y": null,
       "padding": null,
       "right": null,
       "top": null,
       "visibility": null,
       "width": null
      }
     }
    },
    "version_major": 2,
    "version_minor": 0
   }
  }
 },
 "nbformat": 4,
 "nbformat_minor": 5
}
