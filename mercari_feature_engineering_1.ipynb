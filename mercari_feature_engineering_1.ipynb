{
  "nbformat": 4,
  "nbformat_minor": 0,
  "metadata": {
    "colab": {
      "name": "Feature Engineering.ipynb",
      "provenance": [],
      "collapsed_sections": [
        "NaHo_tTYdg2D"
      ],
      "toc_visible": true
    },
    "kernelspec": {
      "name": "python3",
      "display_name": "Python 3"
    },
    "language_info": {
      "name": "python"
    }
  },
  "cells": [
    {
      "cell_type": "markdown",
      "metadata": {
        "id": "pKWaTcApsUMb"
      },
      "source": [
        "# **Feature Engineering**"
      ]
    },
    {
      "cell_type": "markdown",
      "metadata": {
        "id": "3LWvtahMCvR7"
      },
      "source": [
        "## **1 Import Libraries**\n",
        "\n",
        "\n",
        "\n"
      ]
    },
    {
      "cell_type": "code",
      "metadata": {
        "colab": {
          "base_uri": "https://localhost:8080/"
        },
        "id": "jjeAvCV2DXoj",
        "outputId": "91e0599a-87c3-48eb-e6a0-f1aacae32fc1"
      },
      "source": [
        "!cat /proc/cpuinfo"
      ],
      "execution_count": null,
      "outputs": [
        {
          "output_type": "stream",
          "text": [
            "processor\t: 0\n",
            "vendor_id\t: GenuineIntel\n",
            "cpu family\t: 6\n",
            "model\t\t: 79\n",
            "model name\t: Intel(R) Xeon(R) CPU @ 2.20GHz\n",
            "stepping\t: 0\n",
            "microcode\t: 0x1\n",
            "cpu MHz\t\t: 2199.998\n",
            "cache size\t: 56320 KB\n",
            "physical id\t: 0\n",
            "siblings\t: 2\n",
            "core id\t\t: 0\n",
            "cpu cores\t: 1\n",
            "apicid\t\t: 0\n",
            "initial apicid\t: 0\n",
            "fpu\t\t: yes\n",
            "fpu_exception\t: yes\n",
            "cpuid level\t: 13\n",
            "wp\t\t: yes\n",
            "flags\t\t: fpu vme de pse tsc msr pae mce cx8 apic sep mtrr pge mca cmov pat pse36 clflush mmx fxsr sse sse2 ss ht syscall nx pdpe1gb rdtscp lm constant_tsc rep_good nopl xtopology nonstop_tsc cpuid tsc_known_freq pni pclmulqdq ssse3 fma cx16 pcid sse4_1 sse4_2 x2apic movbe popcnt aes xsave avx f16c rdrand hypervisor lahf_lm abm 3dnowprefetch invpcid_single ssbd ibrs ibpb stibp fsgsbase tsc_adjust bmi1 hle avx2 smep bmi2 erms invpcid rtm rdseed adx smap xsaveopt arat md_clear arch_capabilities\n",
            "bugs\t\t: cpu_meltdown spectre_v1 spectre_v2 spec_store_bypass l1tf mds swapgs taa\n",
            "bogomips\t: 4399.99\n",
            "clflush size\t: 64\n",
            "cache_alignment\t: 64\n",
            "address sizes\t: 46 bits physical, 48 bits virtual\n",
            "power management:\n",
            "\n",
            "processor\t: 1\n",
            "vendor_id\t: GenuineIntel\n",
            "cpu family\t: 6\n",
            "model\t\t: 79\n",
            "model name\t: Intel(R) Xeon(R) CPU @ 2.20GHz\n",
            "stepping\t: 0\n",
            "microcode\t: 0x1\n",
            "cpu MHz\t\t: 2199.998\n",
            "cache size\t: 56320 KB\n",
            "physical id\t: 0\n",
            "siblings\t: 2\n",
            "core id\t\t: 0\n",
            "cpu cores\t: 1\n",
            "apicid\t\t: 1\n",
            "initial apicid\t: 1\n",
            "fpu\t\t: yes\n",
            "fpu_exception\t: yes\n",
            "cpuid level\t: 13\n",
            "wp\t\t: yes\n",
            "flags\t\t: fpu vme de pse tsc msr pae mce cx8 apic sep mtrr pge mca cmov pat pse36 clflush mmx fxsr sse sse2 ss ht syscall nx pdpe1gb rdtscp lm constant_tsc rep_good nopl xtopology nonstop_tsc cpuid tsc_known_freq pni pclmulqdq ssse3 fma cx16 pcid sse4_1 sse4_2 x2apic movbe popcnt aes xsave avx f16c rdrand hypervisor lahf_lm abm 3dnowprefetch invpcid_single ssbd ibrs ibpb stibp fsgsbase tsc_adjust bmi1 hle avx2 smep bmi2 erms invpcid rtm rdseed adx smap xsaveopt arat md_clear arch_capabilities\n",
            "bugs\t\t: cpu_meltdown spectre_v1 spectre_v2 spec_store_bypass l1tf mds swapgs taa\n",
            "bogomips\t: 4399.99\n",
            "clflush size\t: 64\n",
            "cache_alignment\t: 64\n",
            "address sizes\t: 46 bits physical, 48 bits virtual\n",
            "power management:\n",
            "\n"
          ],
          "name": "stdout"
        }
      ]
    },
    {
      "cell_type": "code",
      "metadata": {
        "colab": {
          "base_uri": "https://localhost:8080/"
        },
        "id": "gTG_yOGPC4RH",
        "outputId": "819d3e1d-d1a5-4ba9-94a2-1b5fcbe951a6"
      },
      "source": [
        "!pip install stop-words"
      ],
      "execution_count": null,
      "outputs": [
        {
          "output_type": "stream",
          "text": [
            "Requirement already satisfied: stop-words in /usr/local/lib/python3.7/dist-packages (2018.7.23)\n"
          ],
          "name": "stdout"
        }
      ]
    },
    {
      "cell_type": "code",
      "metadata": {
        "id": "MQtPw8p4C44M"
      },
      "source": [
        "%matplotlib inline\n",
        "import warnings\n",
        "warnings.filterwarnings(\"ignore\")\n",
        "\n",
        "import sqlite3\n",
        "import pandas as pd\n",
        "import numpy as np\n",
        "import nltk\n",
        "import string\n",
        "import time\n",
        "import matplotlib.pyplot as plt\n",
        "import seaborn as sns\n",
        "import xgboost as xgb\n",
        "import gc\n",
        "from sklearn.feature_extraction.text import TfidfTransformer\n",
        "from sklearn.feature_extraction.text import TfidfVectorizer\n",
        "\n",
        "from sklearn.feature_extraction.text import CountVectorizer\n",
        "from sklearn.metrics import confusion_matrix\n",
        "from sklearn import metrics\n",
        "from sklearn.metrics import roc_curve, auc\n",
        "from sklearn.linear_model import SGDRegressor\n",
        "from sklearn.model_selection import RandomizedSearchCV\n",
        "from sklearn.metrics import mean_squared_error\n",
        "from sklearn.model_selection import GridSearchCV\n",
        "\n",
        "import math\n",
        "import re\n",
        "import string\n",
        "from nltk.corpus import stopwords\n",
        "from nltk.stem import PorterStemmer\n",
        "from nltk.tokenize import sent_tokenize, word_tokenize\n",
        "from nltk.sentiment.vader import SentimentIntensityAnalyzer\n",
        "from sklearn.ensemble import RandomForestRegressor\n",
        "from scipy.sparse import csr_matrix\n",
        "from scipy.sparse import hstack\n",
        "from sklearn import preprocessing\n",
        "from sklearn.preprocessing import StandardScaler\n",
        "from gensim.models import Word2Vec\n",
        "from gensim.models import KeyedVectors\n",
        "from prettytable import PrettyTable\n",
        "import pickle\n",
        "import zipfile\n",
        "from tqdm import tqdm\n",
        "import os\n",
        "from sklearn.linear_model import Ridge\n",
        "\n",
        "from os import path\n",
        "from PIL import Image\n",
        "from wordcloud import WordCloud, STOPWORDS, ImageColorGenerator\n",
        "from stop_words import get_stop_words\n",
        "from collections import Counter\n",
        "\n",
        "import tensorflow as tf\n",
        "from tensorflow.keras.callbacks import TensorBoard,EarlyStopping,ModelCheckpoint\n",
        "from tensorflow.keras.layers import Input, Embedding, LSTM, Dense,Flatten\n",
        "from tensorflow.keras.models import Model\n",
        "from numpy import zeros\n",
        "from tensorflow.keras.preprocessing.text import Tokenizer\n",
        "from tensorflow.keras.preprocessing.sequence import pad_sequences\n",
        "from tensorflow.keras.models import Sequential\n",
        "from tensorflow.keras.utils import plot_model\n",
        "tf.keras.backend.clear_session()"
      ],
      "execution_count": null,
      "outputs": []
    },
    {
      "cell_type": "code",
      "metadata": {
        "colab": {
          "base_uri": "https://localhost:8080/"
        },
        "id": "fMlOxbDIC5SS",
        "outputId": "7f36ae89-6e63-48f4-acd0-a9cf4aead527"
      },
      "source": [
        "nltk.download('punkt')"
      ],
      "execution_count": null,
      "outputs": [
        {
          "output_type": "stream",
          "text": [
            "[nltk_data] Downloading package punkt to /root/nltk_data...\n",
            "[nltk_data]   Package punkt is already up-to-date!\n"
          ],
          "name": "stdout"
        },
        {
          "output_type": "execute_result",
          "data": {
            "text/plain": [
              "True"
            ]
          },
          "metadata": {
            "tags": []
          },
          "execution_count": 4
        }
      ]
    },
    {
      "cell_type": "code",
      "metadata": {
        "colab": {
          "base_uri": "https://localhost:8080/"
        },
        "id": "WC14u2OLDhAV",
        "outputId": "5b28ce89-ea51-4a0b-b0f2-f87e9a68016e"
      },
      "source": [
        "from google.colab import drive\n",
        "drive.mount('/content/gdrive')"
      ],
      "execution_count": null,
      "outputs": [
        {
          "output_type": "stream",
          "text": [
            "Drive already mounted at /content/gdrive; to attempt to forcibly remount, call drive.mount(\"/content/gdrive\", force_remount=True).\n"
          ],
          "name": "stdout"
        }
      ]
    },
    {
      "cell_type": "markdown",
      "metadata": {
        "id": "XnfUU_-4D2VB"
      },
      "source": [
        "### **1.1 import data**\n",
        "\n"
      ]
    },
    {
      "cell_type": "code",
      "metadata": {
        "id": "KlaavqPUx26T"
      },
      "source": [
        "PATH = 'My Drive/kì 2/học máy/mercari-price-suggestion-challenge/'"
      ],
      "execution_count": null,
      "outputs": []
    },
    {
      "cell_type": "code",
      "metadata": {
        "id": "8lW7M5vQDyhM"
      },
      "source": [
        "train = pd.read_csv('/content/gdrive/'+ PATH +'data/train.tsv',sep='\\t')"
      ],
      "execution_count": null,
      "outputs": []
    },
    {
      "cell_type": "code",
      "metadata": {
        "id": "Z7XnsE4sDyTm"
      },
      "source": [
        "test = pd.read_csv('/content/gdrive/'+ PATH + 'data/test_stg2.tsv',sep='\\t')"
      ],
      "execution_count": null,
      "outputs": []
    },
    {
      "cell_type": "code",
      "metadata": {
        "colab": {
          "base_uri": "https://localhost:8080/"
        },
        "id": "Ot5TjgIpDx7h",
        "outputId": "37c50587-f698-42b1-e8b4-ff6ccc1b7c87"
      },
      "source": [
        "train.shape"
      ],
      "execution_count": null,
      "outputs": [
        {
          "output_type": "execute_result",
          "data": {
            "text/plain": [
              "(1482535, 8)"
            ]
          },
          "metadata": {
            "tags": []
          },
          "execution_count": 9
        }
      ]
    },
    {
      "cell_type": "code",
      "metadata": {
        "colab": {
          "base_uri": "https://localhost:8080/"
        },
        "id": "j12tU03zEXhB",
        "outputId": "734981b6-af78-4ff7-d937-e3a678ce3e01"
      },
      "source": [
        "test.shape"
      ],
      "execution_count": null,
      "outputs": [
        {
          "output_type": "execute_result",
          "data": {
            "text/plain": [
              "(3460725, 7)"
            ]
          },
          "metadata": {
            "tags": []
          },
          "execution_count": 10
        }
      ]
    },
    {
      "cell_type": "code",
      "metadata": {
        "colab": {
          "base_uri": "https://localhost:8080/"
        },
        "id": "JEBLIWjeEd_z",
        "outputId": "eb86a73e-21d3-427f-a6c8-88bfffc98848"
      },
      "source": [
        "print(train.columns)"
      ],
      "execution_count": null,
      "outputs": [
        {
          "output_type": "stream",
          "text": [
            "Index(['train_id', 'name', 'item_condition_id', 'category_name', 'brand_name',\n",
            "       'price', 'shipping', 'item_description'],\n",
            "      dtype='object')\n"
          ],
          "name": "stdout"
        }
      ]
    },
    {
      "cell_type": "code",
      "metadata": {
        "colab": {
          "base_uri": "https://localhost:8080/"
        },
        "id": "cuSpJzZjEkGu",
        "outputId": "11e3f7a7-67be-4e28-c103-2768bda52809"
      },
      "source": [
        "print(test.columns)"
      ],
      "execution_count": null,
      "outputs": [
        {
          "output_type": "stream",
          "text": [
            "Index(['test_id', 'name', 'item_condition_id', 'category_name', 'brand_name',\n",
            "       'shipping', 'item_description'],\n",
            "      dtype='object')\n"
          ],
          "name": "stdout"
        }
      ]
    },
    {
      "cell_type": "code",
      "metadata": {
        "colab": {
          "base_uri": "https://localhost:8080/",
          "height": 272
        },
        "id": "SekNf0CMEaCC",
        "outputId": "ca67e88b-643d-4fe4-9d28-9b5412cc26f6"
      },
      "source": [
        "train.head()"
      ],
      "execution_count": null,
      "outputs": [
        {
          "output_type": "execute_result",
          "data": {
            "text/html": [
              "<div>\n",
              "<style scoped>\n",
              "    .dataframe tbody tr th:only-of-type {\n",
              "        vertical-align: middle;\n",
              "    }\n",
              "\n",
              "    .dataframe tbody tr th {\n",
              "        vertical-align: top;\n",
              "    }\n",
              "\n",
              "    .dataframe thead th {\n",
              "        text-align: right;\n",
              "    }\n",
              "</style>\n",
              "<table border=\"1\" class=\"dataframe\">\n",
              "  <thead>\n",
              "    <tr style=\"text-align: right;\">\n",
              "      <th></th>\n",
              "      <th>train_id</th>\n",
              "      <th>name</th>\n",
              "      <th>item_condition_id</th>\n",
              "      <th>category_name</th>\n",
              "      <th>brand_name</th>\n",
              "      <th>price</th>\n",
              "      <th>shipping</th>\n",
              "      <th>item_description</th>\n",
              "    </tr>\n",
              "  </thead>\n",
              "  <tbody>\n",
              "    <tr>\n",
              "      <th>0</th>\n",
              "      <td>0</td>\n",
              "      <td>MLB Cincinnati Reds T Shirt Size XL</td>\n",
              "      <td>3</td>\n",
              "      <td>Men/Tops/T-shirts</td>\n",
              "      <td>NaN</td>\n",
              "      <td>10.0</td>\n",
              "      <td>1</td>\n",
              "      <td>No description yet</td>\n",
              "    </tr>\n",
              "    <tr>\n",
              "      <th>1</th>\n",
              "      <td>1</td>\n",
              "      <td>Razer BlackWidow Chroma Keyboard</td>\n",
              "      <td>3</td>\n",
              "      <td>Electronics/Computers &amp; Tablets/Components &amp; P...</td>\n",
              "      <td>Razer</td>\n",
              "      <td>52.0</td>\n",
              "      <td>0</td>\n",
              "      <td>This keyboard is in great condition and works ...</td>\n",
              "    </tr>\n",
              "    <tr>\n",
              "      <th>2</th>\n",
              "      <td>2</td>\n",
              "      <td>AVA-VIV Blouse</td>\n",
              "      <td>1</td>\n",
              "      <td>Women/Tops &amp; Blouses/Blouse</td>\n",
              "      <td>Target</td>\n",
              "      <td>10.0</td>\n",
              "      <td>1</td>\n",
              "      <td>Adorable top with a hint of lace and a key hol...</td>\n",
              "    </tr>\n",
              "    <tr>\n",
              "      <th>3</th>\n",
              "      <td>3</td>\n",
              "      <td>Leather Horse Statues</td>\n",
              "      <td>1</td>\n",
              "      <td>Home/Home Décor/Home Décor Accents</td>\n",
              "      <td>NaN</td>\n",
              "      <td>35.0</td>\n",
              "      <td>1</td>\n",
              "      <td>New with tags. Leather horses. Retail for [rm]...</td>\n",
              "    </tr>\n",
              "    <tr>\n",
              "      <th>4</th>\n",
              "      <td>4</td>\n",
              "      <td>24K GOLD plated rose</td>\n",
              "      <td>1</td>\n",
              "      <td>Women/Jewelry/Necklaces</td>\n",
              "      <td>NaN</td>\n",
              "      <td>44.0</td>\n",
              "      <td>0</td>\n",
              "      <td>Complete with certificate of authenticity</td>\n",
              "    </tr>\n",
              "  </tbody>\n",
              "</table>\n",
              "</div>"
            ],
            "text/plain": [
              "   train_id  ...                                   item_description\n",
              "0         0  ...                                 No description yet\n",
              "1         1  ...  This keyboard is in great condition and works ...\n",
              "2         2  ...  Adorable top with a hint of lace and a key hol...\n",
              "3         3  ...  New with tags. Leather horses. Retail for [rm]...\n",
              "4         4  ...          Complete with certificate of authenticity\n",
              "\n",
              "[5 rows x 8 columns]"
            ]
          },
          "metadata": {
            "tags": []
          },
          "execution_count": 13
        }
      ]
    },
    {
      "cell_type": "code",
      "metadata": {
        "colab": {
          "base_uri": "https://localhost:8080/"
        },
        "id": "5yMAKEOzEoI3",
        "outputId": "f369047f-4c77-4a70-bde7-451e06f869a1"
      },
      "source": [
        "train.info()"
      ],
      "execution_count": null,
      "outputs": [
        {
          "output_type": "stream",
          "text": [
            "<class 'pandas.core.frame.DataFrame'>\n",
            "RangeIndex: 1482535 entries, 0 to 1482534\n",
            "Data columns (total 8 columns):\n",
            " #   Column             Non-Null Count    Dtype  \n",
            "---  ------             --------------    -----  \n",
            " 0   train_id           1482535 non-null  int64  \n",
            " 1   name               1482535 non-null  object \n",
            " 2   item_condition_id  1482535 non-null  int64  \n",
            " 3   category_name      1476208 non-null  object \n",
            " 4   brand_name         849853 non-null   object \n",
            " 5   price              1482535 non-null  float64\n",
            " 6   shipping           1482535 non-null  int64  \n",
            " 7   item_description   1482531 non-null  object \n",
            "dtypes: float64(1), int64(3), object(4)\n",
            "memory usage: 90.5+ MB\n"
          ],
          "name": "stdout"
        }
      ]
    },
    {
      "cell_type": "code",
      "metadata": {
        "colab": {
          "base_uri": "https://localhost:8080/"
        },
        "id": "5xmxB7uqErld",
        "outputId": "ea5c06df-5ee9-41eb-9c87-3b83c58e628d"
      },
      "source": [
        "print(train.isnull().sum())"
      ],
      "execution_count": null,
      "outputs": [
        {
          "output_type": "stream",
          "text": [
            "train_id                  0\n",
            "name                      0\n",
            "item_condition_id         0\n",
            "category_name          6327\n",
            "brand_name           632682\n",
            "price                     0\n",
            "shipping                  0\n",
            "item_description          4\n",
            "dtype: int64\n"
          ],
          "name": "stdout"
        }
      ]
    },
    {
      "cell_type": "markdown",
      "metadata": {
        "id": "0KzgaQFJz0Xy"
      },
      "source": [
        "**Splitting categories into subcategories:**"
      ]
    },
    {
      "cell_type": "code",
      "metadata": {
        "id": "n_3ac16jyrdO"
      },
      "source": [
        "# tách caterory ra làm 3 category con\n",
        "def split_categories(category):\n",
        "  try:\n",
        "    sub_cat_1,sub_cat_2,sub_cat_3 = category.split(\"/\")\n",
        "    return sub_cat_1,sub_cat_2,sub_cat_3\n",
        "  except:\n",
        "    return (\"No label\",\"No label\",\"No label\")"
      ],
      "execution_count": null,
      "outputs": []
    },
    {
      "cell_type": "code",
      "metadata": {
        "id": "CnZH1myjz7WK"
      },
      "source": [
        "# sử dụng hàm split_categories để tách category ra làm 3 category con và tạo thành 3 cột mới : 'main_category', 'sub_cat_1','sub_cat_2'\n",
        "def create_split_categories(data):\n",
        "  data['main_category'],data['sub_cat_1'],data['sub_cat_2']=zip(*data['category_name'].\\\n",
        "                                                                apply(lambda x: split_categories(x)))"
      ],
      "execution_count": null,
      "outputs": []
    },
    {
      "cell_type": "code",
      "metadata": {
        "id": "pJApbuVLz9Sp"
      },
      "source": [
        "create_split_categories(train)\n",
        "create_split_categories(test)"
      ],
      "execution_count": null,
      "outputs": []
    },
    {
      "cell_type": "code",
      "metadata": {
        "colab": {
          "base_uri": "https://localhost:8080/",
          "height": 374
        },
        "id": "n_ASpQadz-HB",
        "outputId": "97eaf21c-1195-4196-ab64-3dcad2521273"
      },
      "source": [
        "train.head()"
      ],
      "execution_count": null,
      "outputs": [
        {
          "output_type": "execute_result",
          "data": {
            "text/html": [
              "<div>\n",
              "<style scoped>\n",
              "    .dataframe tbody tr th:only-of-type {\n",
              "        vertical-align: middle;\n",
              "    }\n",
              "\n",
              "    .dataframe tbody tr th {\n",
              "        vertical-align: top;\n",
              "    }\n",
              "\n",
              "    .dataframe thead th {\n",
              "        text-align: right;\n",
              "    }\n",
              "</style>\n",
              "<table border=\"1\" class=\"dataframe\">\n",
              "  <thead>\n",
              "    <tr style=\"text-align: right;\">\n",
              "      <th></th>\n",
              "      <th>train_id</th>\n",
              "      <th>name</th>\n",
              "      <th>item_condition_id</th>\n",
              "      <th>category_name</th>\n",
              "      <th>brand_name</th>\n",
              "      <th>price</th>\n",
              "      <th>shipping</th>\n",
              "      <th>item_description</th>\n",
              "      <th>main_category</th>\n",
              "      <th>sub_cat_1</th>\n",
              "      <th>sub_cat_2</th>\n",
              "    </tr>\n",
              "  </thead>\n",
              "  <tbody>\n",
              "    <tr>\n",
              "      <th>0</th>\n",
              "      <td>0</td>\n",
              "      <td>MLB Cincinnati Reds T Shirt Size XL</td>\n",
              "      <td>3</td>\n",
              "      <td>Men/Tops/T-shirts</td>\n",
              "      <td>NaN</td>\n",
              "      <td>10.0</td>\n",
              "      <td>1</td>\n",
              "      <td>No description yet</td>\n",
              "      <td>Men</td>\n",
              "      <td>Tops</td>\n",
              "      <td>T-shirts</td>\n",
              "    </tr>\n",
              "    <tr>\n",
              "      <th>1</th>\n",
              "      <td>1</td>\n",
              "      <td>Razer BlackWidow Chroma Keyboard</td>\n",
              "      <td>3</td>\n",
              "      <td>Electronics/Computers &amp; Tablets/Components &amp; P...</td>\n",
              "      <td>Razer</td>\n",
              "      <td>52.0</td>\n",
              "      <td>0</td>\n",
              "      <td>This keyboard is in great condition and works ...</td>\n",
              "      <td>Electronics</td>\n",
              "      <td>Computers &amp; Tablets</td>\n",
              "      <td>Components &amp; Parts</td>\n",
              "    </tr>\n",
              "    <tr>\n",
              "      <th>2</th>\n",
              "      <td>2</td>\n",
              "      <td>AVA-VIV Blouse</td>\n",
              "      <td>1</td>\n",
              "      <td>Women/Tops &amp; Blouses/Blouse</td>\n",
              "      <td>Target</td>\n",
              "      <td>10.0</td>\n",
              "      <td>1</td>\n",
              "      <td>Adorable top with a hint of lace and a key hol...</td>\n",
              "      <td>Women</td>\n",
              "      <td>Tops &amp; Blouses</td>\n",
              "      <td>Blouse</td>\n",
              "    </tr>\n",
              "    <tr>\n",
              "      <th>3</th>\n",
              "      <td>3</td>\n",
              "      <td>Leather Horse Statues</td>\n",
              "      <td>1</td>\n",
              "      <td>Home/Home Décor/Home Décor Accents</td>\n",
              "      <td>NaN</td>\n",
              "      <td>35.0</td>\n",
              "      <td>1</td>\n",
              "      <td>New with tags. Leather horses. Retail for [rm]...</td>\n",
              "      <td>Home</td>\n",
              "      <td>Home Décor</td>\n",
              "      <td>Home Décor Accents</td>\n",
              "    </tr>\n",
              "    <tr>\n",
              "      <th>4</th>\n",
              "      <td>4</td>\n",
              "      <td>24K GOLD plated rose</td>\n",
              "      <td>1</td>\n",
              "      <td>Women/Jewelry/Necklaces</td>\n",
              "      <td>NaN</td>\n",
              "      <td>44.0</td>\n",
              "      <td>0</td>\n",
              "      <td>Complete with certificate of authenticity</td>\n",
              "      <td>Women</td>\n",
              "      <td>Jewelry</td>\n",
              "      <td>Necklaces</td>\n",
              "    </tr>\n",
              "  </tbody>\n",
              "</table>\n",
              "</div>"
            ],
            "text/plain": [
              "   train_id  ...           sub_cat_2\n",
              "0         0  ...            T-shirts\n",
              "1         1  ...  Components & Parts\n",
              "2         2  ...              Blouse\n",
              "3         3  ...  Home Décor Accents\n",
              "4         4  ...           Necklaces\n",
              "\n",
              "[5 rows x 11 columns]"
            ]
          },
          "metadata": {
            "tags": []
          },
          "execution_count": 19
        }
      ]
    },
    {
      "cell_type": "markdown",
      "metadata": {
        "id": "ZCK44KtG0SpY"
      },
      "source": [
        "**Chuyển đổi giá sang log**"
      ]
    },
    {
      "cell_type": "code",
      "metadata": {
        "id": "oiGUV36_0S_Y"
      },
      "source": [
        "def log_price(price):\n",
        "    return np.log1p(price)"
      ],
      "execution_count": null,
      "outputs": []
    },
    {
      "cell_type": "code",
      "metadata": {
        "id": "UDYVMkat0U8g"
      },
      "source": [
        "train['log_price'] = log_price(train['price'])"
      ],
      "execution_count": null,
      "outputs": []
    },
    {
      "cell_type": "markdown",
      "metadata": {
        "id": "ANXD_tzi0kmH"
      },
      "source": [
        "**Thêm trường số lượng từ trong phần mô tả**"
      ]
    },
    {
      "cell_type": "code",
      "metadata": {
        "id": "kEajBu720zem"
      },
      "source": [
        "train['description_wc'] = [len(str(i).split()) for i in train['item_description']]"
      ],
      "execution_count": null,
      "outputs": []
    },
    {
      "cell_type": "markdown",
      "metadata": {
        "id": "EAgH4eb5JAjr"
      },
      "source": [
        "## **2 Data Preprocessing**"
      ]
    },
    {
      "cell_type": "markdown",
      "metadata": {
        "id": "NaHo_tTYdg2D"
      },
      "source": [
        "### **2.1 Data cleaning:**"
      ]
    },
    {
      "cell_type": "markdown",
      "metadata": {
        "id": "F22Vi6dkiHl4"
      },
      "source": [
        "Loại bỏ các sản phẩm có giá thành nhỏ hơn 3$ vì giá tối thiểu là 3 trên trang web"
      ]
    },
    {
      "cell_type": "code",
      "metadata": {
        "id": "8edWw8g8I9Ou"
      },
      "source": [
        "train = train.drop(train[(train.price < 3.0)].index)"
      ],
      "execution_count": null,
      "outputs": []
    },
    {
      "cell_type": "code",
      "metadata": {
        "colab": {
          "base_uri": "https://localhost:8080/"
        },
        "id": "3aonnw2JJLuc",
        "outputId": "0f429ab7-93a9-4f22-e60c-4280f17e2fde"
      },
      "source": [
        "print(train.shape)"
      ],
      "execution_count": null,
      "outputs": [
        {
          "output_type": "stream",
          "text": [
            "(1481661, 13)\n"
          ],
          "name": "stdout"
        }
      ]
    },
    {
      "cell_type": "markdown",
      "metadata": {
        "id": "0K7lf2A6dpO6"
      },
      "source": [
        "### **2.2 Handling Null/Missing values:**"
      ]
    },
    {
      "cell_type": "code",
      "metadata": {
        "colab": {
          "base_uri": "https://localhost:8080/"
        },
        "id": "Cgg6CpqMJOhO",
        "outputId": "26b75019-8ee9-4512-eec5-c17f8718fc14"
      },
      "source": [
        "print(train.isnull().sum())"
      ],
      "execution_count": null,
      "outputs": [
        {
          "output_type": "stream",
          "text": [
            "train_id                  0\n",
            "name                      0\n",
            "item_condition_id         0\n",
            "category_name          6314\n",
            "brand_name           632336\n",
            "price                     0\n",
            "shipping                  0\n",
            "item_description          4\n",
            "main_category             0\n",
            "sub_cat_1                 0\n",
            "sub_cat_2                 0\n",
            "log_price                 0\n",
            "description_wc            0\n",
            "dtype: int64\n"
          ],
          "name": "stdout"
        }
      ]
    },
    {
      "cell_type": "markdown",
      "metadata": {
        "id": "37Te0V6vi1pA"
      },
      "source": [
        "Với các trường brand_name và category_name thì thay thế NaN bằng 'missing', với trường item_description thì thay thế NaN bằng 'No description yet'"
      ]
    },
    {
      "cell_type": "code",
      "metadata": {
        "id": "5aU7BUccgY0C"
      },
      "source": [
        "def fill_nan(dataset):\n",
        "  dataset[\"item_description\"].fillna(\"No description yet\",inplace=True)\n",
        "  dataset[\"brand_name\"].fillna(\"missing\",inplace=True)\n",
        "  dataset[\"category_name\"].fillna(\"missing\",inplace=True)"
      ],
      "execution_count": null,
      "outputs": []
    },
    {
      "cell_type": "code",
      "metadata": {
        "id": "M_7n3fd5JQ9p"
      },
      "source": [
        "fill_nan(train)\n",
        "fill_nan(test)"
      ],
      "execution_count": null,
      "outputs": []
    },
    {
      "cell_type": "code",
      "metadata": {
        "colab": {
          "base_uri": "https://localhost:8080/"
        },
        "id": "7ObQvl_hJTtF",
        "outputId": "d4e7a56a-f866-400d-ea4b-456e8932982a"
      },
      "source": [
        "print(train.isnull().sum())"
      ],
      "execution_count": null,
      "outputs": [
        {
          "output_type": "stream",
          "text": [
            "train_id             0\n",
            "name                 0\n",
            "item_condition_id    0\n",
            "category_name        0\n",
            "brand_name           0\n",
            "price                0\n",
            "shipping             0\n",
            "item_description     0\n",
            "main_category        0\n",
            "sub_cat_1            0\n",
            "sub_cat_2            0\n",
            "log_price            0\n",
            "description_wc       0\n",
            "dtype: int64\n"
          ],
          "name": "stdout"
        }
      ]
    },
    {
      "cell_type": "code",
      "metadata": {
        "colab": {
          "base_uri": "https://localhost:8080/"
        },
        "id": "eA65FKmWJWL2",
        "outputId": "e6051040-36cc-47ff-d2eb-dee374df58a6"
      },
      "source": [
        "print(test.isnull().sum())"
      ],
      "execution_count": null,
      "outputs": [
        {
          "output_type": "stream",
          "text": [
            "test_id              0\n",
            "name                 0\n",
            "item_condition_id    0\n",
            "category_name        0\n",
            "brand_name           0\n",
            "shipping             0\n",
            "item_description     0\n",
            "main_category        0\n",
            "sub_cat_1            0\n",
            "sub_cat_2            0\n",
            "dtype: int64\n"
          ],
          "name": "stdout"
        }
      ]
    },
    {
      "cell_type": "markdown",
      "metadata": {
        "id": "NFGa_FyRkOHD"
      },
      "source": [
        "### **2.3 Insert feature**"
      ]
    },
    {
      "cell_type": "markdown",
      "metadata": {
        "id": "7EdxeSeBx1ZV"
      },
      "source": [
        "Tạo thêm 2 cột wc_desc và wc_name dựa vào độ dài từ của trường item_description và name"
      ]
    },
    {
      "cell_type": "code",
      "metadata": {
        "id": "ZPiKQyDJwHE8"
      },
      "source": [
        "def countwords(text):\n",
        "    try:\n",
        "        if text == 'No description yet':\n",
        "            return 0\n",
        "        else:\n",
        "            text = text.lower()\n",
        "            words = [w for w in text.split(\" \")]\n",
        "            return len(words)\n",
        "    except: \n",
        "        return 0"
      ],
      "execution_count": null,
      "outputs": []
    },
    {
      "cell_type": "code",
      "metadata": {
        "id": "jrWz-MosvKc1"
      },
      "source": [
        "train['wc_desc'] = train['item_description'].apply(lambda x: countwords(x))\n",
        "train['wc_name'] = train['name'].apply(lambda x: countwords(x))"
      ],
      "execution_count": null,
      "outputs": []
    },
    {
      "cell_type": "code",
      "metadata": {
        "colab": {
          "base_uri": "https://localhost:8080/"
        },
        "id": "hs3iL8y8w3Ua",
        "outputId": "c3fa689b-8654-488f-89c9-e28243643634"
      },
      "source": [
        "train.columns"
      ],
      "execution_count": null,
      "outputs": [
        {
          "output_type": "execute_result",
          "data": {
            "text/plain": [
              "Index(['train_id', 'name', 'item_condition_id', 'category_name', 'brand_name',\n",
              "       'price', 'shipping', 'item_description', 'main_category', 'sub_cat_1',\n",
              "       'sub_cat_2', 'log_price', 'description_wc', 'wc_desc', 'wc_name'],\n",
              "      dtype='object')"
            ]
          },
          "metadata": {
            "tags": []
          },
          "execution_count": 32
        }
      ]
    },
    {
      "cell_type": "code",
      "metadata": {
        "colab": {
          "base_uri": "https://localhost:8080/",
          "height": 445
        },
        "id": "KpT40uQLrayd",
        "outputId": "89abd9bc-bdd4-45c0-a913-e2637b96d4ae"
      },
      "source": [
        "train.head()"
      ],
      "execution_count": null,
      "outputs": [
        {
          "output_type": "execute_result",
          "data": {
            "text/html": [
              "<div>\n",
              "<style scoped>\n",
              "    .dataframe tbody tr th:only-of-type {\n",
              "        vertical-align: middle;\n",
              "    }\n",
              "\n",
              "    .dataframe tbody tr th {\n",
              "        vertical-align: top;\n",
              "    }\n",
              "\n",
              "    .dataframe thead th {\n",
              "        text-align: right;\n",
              "    }\n",
              "</style>\n",
              "<table border=\"1\" class=\"dataframe\">\n",
              "  <thead>\n",
              "    <tr style=\"text-align: right;\">\n",
              "      <th></th>\n",
              "      <th>train_id</th>\n",
              "      <th>name</th>\n",
              "      <th>item_condition_id</th>\n",
              "      <th>category_name</th>\n",
              "      <th>brand_name</th>\n",
              "      <th>price</th>\n",
              "      <th>shipping</th>\n",
              "      <th>item_description</th>\n",
              "      <th>main_category</th>\n",
              "      <th>sub_cat_1</th>\n",
              "      <th>sub_cat_2</th>\n",
              "      <th>log_price</th>\n",
              "      <th>description_wc</th>\n",
              "      <th>wc_desc</th>\n",
              "      <th>wc_name</th>\n",
              "    </tr>\n",
              "  </thead>\n",
              "  <tbody>\n",
              "    <tr>\n",
              "      <th>0</th>\n",
              "      <td>0</td>\n",
              "      <td>MLB Cincinnati Reds T Shirt Size XL</td>\n",
              "      <td>3</td>\n",
              "      <td>Men/Tops/T-shirts</td>\n",
              "      <td>missing</td>\n",
              "      <td>10.0</td>\n",
              "      <td>1</td>\n",
              "      <td>No description yet</td>\n",
              "      <td>Men</td>\n",
              "      <td>Tops</td>\n",
              "      <td>T-shirts</td>\n",
              "      <td>2.397895</td>\n",
              "      <td>3</td>\n",
              "      <td>0</td>\n",
              "      <td>7</td>\n",
              "    </tr>\n",
              "    <tr>\n",
              "      <th>1</th>\n",
              "      <td>1</td>\n",
              "      <td>Razer BlackWidow Chroma Keyboard</td>\n",
              "      <td>3</td>\n",
              "      <td>Electronics/Computers &amp; Tablets/Components &amp; P...</td>\n",
              "      <td>Razer</td>\n",
              "      <td>52.0</td>\n",
              "      <td>0</td>\n",
              "      <td>This keyboard is in great condition and works ...</td>\n",
              "      <td>Electronics</td>\n",
              "      <td>Computers &amp; Tablets</td>\n",
              "      <td>Components &amp; Parts</td>\n",
              "      <td>3.970292</td>\n",
              "      <td>36</td>\n",
              "      <td>36</td>\n",
              "      <td>4</td>\n",
              "    </tr>\n",
              "    <tr>\n",
              "      <th>2</th>\n",
              "      <td>2</td>\n",
              "      <td>AVA-VIV Blouse</td>\n",
              "      <td>1</td>\n",
              "      <td>Women/Tops &amp; Blouses/Blouse</td>\n",
              "      <td>Target</td>\n",
              "      <td>10.0</td>\n",
              "      <td>1</td>\n",
              "      <td>Adorable top with a hint of lace and a key hol...</td>\n",
              "      <td>Women</td>\n",
              "      <td>Tops &amp; Blouses</td>\n",
              "      <td>Blouse</td>\n",
              "      <td>2.397895</td>\n",
              "      <td>29</td>\n",
              "      <td>29</td>\n",
              "      <td>2</td>\n",
              "    </tr>\n",
              "    <tr>\n",
              "      <th>3</th>\n",
              "      <td>3</td>\n",
              "      <td>Leather Horse Statues</td>\n",
              "      <td>1</td>\n",
              "      <td>Home/Home Décor/Home Décor Accents</td>\n",
              "      <td>missing</td>\n",
              "      <td>35.0</td>\n",
              "      <td>1</td>\n",
              "      <td>New with tags. Leather horses. Retail for [rm]...</td>\n",
              "      <td>Home</td>\n",
              "      <td>Home Décor</td>\n",
              "      <td>Home Décor Accents</td>\n",
              "      <td>3.583519</td>\n",
              "      <td>32</td>\n",
              "      <td>32</td>\n",
              "      <td>3</td>\n",
              "    </tr>\n",
              "    <tr>\n",
              "      <th>4</th>\n",
              "      <td>4</td>\n",
              "      <td>24K GOLD plated rose</td>\n",
              "      <td>1</td>\n",
              "      <td>Women/Jewelry/Necklaces</td>\n",
              "      <td>missing</td>\n",
              "      <td>44.0</td>\n",
              "      <td>0</td>\n",
              "      <td>Complete with certificate of authenticity</td>\n",
              "      <td>Women</td>\n",
              "      <td>Jewelry</td>\n",
              "      <td>Necklaces</td>\n",
              "      <td>3.806662</td>\n",
              "      <td>5</td>\n",
              "      <td>5</td>\n",
              "      <td>4</td>\n",
              "    </tr>\n",
              "  </tbody>\n",
              "</table>\n",
              "</div>"
            ],
            "text/plain": [
              "   train_id                                 name  ...  wc_desc wc_name\n",
              "0         0  MLB Cincinnati Reds T Shirt Size XL  ...        0       7\n",
              "1         1     Razer BlackWidow Chroma Keyboard  ...       36       4\n",
              "2         2                       AVA-VIV Blouse  ...       29       2\n",
              "3         3                Leather Horse Statues  ...       32       3\n",
              "4         4                 24K GOLD plated rose  ...        5       4\n",
              "\n",
              "[5 rows x 15 columns]"
            ]
          },
          "metadata": {
            "tags": []
          },
          "execution_count": 33
        }
      ]
    },
    {
      "cell_type": "markdown",
      "metadata": {
        "id": "kyUhSbTpzJpu"
      },
      "source": [
        "Create pickle dumps for train and test:"
      ]
    },
    {
      "cell_type": "code",
      "metadata": {
        "id": "ZQV7HX4Xw8c1"
      },
      "source": [
        "train.to_pickle('/content/gdrive/'+ PATH + 'pickles/train.pkl')\n",
        "test.to_pickle('/content/gdrive/'+ PATH + 'pickles/test.pkl')"
      ],
      "execution_count": null,
      "outputs": []
    },
    {
      "cell_type": "code",
      "metadata": {
        "id": "bcNLu0VMxgwX"
      },
      "source": [
        "train = pd.read_pickle('/content/gdrive/'+ PATH + 'pickles/train.pkl')\n",
        "test = pd.read_pickle('/content/gdrive/'+ PATH + 'pickles/test.pkl')"
      ],
      "execution_count": null,
      "outputs": []
    },
    {
      "cell_type": "markdown",
      "metadata": {
        "id": "73at1ebRr6rr"
      },
      "source": [
        "## **3 Feature Construction**"
      ]
    },
    {
      "cell_type": "markdown",
      "metadata": {
        "id": "ob2XUA3OxvCh"
      },
      "source": [
        "**TFIDF** cho trường item_description sử dụng uni,bi-grams , **Bag of Words** cho trường name sử dụng uni- và bi-grams, **one hot encodes** cho tất cả các trường có tính phân loại còn lại"
      ]
    },
    {
      "cell_type": "markdown",
      "metadata": {
        "id": "RyQUwndhtdpm"
      },
      "source": [
        "**Train-Test split from train dataset**"
      ]
    },
    {
      "cell_type": "markdown",
      "metadata": {
        "id": "V4Lhv1hY0IFZ"
      },
      "source": [
        "Ta chia tập train ra làm 2 phần theo tỉ lệ **1/9** , 1 phần cho việc huấn luyện, 1 phần cho việc kiểm thử"
      ]
    },
    {
      "cell_type": "code",
      "metadata": {
        "id": "QSyfYi9s0Lsd"
      },
      "source": [
        "from sklearn.model_selection import train_test_split\n",
        "X_train, X_test= train_test_split(train, test_size=0.10, random_state=123)"
      ],
      "execution_count": null,
      "outputs": []
    },
    {
      "cell_type": "code",
      "metadata": {
        "id": "6Vckee0i1MOH"
      },
      "source": [
        "X_train.to_pickle('/content/gdrive/'+ PATH + 'pickles/X_train.pkl')\n",
        "X_test.to_pickle('/content/gdrive/'+ PATH + 'pickles/X_test.pkl')"
      ],
      "execution_count": null,
      "outputs": []
    },
    {
      "cell_type": "code",
      "metadata": {
        "id": "kDdeRCtf1NOu"
      },
      "source": [
        "X_train = pd.read_pickle('/content/gdrive/'+ PATH + 'pickles/X_train.pkl')\n",
        "X_test = pd.read_pickle('/content/gdrive/'+ PATH + 'pickles/X_test.pkl')"
      ],
      "execution_count": null,
      "outputs": []
    },
    {
      "cell_type": "code",
      "metadata": {
        "colab": {
          "base_uri": "https://localhost:8080/",
          "height": 411
        },
        "id": "IDjm4YqO0JVU",
        "outputId": "bf4bef7b-2c13-4a72-9571-088ddeae9f8f"
      },
      "source": [
        "X_train.head()"
      ],
      "execution_count": null,
      "outputs": [
        {
          "output_type": "execute_result",
          "data": {
            "text/html": [
              "<div>\n",
              "<style scoped>\n",
              "    .dataframe tbody tr th:only-of-type {\n",
              "        vertical-align: middle;\n",
              "    }\n",
              "\n",
              "    .dataframe tbody tr th {\n",
              "        vertical-align: top;\n",
              "    }\n",
              "\n",
              "    .dataframe thead th {\n",
              "        text-align: right;\n",
              "    }\n",
              "</style>\n",
              "<table border=\"1\" class=\"dataframe\">\n",
              "  <thead>\n",
              "    <tr style=\"text-align: right;\">\n",
              "      <th></th>\n",
              "      <th>train_id</th>\n",
              "      <th>name</th>\n",
              "      <th>item_condition_id</th>\n",
              "      <th>category_name</th>\n",
              "      <th>brand_name</th>\n",
              "      <th>price</th>\n",
              "      <th>shipping</th>\n",
              "      <th>item_description</th>\n",
              "      <th>main_category</th>\n",
              "      <th>sub_cat_1</th>\n",
              "      <th>sub_cat_2</th>\n",
              "      <th>log_price</th>\n",
              "      <th>description_wc</th>\n",
              "      <th>wc_desc</th>\n",
              "      <th>wc_name</th>\n",
              "    </tr>\n",
              "  </thead>\n",
              "  <tbody>\n",
              "    <tr>\n",
              "      <th>1191489</th>\n",
              "      <td>1191489</td>\n",
              "      <td>Katy Perry</td>\n",
              "      <td>1</td>\n",
              "      <td>Beauty/Fragrance/Women</td>\n",
              "      <td>CoverGirl</td>\n",
              "      <td>6.0</td>\n",
              "      <td>1</td>\n",
              "      <td>No description yet</td>\n",
              "      <td>Beauty</td>\n",
              "      <td>Fragrance</td>\n",
              "      <td>Women</td>\n",
              "      <td>1.945910</td>\n",
              "      <td>3</td>\n",
              "      <td>0</td>\n",
              "      <td>2</td>\n",
              "    </tr>\n",
              "    <tr>\n",
              "      <th>247715</th>\n",
              "      <td>247715</td>\n",
              "      <td>Tarte foundation</td>\n",
              "      <td>1</td>\n",
              "      <td>Beauty/Makeup/Face</td>\n",
              "      <td>Tarte</td>\n",
              "      <td>25.0</td>\n",
              "      <td>1</td>\n",
              "      <td>New, light neutral color, 1.7oz</td>\n",
              "      <td>Beauty</td>\n",
              "      <td>Makeup</td>\n",
              "      <td>Face</td>\n",
              "      <td>3.258097</td>\n",
              "      <td>5</td>\n",
              "      <td>5</td>\n",
              "      <td>2</td>\n",
              "    </tr>\n",
              "    <tr>\n",
              "      <th>821140</th>\n",
              "      <td>821140</td>\n",
              "      <td>Bumble and bumble Hair Bundle</td>\n",
              "      <td>2</td>\n",
              "      <td>Beauty/Hair Care/Styling Products</td>\n",
              "      <td>Sephora</td>\n",
              "      <td>36.0</td>\n",
              "      <td>1</td>\n",
              "      <td>Brand new, unused multitasking Hairdressers In...</td>\n",
              "      <td>Beauty</td>\n",
              "      <td>Hair Care</td>\n",
              "      <td>Styling Products</td>\n",
              "      <td>3.610918</td>\n",
              "      <td>52</td>\n",
              "      <td>52</td>\n",
              "      <td>5</td>\n",
              "    </tr>\n",
              "    <tr>\n",
              "      <th>782968</th>\n",
              "      <td>782968</td>\n",
              "      <td>Bath and Body Works</td>\n",
              "      <td>2</td>\n",
              "      <td>Beauty/Bath &amp; Body/Sets</td>\n",
              "      <td>Bath &amp; Body Works</td>\n",
              "      <td>9.0</td>\n",
              "      <td>0</td>\n",
              "      <td>Bath &amp; Body Works Cashmere Glow Golden Sugar S...</td>\n",
              "      <td>Beauty</td>\n",
              "      <td>Bath &amp; Body</td>\n",
              "      <td>Sets</td>\n",
              "      <td>2.302585</td>\n",
              "      <td>12</td>\n",
              "      <td>12</td>\n",
              "      <td>4</td>\n",
              "    </tr>\n",
              "    <tr>\n",
              "      <th>1370038</th>\n",
              "      <td>1370038</td>\n",
              "      <td>Victoria's secret body by Victoria bra</td>\n",
              "      <td>3</td>\n",
              "      <td>Women/Underwear/Bras</td>\n",
              "      <td>Victoria's Secret</td>\n",
              "      <td>14.0</td>\n",
              "      <td>1</td>\n",
              "      <td>38B Gray Push-up Good condition My reference c...</td>\n",
              "      <td>Women</td>\n",
              "      <td>Underwear</td>\n",
              "      <td>Bras</td>\n",
              "      <td>2.708050</td>\n",
              "      <td>9</td>\n",
              "      <td>9</td>\n",
              "      <td>6</td>\n",
              "    </tr>\n",
              "  </tbody>\n",
              "</table>\n",
              "</div>"
            ],
            "text/plain": [
              "         train_id                                    name  ...  wc_desc wc_name\n",
              "1191489   1191489                              Katy Perry  ...        0       2\n",
              "247715     247715                        Tarte foundation  ...        5       2\n",
              "821140     821140           Bumble and bumble Hair Bundle  ...       52       5\n",
              "782968     782968                     Bath and Body Works  ...       12       4\n",
              "1370038   1370038  Victoria's secret body by Victoria bra  ...        9       6\n",
              "\n",
              "[5 rows x 15 columns]"
            ]
          },
          "metadata": {
            "tags": []
          },
          "execution_count": 39
        }
      ]
    },
    {
      "cell_type": "markdown",
      "metadata": {
        "id": "h_8FplDKsGyE"
      },
      "source": [
        "### **3.1 Encoding of categorical feature:**"
      ]
    },
    {
      "cell_type": "markdown",
      "metadata": {
        "id": "Ay2QmGrKgQfU"
      },
      "source": [
        "Các features có tính phân loại như **main_category,sub_cat_1,sub_cat_2,brand_name** sẽ sử dụng **one hot encoded**. **shipping_id** và **item_condition_id** sẽ được encoded bằng cách sử dụng hàm **get_dummies()**"
      ]
    },
    {
      "cell_type": "code",
      "metadata": {
        "id": "5sCjpo-e1l1H"
      },
      "source": [
        "def one_hot_encode(train,test):\n",
        "    '''\n",
        "    Function to one hot encode the categorical columns\n",
        "    '''\n",
        "    vectorizer = CountVectorizer(token_pattern='.+')\n",
        "    # ta chỉ sử dụng hàm fit trên tậm dữ liệu train\n",
        "\n",
        "    vectorizer = vectorizer.fit(train['category_name'].values)\n",
        "    column_cat = vectorizer.transform(test['category_name'].values)\n",
        "\n",
        "    vectorizer = vectorizer.fit(train['main_category'].values)\n",
        "    column_mc = vectorizer.transform(test['main_category'].values)\n",
        "    \n",
        "    vectorizer = vectorizer.fit(train['sub_cat_1'].values)\n",
        "    column_sb1 = vectorizer.transform(test['sub_cat_1'].values)\n",
        "    \n",
        "    vectorizer = vectorizer.fit(train['sub_cat_2'].values)\n",
        "    column_sb2 = vectorizer.transform(test['sub_cat_2'].values)\n",
        "\n",
        "    vectorizer = vectorizer.fit(train['brand_name'].astype(str))\n",
        "    brand_encodes = vectorizer.transform(test['brand_name'].astype(str))\n",
        "   \n",
        "    print(column_cat.shape)\n",
        "    print(column_mc.shape)\n",
        "    print(column_sb1.shape)\n",
        "    print(column_sb2.shape)\n",
        "    print(brand_encodes.shape)\n",
        "    print(\"=\"*100)\n",
        "    return column_cat,column_mc,column_sb1,column_sb2,brand_encodes"
      ],
      "execution_count": null,
      "outputs": []
    },
    {
      "cell_type": "markdown",
      "metadata": {
        "id": "zW_y0aFr17FA"
      },
      "source": [
        "One hot encodings cho **category, main_category, sub_cat_1,sub_cat_2, brand_name** trong tập **X_train**:\n"
      ]
    },
    {
      "cell_type": "code",
      "metadata": {
        "colab": {
          "base_uri": "https://localhost:8080/"
        },
        "id": "fCVmUZtE1c7R",
        "outputId": "c544d97a-9cb1-45dd-b8f2-dccdffc5e5f0"
      },
      "source": [
        "cat_ohe_tr,main_cat_ohe_tr,sub_cat_1_ohe_tr,sub_cat_2_ohe_tr,brand_ohe_tr = one_hot_encode(X_train,X_train)"
      ],
      "execution_count": null,
      "outputs": [
        {
          "output_type": "stream",
          "text": [
            "(1333494, 1276)\n",
            "(1333494, 11)\n",
            "(1333494, 114)\n",
            "(1333494, 858)\n",
            "(1333494, 4681)\n",
            "====================================================================================================\n"
          ],
          "name": "stdout"
        }
      ]
    },
    {
      "cell_type": "markdown",
      "metadata": {
        "id": "FdxBZzI32Ovr"
      },
      "source": [
        "One hot encodings cho **category, main_category, sub_cat_1,sub_cat_2,brand_name** trong tập **X_test**:"
      ]
    },
    {
      "cell_type": "code",
      "metadata": {
        "colab": {
          "base_uri": "https://localhost:8080/"
        },
        "id": "b5JmB-CK1dp-",
        "outputId": "ff787c5c-5113-477c-f87a-45314dde21cd"
      },
      "source": [
        "cat_ohe_te,main_cat_ohe_te,sub_cat_1_ohe_te,sub_cat_2_ohe_te,brand_ohe_te = one_hot_encode(X_train,X_test)"
      ],
      "execution_count": null,
      "outputs": [
        {
          "output_type": "stream",
          "text": [
            "(148167, 1276)\n",
            "(148167, 11)\n",
            "(148167, 114)\n",
            "(148167, 858)\n",
            "(148167, 4681)\n",
            "====================================================================================================\n"
          ],
          "name": "stdout"
        }
      ]
    },
    {
      "cell_type": "code",
      "metadata": {
        "id": "lmdxp2y52sBT"
      },
      "source": [
        "def get_dummies_item_id_shipping(df):\n",
        "    df['item_condition_id'] = df[\"item_condition_id\"].astype(\"category\")\n",
        "    df['shipping'] = df[\"shipping\"].astype(\"category\")\n",
        "    item_id_shipping = csr_matrix(pd.get_dummies(df[['item_condition_id', 'shipping']],\\\n",
        "                                                      sparse=True).values)\n",
        "    return item_id_shipping"
      ],
      "execution_count": null,
      "outputs": []
    },
    {
      "cell_type": "code",
      "metadata": {
        "id": "z_4gTA1B2Lkz"
      },
      "source": [
        "item_id_shipping_X_tr = get_dummies_item_id_shipping(X_train)\n",
        "item_id_shipping_X_te = get_dummies_item_id_shipping(X_test)"
      ],
      "execution_count": null,
      "outputs": []
    },
    {
      "cell_type": "markdown",
      "metadata": {
        "id": "EOhHxaS129_-"
      },
      "source": [
        "Hợp nhất các features vào một ma trận sử dụng hàm hstack()"
      ]
    },
    {
      "cell_type": "code",
      "metadata": {
        "colab": {
          "base_uri": "https://localhost:8080/"
        },
        "id": "moVsipeZ2esO",
        "outputId": "b075c142-aebe-4ba3-a765-e0096e542820"
      },
      "source": [
        "tr_cat = hstack((cat_ohe_tr,main_cat_ohe_tr,sub_cat_1_ohe_tr,sub_cat_2_ohe_tr,brand_ohe_tr,\\\n",
        "                     item_id_shipping_X_tr)).tocsr()\n",
        "te_cat = hstack((cat_ohe_te,main_cat_ohe_te,sub_cat_1_ohe_te,sub_cat_2_ohe_te,brand_ohe_te,\\\n",
        "                     item_id_shipping_X_te)).tocsr()\n",
        "\n",
        "print(tr_cat.shape)\n",
        "print(te_cat.shape)"
      ],
      "execution_count": null,
      "outputs": [
        {
          "output_type": "stream",
          "text": [
            "(1333494, 6947)\n",
            "(148167, 6947)\n"
          ],
          "name": "stdout"
        }
      ]
    },
    {
      "cell_type": "code",
      "metadata": {
        "id": "romWY0w13KR5"
      },
      "source": [
        "def pickle_dump(*args,filename = 'file'):\n",
        "    argv = args\n",
        "    list_variable = [i for i in argv]\n",
        "    dir_name = \"/content/gdrive/\"+ PATH + \"pickles/\"\n",
        "    filename_suffix = \"pkl\"\n",
        "    file_path = os.path.join(dir_name, filename + \".\" + filename_suffix)\n",
        "    with open(file_path, 'wb') as f:\n",
        "        pickle.dump(list_variable, f)"
      ],
      "execution_count": null,
      "outputs": []
    },
    {
      "cell_type": "code",
      "metadata": {
        "id": "tjS8HDUR269_"
      },
      "source": [
        "pickle_dump(tr_cat,te_cat,filename = \"cat_features\")"
      ],
      "execution_count": null,
      "outputs": []
    },
    {
      "cell_type": "code",
      "metadata": {
        "id": "qMoYAS4q3wbK"
      },
      "source": [
        "def read_pickle_dump(*args,filename = 'file'):\n",
        "    argv = args\n",
        "    variable_list = [i for i in argv]\n",
        "    dir_name = \"/content/gdrive/\"+ PATH + \"pickles/\"\n",
        "    filename_suffix = \"pkl\"\n",
        "    file_path = os.path.join(dir_name, filename + \".\" + filename_suffix)\n",
        "    with open(file_path,'rb') as f:\n",
        "        variable_list = pickle.load(f)\n",
        "    return variable_list"
      ],
      "execution_count": null,
      "outputs": []
    },
    {
      "cell_type": "code",
      "metadata": {
        "id": "NRpGOGRV3Bys"
      },
      "source": [
        "tr_cat,te_cat= read_pickle_dump('tr_cat','te_cat',filename = \"cat_features\")"
      ],
      "execution_count": null,
      "outputs": []
    },
    {
      "cell_type": "markdown",
      "metadata": {
        "id": "2zI4aB7qsfbt"
      },
      "source": [
        "### **3.2 Text feature vectorizations:**"
      ]
    },
    {
      "cell_type": "markdown",
      "metadata": {
        "id": "xszSPvMOtxzJ"
      },
      "source": [
        "**TFIDF Vectorizer for concatenated text:**"
      ]
    },
    {
      "cell_type": "markdown",
      "metadata": {
        "id": "GSx4CEjxfNoY"
      },
      "source": [
        "Các đoạn văn bản sẽ được encoded sang dạng vectors, tại đây sử dụng TFIDFVectorizer cho item_description và BoW cho name"
      ]
    },
    {
      "cell_type": "markdown",
      "metadata": {
        "id": "jo37Zc8Gt_tI"
      },
      "source": [
        "**BoW for name**"
      ]
    },
    {
      "cell_type": "code",
      "metadata": {
        "id": "pkpC-NvgO76l"
      },
      "source": [
        "# from nltk.corpus import stopwords \n",
        "# from nltk.tokenize import word_tokenize"
      ],
      "execution_count": null,
      "outputs": []
    },
    {
      "cell_type": "code",
      "metadata": {
        "id": "8StHQr_NPQAE"
      },
      "source": [
        "# # hàm này chưa test và cần chuyển đổi về dạng list về chuỗi\n",
        "# def remove_stop_words(data):\n",
        "#     ser = pd.Series()\n",
        "\n",
        "#     fox i in data:\n",
        "#         stop_words = set(stopwords.words('english')) \n",
        "#         word_tokens = word_tokenize(i) \n",
        "#         filtered_sentence = [w for w in word_tokens if not w in stop_words] \n",
        "#         filtered_sentence = [] \n",
        "            \n",
        "#         for w in word_tokens: \n",
        "#             if w not in stop_words: \n",
        "#                 filtered_sentence.append(w)\n",
        "#         ser.append(filtered_sentence)\n",
        "#     return ser\n",
        "    "
      ],
      "execution_count": null,
      "outputs": []
    },
    {
      "cell_type": "code",
      "metadata": {
        "id": "hOiPnoFp4S74"
      },
      "source": [
        "def vectorizer(train,test,column,no_of_features,n_range,vector_type):\n",
        "    '''\n",
        "    Function to vectorize text using TFIDF/BoW\n",
        "    '''\n",
        "    if str(vector_type) == 'bow':\n",
        "        vectorizer = CountVectorizer(ngram_range=n_range,max_features=no_of_features).fit(train[column])  #fitting\n",
        "    else:\n",
        "        vectorizer = TfidfVectorizer(ngram_range=n_range, max_features=no_of_features).fit(train[column]) # fit has to happen only on train data\n",
        "    \n",
        "    # we use the fitted vectorizer to convert the text to vector\n",
        "    transformed_text = vectorizer.transform(tqdm(test[column]))\n",
        "    print(\"After vectorizations\")\n",
        "    print(transformed_text.shape)\n",
        "    print(\"=\"*100)\n",
        "    return transformed_text"
      ],
      "execution_count": null,
      "outputs": []
    },
    {
      "cell_type": "code",
      "metadata": {
        "colab": {
          "base_uri": "https://localhost:8080/"
        },
        "id": "_DB9FFCZ4Ef1",
        "outputId": "cb223acf-49ef-4a8f-df91-d89eb658de7b"
      },
      "source": [
        "X_train_bow_name = vectorizer(X_train,X_train,'name',100000,(1,2),'bow')\n",
        "X_test_bow_name = vectorizer(X_train,X_test,'name',100000,(1,2),'bow')"
      ],
      "execution_count": null,
      "outputs": [
        {
          "output_type": "stream",
          "text": [
            "100%|██████████| 1333494/1333494 [00:17<00:00, 75317.33it/s]\n"
          ],
          "name": "stderr"
        },
        {
          "output_type": "stream",
          "text": [
            "After vectorizations\n",
            "(1333494, 100000)\n",
            "====================================================================================================\n"
          ],
          "name": "stdout"
        },
        {
          "output_type": "stream",
          "text": [
            "100%|██████████| 148167/148167 [00:01<00:00, 76843.38it/s]\n"
          ],
          "name": "stderr"
        },
        {
          "output_type": "stream",
          "text": [
            "After vectorizations\n",
            "(148167, 100000)\n",
            "====================================================================================================\n"
          ],
          "name": "stdout"
        }
      ]
    },
    {
      "cell_type": "markdown",
      "metadata": {
        "id": "uC5YpIequLES"
      },
      "source": [
        "**TFIDF vectorization for item_description:**"
      ]
    },
    {
      "cell_type": "code",
      "metadata": {
        "colab": {
          "base_uri": "https://localhost:8080/"
        },
        "id": "H9NAVbLA4jBS",
        "outputId": "184e202e-58b7-4903-e084-6479bb561da2"
      },
      "source": [
        "X_train_tfidf_desc = vectorizer(X_train,X_train,'item_description',100000,(1,2),'tfidf')\n",
        "X_test_tfidf_desc = vectorizer(X_train,X_test,'item_description',100000,(1,2),'tfidf')"
      ],
      "execution_count": null,
      "outputs": [
        {
          "output_type": "stream",
          "text": [
            "100%|██████████| 1333494/1333494 [01:15<00:00, 17546.15it/s]\n"
          ],
          "name": "stderr"
        },
        {
          "output_type": "stream",
          "text": [
            "After vectorizations\n",
            "(1333494, 100000)\n",
            "====================================================================================================\n"
          ],
          "name": "stdout"
        },
        {
          "output_type": "stream",
          "text": [
            "100%|██████████| 148167/148167 [00:08<00:00, 17956.49it/s]\n"
          ],
          "name": "stderr"
        },
        {
          "output_type": "stream",
          "text": [
            "After vectorizations\n",
            "(148167, 100000)\n",
            "====================================================================================================\n"
          ],
          "name": "stdout"
        }
      ]
    },
    {
      "cell_type": "code",
      "metadata": {
        "id": "c8ztBAnd4lgs"
      },
      "source": [
        "pickle_dump(X_train_tfidf_desc,X_test_tfidf_desc,filename=\"tfidf_desc\")"
      ],
      "execution_count": null,
      "outputs": []
    },
    {
      "cell_type": "code",
      "metadata": {
        "id": "SMNIp22j4oYv"
      },
      "source": [
        "X_train_tfidf_desc,X_test_tfidf_desc = read_pickle_dump('X_train_tfidf_desc','X_test_tfidf_desc',filename=\"tfidf_desc\")"
      ],
      "execution_count": null,
      "outputs": []
    },
    {
      "cell_type": "markdown",
      "metadata": {
        "id": "U9eefsizsvRE"
      },
      "source": [
        "### **3.3 Feature matrix**\n"
      ]
    },
    {
      "cell_type": "markdown",
      "metadata": {
        "id": "OHD5r3EG4zrm"
      },
      "source": [
        "**Feature matrix:**\n",
        "\n",
        "BoW of name + TFIDF of item_description + OHEs of categorical columns + item_id and shipping dummies + wordcount of name + wordcount of description text"
      ]
    },
    {
      "cell_type": "code",
      "metadata": {
        "colab": {
          "base_uri": "https://localhost:8080/"
        },
        "id": "Tyzctr9_40Ov",
        "outputId": "5239c661-b1c0-4fbf-95ef-c409a22d4eaa"
      },
      "source": [
        "x_train_set = hstack((X_train_bow_name,X_train_tfidf_desc,tr_cat,X_train['wc_name'].values.reshape(-1,1),X_train['wc_desc'].values.reshape(-1,1))).tocsr()\n",
        "x_test_set = hstack((X_test_bow_name,X_test_tfidf_desc,te_cat,X_test['wc_name'].values.reshape(-1,1),X_test['wc_desc'].values.reshape(-1,1))).tocsr()\n",
        "\n",
        "print(\"Final Data matrix\")\n",
        "print(x_train_set.shape)\n",
        "print(x_test_set.shape)"
      ],
      "execution_count": null,
      "outputs": [
        {
          "output_type": "stream",
          "text": [
            "Final Data matrix\n",
            "(1333494, 206949)\n",
            "(148167, 206949)\n"
          ],
          "name": "stdout"
        }
      ]
    },
    {
      "cell_type": "markdown",
      "metadata": {
        "id": "ozD9pBitXv9N"
      },
      "source": [
        "chuyển đổi giá của sản phẩm sang dạng log "
      ]
    },
    {
      "cell_type": "code",
      "metadata": {
        "id": "YWOaXg6keoQx"
      },
      "source": [
        "def log_price(price):\n",
        "    return np.log1p(price)"
      ],
      "execution_count": null,
      "outputs": []
    },
    {
      "cell_type": "code",
      "metadata": {
        "id": "mGkFbSgv43Hb"
      },
      "source": [
        "global y_scalar\n",
        "y_scalar = StandardScaler()\n",
        "y_train = y_scalar.fit_transform(log_price(X_train['price']).values.reshape(-1, 1))\n",
        "y_test = y_scalar.transform(log_price(X_test['price']).values.reshape(-1, 1))"
      ],
      "execution_count": null,
      "outputs": []
    }
  ]
}