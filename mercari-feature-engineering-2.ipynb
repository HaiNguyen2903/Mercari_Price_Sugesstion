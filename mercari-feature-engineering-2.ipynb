{
 "cells": [
  {
   "cell_type": "code",
   "execution_count": 1,
   "id": "molecular-mills",
   "metadata": {
    "_cell_guid": "b1076dfc-b9ad-4769-8c92-a6c4dae69d19",
    "_uuid": "8f2839f25d086af736a60e9eeb907d3b93b6e0e5",
    "execution": {
     "iopub.execute_input": "2021-05-18T08:38:53.882019Z",
     "iopub.status.busy": "2021-05-18T08:38:53.877662Z",
     "iopub.status.idle": "2021-05-18T08:38:56.821678Z",
     "shell.execute_reply": "2021-05-18T08:38:56.820729Z"
    },
    "papermill": {
     "duration": 2.983138,
     "end_time": "2021-05-18T08:38:56.821833",
     "exception": false,
     "start_time": "2021-05-18T08:38:53.838695",
     "status": "completed"
    },
    "tags": []
   },
   "outputs": [
    {
     "data": {
      "text/html": [
       "<style type='text/css'>\n",
       ".datatable table.frame { margin-bottom: 0; }\n",
       ".datatable table.frame thead { border-bottom: none; }\n",
       ".datatable table.frame tr.coltypes td {  color: #FFFFFF;  line-height: 6px;  padding: 0 0.5em;}\n",
       ".datatable .bool    { background: #DDDD99; }\n",
       ".datatable .object  { background: #565656; }\n",
       ".datatable .int     { background: #5D9E5D; }\n",
       ".datatable .float   { background: #4040CC; }\n",
       ".datatable .str     { background: #CC4040; }\n",
       ".datatable .row_index {  background: var(--jp-border-color3);  border-right: 1px solid var(--jp-border-color0);  color: var(--jp-ui-font-color3);  font-size: 9px;}\n",
       ".datatable .frame tr.coltypes .row_index {  background: var(--jp-border-color0);}\n",
       ".datatable th:nth-child(2) { padding-left: 12px; }\n",
       ".datatable .hellipsis {  color: var(--jp-cell-editor-border-color);}\n",
       ".datatable .vellipsis {  background: var(--jp-layout-color0);  color: var(--jp-cell-editor-border-color);}\n",
       ".datatable .na {  color: var(--jp-cell-editor-border-color);  font-size: 80%;}\n",
       ".datatable .footer { font-size: 9px; }\n",
       ".datatable .frame_dimensions {  background: var(--jp-border-color3);  border-top: 1px solid var(--jp-border-color0);  color: var(--jp-ui-font-color3);  display: inline-block;  opacity: 0.6;  padding: 1px 10px 1px 5px;}\n",
       "</style>\n"
      ],
      "text/plain": [
       "<IPython.core.display.HTML object>"
      ]
     },
     "metadata": {},
     "output_type": "display_data"
    },
    {
     "name": "stdout",
     "output_type": "stream",
     "text": [
      "[nltk_data] Downloading package wordnet to /usr/share/nltk_data...\n",
      "[nltk_data]   Package wordnet is already up-to-date!\n",
      "[nltk_data] Downloading package punkt to /usr/share/nltk_data...\n",
      "[nltk_data]   Package punkt is already up-to-date!\n",
      "[nltk_data] Downloading package averaged_perceptron_tagger to\n",
      "[nltk_data]     /usr/share/nltk_data...\n",
      "[nltk_data]   Package averaged_perceptron_tagger is already up-to-\n",
      "[nltk_data]       date!\n"
     ]
    }
   ],
   "source": [
    "# from google.colab import drive\n",
    "# drive.mount('/content/drive')\n",
    "%matplotlib inline\n",
    "import warnings\n",
    "warnings.filterwarnings(\"ignore\")\n",
    "import gc\n",
    "\n",
    "import pandas as pd\n",
    "import numpy as np\n",
    "import string\n",
    "import matplotlib.pyplot as plt\n",
    "from wordcloud import WordCloud\n",
    "import seaborn as sns\n",
    "import math\n",
    "import lightgbm as lgb\n",
    "from tqdm.notebook import tqdm\n",
    "tqdm.pandas()\n",
    "\n",
    "#!pip install Wordbatch\n",
    "#from wordbatch.models import FTRL, FM_FTRL  # https://github.com/anttttti/Wordbatch\n",
    "import xgboost\n",
    "from sklearn.feature_extraction.text import CountVectorizer\n",
    "from sklearn.feature_extraction.text import TfidfVectorizer\n",
    "import nltk\n",
    "from nltk.stem import WordNetLemmatizer\n",
    "from nltk import word_tokenize\n",
    "from nltk.corpus import wordnet\n",
    "from nltk.stem import PorterStemmer \n",
    "from nltk.tokenize import word_tokenize\n",
    "nltk.download('wordnet')\n",
    "nltk.download('punkt')\n",
    "nltk.download('averaged_perceptron_tagger')\n",
    "from sklearn.model_selection import train_test_split\n",
    "import scipy\n",
    "from scipy.sparse import hstack\n",
    "\n",
    "from sklearn.metrics import mean_squared_log_error\n",
    "import pickle\n",
    "import regex as re\n",
    "import os\n",
    "\n",
    "os.environ['KAGGLE_CONFIG_DIR'] = '/content/drive/My Drive/Colab Notebooks/'"
   ]
  },
  {
   "cell_type": "code",
   "execution_count": 2,
   "id": "tough-professional",
   "metadata": {
    "execution": {
     "iopub.execute_input": "2021-05-18T08:38:56.888308Z",
     "iopub.status.busy": "2021-05-18T08:38:56.886863Z",
     "iopub.status.idle": "2021-05-18T08:39:20.267487Z",
     "shell.execute_reply": "2021-05-18T08:39:20.268123Z"
    },
    "papermill": {
     "duration": 23.41755,
     "end_time": "2021-05-18T08:39:20.268260",
     "exception": false,
     "start_time": "2021-05-18T08:38:56.850710",
     "status": "completed"
    },
    "tags": []
   },
   "outputs": [
    {
     "name": "stdout",
     "output_type": "stream",
     "text": [
      "\r\n",
      "\r\n",
      "\r\n",
      "The following additional packages will be installed:\r\n",
      "  p7zip\r\n",
      "Suggested packages:\r\n",
      "  p7zip-rar\r\n",
      "The following NEW packages will be installed:\r\n",
      "  p7zip p7zip-full\r\n",
      "0 upgraded, 2 newly installed, 0 to remove and 15 not upgraded.\r\n",
      "Need to get 1522 kB of archives.\r\n",
      "After this operation, 5755 kB of additional disk space will be used.\r\n",
      "Get:1 http://archive.ubuntu.com/ubuntu bionic/universe amd64 p7zip amd64 16.02+dfsg-6 [358 kB]\r\n",
      "Get:2 http://archive.ubuntu.com/ubuntu bionic/universe amd64 p7zip-full amd64 16.02+dfsg-6 [1164 kB]\r\n",
      "Fetched 1522 kB in 0s (5039 kB/s)\r\n",
      "debconf: delaying package configuration, since apt-utils is not installed\r\n",
      "\n",
      "\u001b7\u001b[0;23r\u001b8\u001b[1ASelecting previously unselected package p7zip.\r\n",
      "(Reading database ... 95327 files and directories currently installed.)\r\n",
      "Preparing to unpack .../p7zip_16.02+dfsg-6_amd64.deb ...\r\n",
      "\u001b7\u001b[24;0f\u001b[42m\u001b[30mProgress: [  0%]\u001b[49m\u001b[39m [..........................................................] \u001b8\u001b7\u001b[24;0f\u001b[42m\u001b[30mProgress: [  9%]\u001b[49m\u001b[39m [#####.....................................................] \u001b8Unpacking p7zip (16.02+dfsg-6) ...\r\n",
      "\u001b7\u001b[24;0f\u001b[42m\u001b[30mProgress: [ 18%]\u001b[49m\u001b[39m [##########................................................] \u001b8\u001b7\u001b[24;0f\u001b[42m\u001b[30mProgress: [ 27%]\u001b[49m\u001b[39m [###############...........................................] \u001b8Selecting previously unselected package p7zip-full.\r\n",
      "Preparing to unpack .../p7zip-full_16.02+dfsg-6_amd64.deb ...\r\n",
      "\u001b7\u001b[24;0f\u001b[42m\u001b[30mProgress: [ 36%]\u001b[49m\u001b[39m [#####################.....................................] \u001b8Unpacking p7zip-full (16.02+dfsg-6) ...\r\n",
      "\u001b7\u001b[24;0f\u001b[42m\u001b[30mProgress: [ 45%]\u001b[49m\u001b[39m [##########################................................] \u001b8\u001b7\u001b[24;0f\u001b[42m\u001b[30mProgress: [ 55%]\u001b[49m\u001b[39m [###############################...........................] \u001b8Setting up p7zip (16.02+dfsg-6) ...\r\n",
      "\u001b7\u001b[24;0f\u001b[42m\u001b[30mProgress: [ 64%]\u001b[49m\u001b[39m [####################################......................] \u001b8\u001b7\u001b[24;0f\u001b[42m\u001b[30mProgress: [ 73%]\u001b[49m\u001b[39m [##########################################................] \u001b8Setting up p7zip-full (16.02+dfsg-6) ...\r\n",
      "\u001b7\u001b[24;0f\u001b[42m\u001b[30mProgress: [ 82%]\u001b[49m\u001b[39m [###############################################...........] \u001b8\u001b7\u001b[24;0f\u001b[42m\u001b[30mProgress: [ 91%]\u001b[49m\u001b[39m [####################################################......] \u001b8\r\n",
      "\u001b7\u001b[0;24r\u001b8\u001b[1A\u001b[J\r\n",
      "7-Zip [64] 16.02 : Copyright (c) 1999-2016 Igor Pavlov : 2016-05-21\r\n",
      "p7zip Version 16.02 (locale=C.UTF-8,Utf16=on,HugeFiles=on,64 bits,4 CPUs AMD EPYC 7B12 (830F10),ASM,AES-NI)\r\n",
      "\r\n",
      "Scanning the drive for archives:\r\n",
      "  0M Scan ../input/mercari-price-suggestion-challenge/\b\b\b\b\b\b\b\b\b\b\b\b\b\b\b\b\b\b\b\b\b\b\b\b\b\b\b\b\b\b\b\b\b\b\b\b\b\b\b\b\b\b\b\b\b\b\b\b\b\b\b\b\b\b                                                      \b\b\b\b\b\b\b\b\b\b\b\b\b\b\b\b\b\b\b\b\b\b\b\b\b\b\b\b\b\b\b\b\b\b\b\b\b\b\b\b\b\b\b\b\b\b\b\b\b\b\b\b\b\b1 file, 77912192 bytes (75 MiB)\r\n",
      "\r\n",
      "Extracting archive: ../input/mercari-price-suggestion-challenge/train.tsv.7z\r\n",
      "--\r\n",
      "Path = ../input/mercari-price-suggestion-challenge/train.tsv.7z\r\n",
      "Type = 7z\r\n",
      "Physical Size = 77912192\r\n",
      "Headers Size = 122\r\n",
      "Method = LZMA2:24\r\n",
      "Solid = -\r\n",
      "Blocks = 1\r\n",
      "\r\n",
      "  0%\b\b\b\b    \b\b\b\b  2% - train.tsv\b\b\b\b\b\b\b\b\b\b\b\b\b\b\b\b                \b\b\b\b\b\b\b\b\b\b\b\b\b\b\b\b  4% - train.tsv\b\b\b\b\b\b\b\b\b\b\b\b\b\b\b\b                \b\b\b\b\b\b\b\b\b\b\b\b\b\b\b\b  7% - train.tsv\b\b\b\b\b\b\b\b\b\b\b\b\b\b\b\b                \b\b\b\b\b\b\b\b\b\b\b\b\b\b\b\b 10% - train.tsv\b\b\b\b\b\b\b\b\b\b\b\b\b\b\b\b                \b\b\b\b\b\b\b\b\b\b\b\b\b\b\b\b 13% - train.tsv\b\b\b\b\b\b\b\b\b\b\b\b\b\b\b\b                \b\b\b\b\b\b\b\b\b\b\b\b\b\b\b\b 16% - train.tsv\b\b\b\b\b\b\b\b\b\b\b\b\b\b\b\b                \b\b\b\b\b\b\b\b\b\b\b\b\b\b\b\b 18% - train.tsv\b\b\b\b\b\b\b\b\b\b\b\b\b\b\b\b                \b\b\b\b\b\b\b\b\b\b\b\b\b\b\b\b 22% - train.tsv\b\b\b\b\b\b\b\b\b\b\b\b\b\b\b\b                \b\b\b\b\b\b\b\b\b\b\b\b\b\b\b\b 25% - train.tsv\b\b\b\b\b\b\b\b\b\b\b\b\b\b\b\b                \b\b\b\b\b\b\b\b\b\b\b\b\b\b\b\b 28% - train.tsv\b\b\b\b\b\b\b\b\b\b\b\b\b\b\b\b                \b\b\b\b\b\b\b\b\b\b\b\b\b\b\b\b 32% - train.tsv\b\b\b\b\b\b\b\b\b\b\b\b\b\b\b\b                \b\b\b\b\b\b\b\b\b\b\b\b\b\b\b\b 34% - train.tsv\b\b\b\b\b\b\b\b\b\b\b\b\b\b\b\b                \b\b\b\b\b\b\b\b\b\b\b\b\b\b\b\b 38% - train.tsv\b\b\b\b\b\b\b\b\b\b\b\b\b\b\b\b                \b\b\b\b\b\b\b\b\b\b\b\b\b\b\b\b 41% - train.tsv\b\b\b\b\b\b\b\b\b\b\b\b\b\b\b\b                \b\b\b\b\b\b\b\b\b\b\b\b\b\b\b\b 44% - train.tsv\b\b\b\b\b\b\b\b\b\b\b\b\b\b\b\b                \b\b\b\b\b\b\b\b\b\b\b\b\b\b\b\b 47% - train.tsv\b\b\b\b\b\b\b\b\b\b\b\b\b\b\b\b                \b\b\b\b\b\b\b\b\b\b\b\b\b\b\b\b 50% - train.tsv\b\b\b\b\b\b\b\b\b\b\b\b\b\b\b\b                \b\b\b\b\b\b\b\b\b\b\b\b\b\b\b\b 54% - train.tsv\b\b\b\b\b\b\b\b\b\b\b\b\b\b\b\b                \b\b\b\b\b\b\b\b\b\b\b\b\b\b\b\b 57% - train.tsv\b\b\b\b\b\b\b\b\b\b\b\b\b\b\b\b                \b\b\b\b\b\b\b\b\b\b\b\b\b\b\b\b 60% - train.tsv\b\b\b\b\b\b\b\b\b\b\b\b\b\b\b\b                \b\b\b\b\b\b\b\b\b\b\b\b\b\b\b\b 64% - train.tsv\b\b\b\b\b\b\b\b\b\b\b\b\b\b\b\b                \b\b\b\b\b\b\b\b\b\b\b\b\b\b\b\b 67% - train.tsv\b\b\b\b\b\b\b\b\b\b\b\b\b\b\b\b                \b\b\b\b\b\b\b\b\b\b\b\b\b\b\b\b 70% - train.tsv\b\b\b\b\b\b\b\b\b\b\b\b\b\b\b\b                \b\b\b\b\b\b\b\b\b\b\b\b\b\b\b\b 73% - train.tsv\b\b\b\b\b\b\b\b\b\b\b\b\b\b\b\b                \b\b\b\b\b\b\b\b\b\b\b\b\b\b\b\b 76% - train.tsv\b\b\b\b\b\b\b\b\b\b\b\b\b\b\b\b                \b\b\b\b\b\b\b\b\b\b\b\b\b\b\b\b 80% - train.tsv\b\b\b\b\b\b\b\b\b\b\b\b\b\b\b\b                \b\b\b\b\b\b\b\b\b\b\b\b\b\b\b\b 83% - train.tsv\b\b\b\b\b\b\b\b\b\b\b\b\b\b\b\b                \b\b\b\b\b\b\b\b\b\b\b\b\b\b\b\b 86% - train.tsv\b\b\b\b\b\b\b\b\b\b\b\b\b\b\b\b                \b\b\b\b\b\b\b\b\b\b\b\b\b\b\b\b 90% - train.tsv\b\b\b\b\b\b\b\b\b\b\b\b\b\b\b\b                \b\b\b\b\b\b\b\b\b\b\b\b\b\b\b\b 94% - train.tsv\b\b\b\b\b\b\b\b\b\b\b\b\b\b\b\b                \b\b\b\b\b\b\b\b\b\b\b\b\b\b\b\b 98% - train.tsv\b\b\b\b\b\b\b\b\b\b\b\b\b\b\b\b                \b\b\b\b\b\b\b\b\b\b\b\b\b\b\b\bEverything is Ok\r\n",
      "\r\n",
      "Size:       337809843\r\n",
      "Compressed: 77912192\r\n",
      "\r\n",
      "7-Zip [64] 16.02 : Copyright (c) 1999-2016 Igor Pavlov : 2016-05-21\r\n",
      "p7zip Version 16.02 (locale=C.UTF-8,Utf16=on,HugeFiles=on,64 bits,4 CPUs AMD EPYC 7B12 (830F10),ASM,AES-NI)\r\n",
      "\r\n",
      "Scanning the drive for archives:\r\n",
      "  0M Scan ../input/mercari-price-suggestion-challenge/\b\b\b\b\b\b\b\b\b\b\b\b\b\b\b\b\b\b\b\b\b\b\b\b\b\b\b\b\b\b\b\b\b\b\b\b\b\b\b\b\b\b\b\b\b\b\b\b\b\b\b\b\b\b                                                      \b\b\b\b\b\b\b\b\b\b\b\b\b\b\b\b\b\b\b\b\b\b\b\b\b\b\b\b\b\b\b\b\b\b\b\b\b\b\b\b\b\b\b\b\b\b\b\b\b\b\b\b\b\b1 file, 35617013 bytes (34 MiB)\r\n",
      "\r\n",
      "Extracting archive: ../input/mercari-price-suggestion-challenge/test.tsv.7z\r\n",
      "--\r\n",
      "Path = ../input/mercari-price-suggestion-challenge/test.tsv.7z\r\n",
      "Type = 7z\r\n",
      "Physical Size = 35617013\r\n",
      "Headers Size = 122\r\n",
      "Method = LZMA2:24\r\n",
      "Solid = -\r\n",
      "Blocks = 1\r\n",
      "\r\n",
      "  0%\b\b\b\b    \b\b\b\b  5% - test.tsv\b\b\b\b\b\b\b\b\b\b\b\b\b\b\b               \b\b\b\b\b\b\b\b\b\b\b\b\b\b\b 13% - test.tsv\b\b\b\b\b\b\b\b\b\b\b\b\b\b\b               \b\b\b\b\b\b\b\b\b\b\b\b\b\b\b 20% - test.tsv\b\b\b\b\b\b\b\b\b\b\b\b\b\b\b               \b\b\b\b\b\b\b\b\b\b\b\b\b\b\b 27% - test.tsv\b\b\b\b\b\b\b\b\b\b\b\b\b\b\b               \b\b\b\b\b\b\b\b\b\b\b\b\b\b\b 35% - test.tsv\b\b\b\b\b\b\b\b\b\b\b\b\b\b\b               \b\b\b\b\b\b\b\b\b\b\b\b\b\b\b 43% - test.tsv\b\b\b\b\b\b\b\b\b\b\b\b\b\b\b               \b\b\b\b\b\b\b\b\b\b\b\b\b\b\b 48% - test.tsv\b\b\b\b\b\b\b\b\b\b\b\b\b\b\b               \b\b\b\b\b\b\b\b\b\b\b\b\b\b\b 54% - test.tsv\b\b\b\b\b\b\b\b\b\b\b\b\b\b\b               \b\b\b\b\b\b\b\b\b\b\b\b\b\b\b 62% - test.tsv\b\b\b\b\b\b\b\b\b\b\b\b\b\b\b               \b\b\b\b\b\b\b\b\b\b\b\b\b\b\b 70% - test.tsv\b\b\b\b\b\b\b\b\b\b\b\b\b\b\b               \b\b\b\b\b\b\b\b\b\b\b\b\b\b\b 78% - test.tsv\b\b\b\b\b\b\b\b\b\b\b\b\b\b\b               \b\b\b\b\b\b\b\b\b\b\b\b\b\b\b 85% - test.tsv\b\b\b\b\b\b\b\b\b\b\b\b\b\b\b               \b\b\b\b\b\b\b\b\b\b\b\b\b\b\b 92% - test.tsv\b\b\b\b\b\b\b\b\b\b\b\b\b\b\b               \b\b\b\b\b\b\b\b\b\b\b\b\b\b\b100% 1\b\b\b\b\b\b      \b\b\b\b\b\bEverything is Ok\r\n",
      "\r\n",
      "Size:       154222160\r\n",
      "Compressed: 35617013\r\n",
      "\r\n",
      "7-Zip [64] 16.02 : Copyright (c) 1999-2016 Igor Pavlov : 2016-05-21\r\n",
      "p7zip Version 16.02 (locale=C.UTF-8,Utf16=on,HugeFiles=on,64 bits,4 CPUs AMD EPYC 7B12 (830F10),ASM,AES-NI)\r\n",
      "\r\n",
      "Scanning the drive for archives:\r\n",
      "  0M Scan ../input/mercari-price-suggestion-challenge/\b\b\b\b\b\b\b\b\b\b\b\b\b\b\b\b\b\b\b\b\b\b\b\b\b\b\b\b\b\b\b\b\b\b\b\b\b\b\b\b\b\b\b\b\b\b\b\b\b\b\b\b\b\b                                                      \b\b\b\b\b\b\b\b\b\b\b\b\b\b\b\b\b\b\b\b\b\b\b\b\b\b\b\b\b\b\b\b\b\b\b\b\b\b\b\b\b\b\b\b\b\b\b\b\b\b\b\b\b\b1 file, 308669128 bytes (295 MiB)\r\n",
      "\r\n",
      "Extracting archive: ../input/mercari-price-suggestion-challenge/test_stg2.tsv.zip\r\n",
      "--\r\n",
      "Path = ../input/mercari-price-suggestion-challenge/test_stg2.tsv.zip\r\n",
      "Type = zip\r\n",
      "Physical Size = 308669128\r\n",
      "\r\n",
      "  0%\b\b\b\b    \b\b\b\b  2% - test_stg2.tsv\b\b\b\b\b\b\b\b\b\b\b\b\b\b\b\b\b\b\b\b                    \b\b\b\b\b\b\b\b\b\b\b\b\b\b\b\b\b\b\b\b  4% - test_stg2.tsv\b\b\b\b\b\b\b\b\b\b\b\b\b\b\b\b\b\b\b\b                    \b\b\b\b\b\b\b\b\b\b\b\b\b\b\b\b\b\b\b\b  7% - test_stg2.tsv\b\b\b\b\b\b\b\b\b\b\b\b\b\b\b\b\b\b\b\b                    \b\b\b\b\b\b\b\b\b\b\b\b\b\b\b\b\b\b\b\b  9% - test_stg2.tsv\b\b\b\b\b\b\b\b\b\b\b\b\b\b\b\b\b\b\b\b                    \b\b\b\b\b\b\b\b\b\b\b\b\b\b\b\b\b\b\b\b 12% - test_stg2.tsv\b\b\b\b\b\b\b\b\b\b\b\b\b\b\b\b\b\b\b\b                    \b\b\b\b\b\b\b\b\b\b\b\b\b\b\b\b\b\b\b\b 14% - test_stg2.tsv\b\b\b\b\b\b\b\b\b\b\b\b\b\b\b\b\b\b\b\b                    \b\b\b\b\b\b\b\b\b\b\b\b\b\b\b\b\b\b\b\b 17% - test_stg2.tsv\b\b\b\b\b\b\b\b\b\b\b\b\b\b\b\b\b\b\b\b                    \b\b\b\b\b\b\b\b\b\b\b\b\b\b\b\b\b\b\b\b 19% - test_stg2.tsv\b\b\b\b\b\b\b\b\b\b\b\b\b\b\b\b\b\b\b\b                    \b\b\b\b\b\b\b\b\b\b\b\b\b\b\b\b\b\b\b\b 22% - test_stg2.tsv\b\b\b\b\b\b\b\b\b\b\b\b\b\b\b\b\b\b\b\b                    \b\b\b\b\b\b\b\b\b\b\b\b\b\b\b\b\b\b\b\b 25% - test_stg2.tsv\b\b\b\b\b\b\b\b\b\b\b\b\b\b\b\b\b\b\b\b                    \b\b\b\b\b\b\b\b\b\b\b\b\b\b\b\b\b\b\b\b 27% - test_stg2.tsv\b\b\b\b\b\b\b\b\b\b\b\b\b\b\b\b\b\b\b\b                    \b\b\b\b\b\b\b\b\b\b\b\b\b\b\b\b\b\b\b\b 30% - test_stg2.tsv\b\b\b\b\b\b\b\b\b\b\b\b\b\b\b\b\b\b\b\b                    \b\b\b\b\b\b\b\b\b\b\b\b\b\b\b\b\b\b\b\b 32% - test_stg2.tsv\b\b\b\b\b\b\b\b\b\b\b\b\b\b\b\b\b\b\b\b                    \b\b\b\b\b\b\b\b\b\b\b\b\b\b\b\b\b\b\b\b 35% - test_stg2.tsv\b\b\b\b\b\b\b\b\b\b\b\b\b\b\b\b\b\b\b\b                    \b\b\b\b\b\b\b\b\b\b\b\b\b\b\b\b\b\b\b\b 37% - test_stg2.tsv\b\b\b\b\b\b\b\b\b\b\b\b\b\b\b\b\b\b\b\b                    \b\b\b\b\b\b\b\b\b\b\b\b\b\b\b\b\b\b\b\b 40% - test_stg2.tsv\b\b\b\b\b\b\b\b\b\b\b\b\b\b\b\b\b\b\b\b                    \b\b\b\b\b\b\b\b\b\b\b\b\b\b\b\b\b\b\b\b 42% - test_stg2.tsv\b\b\b\b\b\b\b\b\b\b\b\b\b\b\b\b\b\b\b\b                    \b\b\b\b\b\b\b\b\b\b\b\b\b\b\b\b\b\b\b\b 45% - test_stg2.tsv\b\b\b\b\b\b\b\b\b\b\b\b\b\b\b\b\b\b\b\b                    \b\b\b\b\b\b\b\b\b\b\b\b\b\b\b\b\b\b\b\b 47% - test_stg2.tsv\b\b\b\b\b\b\b\b\b\b\b\b\b\b\b\b\b\b\b\b                    \b\b\b\b\b\b\b\b\b\b\b\b\b\b\b\b\b\b\b\b 50% - test_stg2.tsv\b\b\b\b\b\b\b\b\b\b\b\b\b\b\b\b\b\b\b\b                    \b\b\b\b\b\b\b\b\b\b\b\b\b\b\b\b\b\b\b\b 52% - test_stg2.tsv\b\b\b\b\b\b\b\b\b\b\b\b\b\b\b\b\b\b\b\b                    \b\b\b\b\b\b\b\b\b\b\b\b\b\b\b\b\b\b\b\b 55% - test_stg2.tsv\b\b\b\b\b\b\b\b\b\b\b\b\b\b\b\b\b\b\b\b                    \b\b\b\b\b\b\b\b\b\b\b\b\b\b\b\b\b\b\b\b 58% - test_stg2.tsv\b\b\b\b\b\b\b\b\b\b\b\b\b\b\b\b\b\b\b\b                    \b\b\b\b\b\b\b\b\b\b\b\b\b\b\b\b\b\b\b\b 60% - test_stg2.tsv\b\b\b\b\b\b\b\b\b\b\b\b\b\b\b\b\b\b\b\b                    \b\b\b\b\b\b\b\b\b\b\b\b\b\b\b\b\b\b\b\b 63% - test_stg2.tsv\b\b\b\b\b\b\b\b\b\b\b\b\b\b\b\b\b\b\b\b                    \b\b\b\b\b\b\b\b\b\b\b\b\b\b\b\b\b\b\b\b 65% - test_stg2.tsv\b\b\b\b\b\b\b\b\b\b\b\b\b\b\b\b\b\b\b\b                    \b\b\b\b\b\b\b\b\b\b\b\b\b\b\b\b\b\b\b\b 67% - test_stg2.tsv\b\b\b\b\b\b\b\b\b\b\b\b\b\b\b\b\b\b\b\b                    \b\b\b\b\b\b\b\b\b\b\b\b\b\b\b\b\b\b\b\b 70% - test_stg2.tsv\b\b\b\b\b\b\b\b\b\b\b\b\b\b\b\b\b\b\b\b                    \b\b\b\b\b\b\b\b\b\b\b\b\b\b\b\b\b\b\b\b 72% - test_stg2.tsv\b\b\b\b\b\b\b\b\b\b\b\b\b\b\b\b\b\b\b\b                    \b\b\b\b\b\b\b\b\b\b\b\b\b\b\b\b\b\b\b\b 75% - test_stg2.tsv\b\b\b\b\b\b\b\b\b\b\b\b\b\b\b\b\b\b\b\b                    \b\b\b\b\b\b\b\b\b\b\b\b\b\b\b\b\b\b\b\b 78% - test_stg2.tsv\b\b\b\b\b\b\b\b\b\b\b\b\b\b\b\b\b\b\b\b                    \b\b\b\b\b\b\b\b\b\b\b\b\b\b\b\b\b\b\b\b 80% - test_stg2.tsv\b\b\b\b\b\b\b\b\b\b\b\b\b\b\b\b\b\b\b\b                    \b\b\b\b\b\b\b\b\b\b\b\b\b\b\b\b\b\b\b\b 83% - test_stg2.tsv\b\b\b\b\b\b\b\b\b\b\b\b\b\b\b\b\b\b\b\b                    \b\b\b\b\b\b\b\b\b\b\b\b\b\b\b\b\b\b\b\b 85% - test_stg2.tsv\b\b\b\b\b\b\b\b\b\b\b\b\b\b\b\b\b\b\b\b                    \b\b\b\b\b\b\b\b\b\b\b\b\b\b\b\b\b\b\b\b 88% - test_stg2.tsv\b\b\b\b\b\b\b\b\b\b\b\b\b\b\b\b\b\b\b\b                    \b\b\b\b\b\b\b\b\b\b\b\b\b\b\b\b\b\b\b\b 91% - test_stg2.tsv\b\b\b\b\b\b\b\b\b\b\b\b\b\b\b\b\b\b\b\b                    \b\b\b\b\b\b\b\b\b\b\b\b\b\b\b\b\b\b\b\b 93% - test_stg2.tsv\b\b\b\b\b\b\b\b\b\b\b\b\b\b\b\b\b\b\b\b                    \b\b\b\b\b\b\b\b\b\b\b\b\b\b\b\b\b\b\b\b 96% - test_stg2.tsv\b\b\b\b\b\b\b\b\b\b\b\b\b\b\b\b\b\b\b\b                    \b\b\b\b\b\b\b\b\b\b\b\b\b\b\b\b\b\b\b\b 99% - test_stg2.tsv\b\b\b\b\b\b\b\b\b\b\b\b\b\b\b\b\b\b\b\b                    \b\b\b\b\b\b\b\b\b\b\b\b\b\b\b\b\b\b\b\bEverything is Ok\r\n",
      "\r\n",
      "Size:       772639815\r\n",
      "Compressed: 308669128\r\n",
      "\r\n",
      "7-Zip [64] 16.02 : Copyright (c) 1999-2016 Igor Pavlov : 2016-05-21\r\n",
      "p7zip Version 16.02 (locale=C.UTF-8,Utf16=on,HugeFiles=on,64 bits,4 CPUs AMD EPYC 7B12 (830F10),ASM,AES-NI)\r\n",
      "\r\n",
      "Scanning the drive for archives:\r\n",
      "  0M Scan ../input/mercari-price-suggestion-challenge/\b\b\b\b\b\b\b\b\b\b\b\b\b\b\b\b\b\b\b\b\b\b\b\b\b\b\b\b\b\b\b\b\b\b\b\b\b\b\b\b\b\b\b\b\b\b\b\b\b\b\b\b\b\b                                                      \b\b\b\b\b\b\b\b\b\b\b\b\b\b\b\b\b\b\b\b\b\b\b\b\b\b\b\b\b\b\b\b\b\b\b\b\b\b\b\b\b\b\b\b\b\b\b\b\b\b\b\b\b\b1 file, 174228 bytes (171 KiB)\r\n",
      "\r\n",
      "Extracting archive: ../input/mercari-price-suggestion-challenge/sample_submission.csv.7z\r\n",
      "--\r\n",
      "Path = ../input/mercari-price-suggestion-challenge/sample_submission.csv.7z\r\n",
      "Type = 7z\r\n",
      "Physical Size = 174228\r\n",
      "Headers Size = 143\r\n",
      "Method = LZMA:12m\r\n",
      "Solid = -\r\n",
      "Blocks = 1\r\n",
      "\r\n",
      "  0%\b\b\b\b    \b\b\b\bEverything is Ok\r\n",
      "\r\n",
      "Size:       9595930\r\n",
      "Compressed: 174228\r\n"
     ]
    }
   ],
   "source": [
    "# if 'train.tsv' not in os.listdir(): \n",
    "#     !kaggle competitions download -c mercari-price-suggestion-challenge\n",
    "#     get_ipython().system_raw(\"7z x \\*.7z && rm *.7z\")\n",
    "#     get_ipython().system_raw(\"7z x \\*.zip && rm *.zip\")\n",
    "\n",
    "# Unzip data files\n",
    "!apt install --assume-yes p7zip-full\n",
    "!7z x ../input/mercari-price-suggestion-challenge/train.tsv.7z -y\n",
    "!7z x ../input/mercari-price-suggestion-challenge/test.tsv.7z -y\n",
    "!7z x ../input/mercari-price-suggestion-challenge/test_stg2.tsv.zip -y\n",
    "!7z x ../input/mercari-price-suggestion-challenge/sample_submission.csv.7z -y\n",
    "# !7z x ../input/mercari-price-suggestion-challenge/sample_submission_stg2.csv.zip -y"
   ]
  },
  {
   "cell_type": "code",
   "execution_count": 3,
   "id": "marine-detail",
   "metadata": {
    "execution": {
     "iopub.execute_input": "2021-05-18T08:39:20.392460Z",
     "iopub.status.busy": "2021-05-18T08:39:20.391781Z",
     "iopub.status.idle": "2021-05-18T08:39:20.393884Z",
     "shell.execute_reply": "2021-05-18T08:39:20.393409Z"
    },
    "papermill": {
     "duration": 0.064452,
     "end_time": "2021-05-18T08:39:20.393996",
     "exception": false,
     "start_time": "2021-05-18T08:39:20.329544",
     "status": "completed"
    },
    "tags": []
   },
   "outputs": [],
   "source": [
    "# train_path = './train.tsv'\n",
    "# test_path = './test.tsv'\n",
    "test2_path = './test_stg2.tsv'"
   ]
  },
  {
   "cell_type": "code",
   "execution_count": 4,
   "id": "earned-annual",
   "metadata": {
    "execution": {
     "iopub.execute_input": "2021-05-18T08:39:20.526973Z",
     "iopub.status.busy": "2021-05-18T08:39:20.526323Z",
     "iopub.status.idle": "2021-05-18T08:39:32.132106Z",
     "shell.execute_reply": "2021-05-18T08:39:32.132477Z"
    },
    "papermill": {
     "duration": 11.671121,
     "end_time": "2021-05-18T08:39:32.132652",
     "exception": false,
     "start_time": "2021-05-18T08:39:20.461531",
     "status": "completed"
    },
    "tags": []
   },
   "outputs": [
    {
     "data": {
      "text/html": [
       "<div>\n",
       "<style scoped>\n",
       "    .dataframe tbody tr th:only-of-type {\n",
       "        vertical-align: middle;\n",
       "    }\n",
       "\n",
       "    .dataframe tbody tr th {\n",
       "        vertical-align: top;\n",
       "    }\n",
       "\n",
       "    .dataframe thead th {\n",
       "        text-align: right;\n",
       "    }\n",
       "</style>\n",
       "<table border=\"1\" class=\"dataframe\">\n",
       "  <thead>\n",
       "    <tr style=\"text-align: right;\">\n",
       "      <th></th>\n",
       "      <th>test_id</th>\n",
       "      <th>name</th>\n",
       "      <th>item_condition_id</th>\n",
       "      <th>category_name</th>\n",
       "      <th>brand_name</th>\n",
       "      <th>shipping</th>\n",
       "      <th>item_description</th>\n",
       "    </tr>\n",
       "  </thead>\n",
       "  <tbody>\n",
       "    <tr>\n",
       "      <th>0</th>\n",
       "      <td>0</td>\n",
       "      <td>Breast cancer \"I fight like a girl\" ring</td>\n",
       "      <td>1</td>\n",
       "      <td>Women/Jewelry/Rings</td>\n",
       "      <td>NaN</td>\n",
       "      <td>1</td>\n",
       "      <td>Size 7</td>\n",
       "    </tr>\n",
       "    <tr>\n",
       "      <th>1</th>\n",
       "      <td>1</td>\n",
       "      <td>25 pcs NEW 7.5\"x12\" Kraft Bubble Mailers</td>\n",
       "      <td>1</td>\n",
       "      <td>Other/Office supplies/Shipping Supplies</td>\n",
       "      <td>NaN</td>\n",
       "      <td>1</td>\n",
       "      <td>25 pcs NEW 7.5\"x12\" Kraft Bubble Mailers Lined...</td>\n",
       "    </tr>\n",
       "    <tr>\n",
       "      <th>2</th>\n",
       "      <td>2</td>\n",
       "      <td>Coach bag</td>\n",
       "      <td>1</td>\n",
       "      <td>Vintage &amp; Collectibles/Bags and Purses/Handbag</td>\n",
       "      <td>Coach</td>\n",
       "      <td>1</td>\n",
       "      <td>Brand new coach bag. Bought for [rm] at a Coac...</td>\n",
       "    </tr>\n",
       "    <tr>\n",
       "      <th>3</th>\n",
       "      <td>3</td>\n",
       "      <td>Floral Kimono</td>\n",
       "      <td>2</td>\n",
       "      <td>Women/Sweaters/Cardigan</td>\n",
       "      <td>NaN</td>\n",
       "      <td>0</td>\n",
       "      <td>-floral kimono -never worn -lightweight and pe...</td>\n",
       "    </tr>\n",
       "    <tr>\n",
       "      <th>4</th>\n",
       "      <td>4</td>\n",
       "      <td>Life after Death</td>\n",
       "      <td>3</td>\n",
       "      <td>Other/Books/Religion &amp; Spirituality</td>\n",
       "      <td>NaN</td>\n",
       "      <td>1</td>\n",
       "      <td>Rediscovering life after the loss of a loved o...</td>\n",
       "    </tr>\n",
       "  </tbody>\n",
       "</table>\n",
       "</div>"
      ],
      "text/plain": [
       "   test_id                                      name  item_condition_id  \\\n",
       "0        0  Breast cancer \"I fight like a girl\" ring                  1   \n",
       "1        1  25 pcs NEW 7.5\"x12\" Kraft Bubble Mailers                  1   \n",
       "2        2                                 Coach bag                  1   \n",
       "3        3                             Floral Kimono                  2   \n",
       "4        4                          Life after Death                  3   \n",
       "\n",
       "                                    category_name brand_name  shipping  \\\n",
       "0                             Women/Jewelry/Rings        NaN         1   \n",
       "1         Other/Office supplies/Shipping Supplies        NaN         1   \n",
       "2  Vintage & Collectibles/Bags and Purses/Handbag      Coach         1   \n",
       "3                         Women/Sweaters/Cardigan        NaN         0   \n",
       "4             Other/Books/Religion & Spirituality        NaN         1   \n",
       "\n",
       "                                    item_description  \n",
       "0                                             Size 7  \n",
       "1  25 pcs NEW 7.5\"x12\" Kraft Bubble Mailers Lined...  \n",
       "2  Brand new coach bag. Bought for [rm] at a Coac...  \n",
       "3  -floral kimono -never worn -lightweight and pe...  \n",
       "4  Rediscovering life after the loss of a loved o...  "
      ]
     },
     "execution_count": 4,
     "metadata": {},
     "output_type": "execute_result"
    }
   ],
   "source": [
    "import pandas as pd\n",
    "\n",
    "# train_df = pd.read_csv(train_path, sep='\\t')\n",
    "# test_df = pd.read_csv(test_path, sep = '\\t')\n",
    "\n",
    "# train_df = train_df.head(8000)\n",
    "# test_df = test_df.head(6000)\n",
    "\n",
    "test_stg2_df = pd.read_csv(test2_path, sep = '\\t')\n",
    "test_stg2_df.head(5)"
   ]
  },
  {
   "cell_type": "markdown",
   "id": "going-worship",
   "metadata": {
    "papermill": {
     "duration": 0.057829,
     "end_time": "2021-05-18T08:39:32.248694",
     "exception": false,
     "start_time": "2021-05-18T08:39:32.190865",
     "status": "completed"
    },
    "tags": []
   },
   "source": [
    "### Price Processing"
   ]
  },
  {
   "cell_type": "code",
   "execution_count": 5,
   "id": "double-receipt",
   "metadata": {
    "execution": {
     "iopub.execute_input": "2021-05-18T08:39:32.371221Z",
     "iopub.status.busy": "2021-05-18T08:39:32.370773Z",
     "iopub.status.idle": "2021-05-18T08:39:32.372862Z",
     "shell.execute_reply": "2021-05-18T08:39:32.373267Z"
    },
    "papermill": {
     "duration": 0.065804,
     "end_time": "2021-05-18T08:39:32.373409",
     "exception": false,
     "start_time": "2021-05-18T08:39:32.307605",
     "status": "completed"
    },
    "tags": []
   },
   "outputs": [],
   "source": [
    "def remove_invalid_price(df):\n",
    "    if 'price' in df:\n",
    "#         df = df[df.price >= 5]  # Removing the prodicts with prices less than 5\n",
    "#         df = df[df.price <= 2000]  # Removing the prodicts with prices more than 2000\n",
    "#     return df\n",
    "        df.drop(df[df['price'] < 5].index, inplace = True)\n",
    "        df.drop(df[df['price'] > 2000].index, inplace = True)"
   ]
  },
  {
   "cell_type": "code",
   "execution_count": 6,
   "id": "blond-melissa",
   "metadata": {
    "execution": {
     "iopub.execute_input": "2021-05-18T08:39:32.494875Z",
     "iopub.status.busy": "2021-05-18T08:39:32.494399Z",
     "iopub.status.idle": "2021-05-18T08:39:32.495978Z",
     "shell.execute_reply": "2021-05-18T08:39:32.496395Z"
    },
    "papermill": {
     "duration": 0.064054,
     "end_time": "2021-05-18T08:39:32.496532",
     "exception": false,
     "start_time": "2021-05-18T08:39:32.432478",
     "status": "completed"
    },
    "tags": []
   },
   "outputs": [],
   "source": [
    "# remove_invalid_price(train_df)\n",
    "# train_df[(train_df.price < 5) & (train_df.price > 2000)]"
   ]
  },
  {
   "cell_type": "code",
   "execution_count": 7,
   "id": "sharp-buddy",
   "metadata": {
    "execution": {
     "iopub.execute_input": "2021-05-18T08:39:32.618267Z",
     "iopub.status.busy": "2021-05-18T08:39:32.617771Z",
     "iopub.status.idle": "2021-05-18T08:39:32.621632Z",
     "shell.execute_reply": "2021-05-18T08:39:32.622000Z"
    },
    "papermill": {
     "duration": 0.066095,
     "end_time": "2021-05-18T08:39:32.622151",
     "exception": false,
     "start_time": "2021-05-18T08:39:32.556056",
     "status": "completed"
    },
    "tags": []
   },
   "outputs": [],
   "source": [
    "def create_log_price(df):\n",
    "    if 'price' in df:\n",
    "        df['log_prices']= np.log(df['price'].values)"
   ]
  },
  {
   "cell_type": "code",
   "execution_count": 8,
   "id": "standing-hybrid",
   "metadata": {
    "execution": {
     "iopub.execute_input": "2021-05-18T08:39:32.750833Z",
     "iopub.status.busy": "2021-05-18T08:39:32.750327Z",
     "iopub.status.idle": "2021-05-18T08:39:32.753479Z",
     "shell.execute_reply": "2021-05-18T08:39:32.752971Z"
    },
    "papermill": {
     "duration": 0.068917,
     "end_time": "2021-05-18T08:39:32.753615",
     "exception": false,
     "start_time": "2021-05-18T08:39:32.684698",
     "status": "completed"
    },
    "tags": []
   },
   "outputs": [],
   "source": [
    "# create_log_price(train_df)\n",
    "# train_df.head(5)"
   ]
  },
  {
   "cell_type": "markdown",
   "id": "cathedral-sleep",
   "metadata": {
    "papermill": {
     "duration": 0.060349,
     "end_time": "2021-05-18T08:39:32.875177",
     "exception": false,
     "start_time": "2021-05-18T08:39:32.814828",
     "status": "completed"
    },
    "tags": []
   },
   "source": [
    "### Handling null values\n"
   ]
  },
  {
   "cell_type": "code",
   "execution_count": 9,
   "id": "beneficial-ontario",
   "metadata": {
    "execution": {
     "iopub.execute_input": "2021-05-18T08:39:32.999334Z",
     "iopub.status.busy": "2021-05-18T08:39:32.998873Z",
     "iopub.status.idle": "2021-05-18T08:39:33.001130Z",
     "shell.execute_reply": "2021-05-18T08:39:33.001463Z"
    },
    "papermill": {
     "duration": 0.066278,
     "end_time": "2021-05-18T08:39:33.001607",
     "exception": false,
     "start_time": "2021-05-18T08:39:32.935329",
     "status": "completed"
    },
    "tags": []
   },
   "outputs": [],
   "source": [
    "def fill_missing_values(df):\n",
    "    \"\"\"\n",
    "    Description:\n",
    "    Filling null values in all columns.\n",
    "\n",
    "    Input: Dataframe with null values\n",
    "    Output: Dataframe with no null values\n",
    "    \"\"\"\n",
    "    df['name'].fillna('unk_name', inplace=True)\n",
    "    df['category_name'].fillna('unk_cat', inplace=True)\n",
    "    df['brand_name'].fillna('unk_brand', inplace=True)\n",
    "    df['item_description'].fillna('unk_descr', inplace=True)\n",
    "    return df"
   ]
  },
  {
   "cell_type": "markdown",
   "id": "unlike-ready",
   "metadata": {
    "papermill": {
     "duration": 0.059203,
     "end_time": "2021-05-18T08:39:33.121248",
     "exception": false,
     "start_time": "2021-05-18T08:39:33.062045",
     "status": "completed"
    },
    "tags": []
   },
   "source": [
    "### Splitting categories"
   ]
  },
  {
   "cell_type": "code",
   "execution_count": 10,
   "id": "smart-dream",
   "metadata": {
    "execution": {
     "iopub.execute_input": "2021-05-18T08:39:33.244155Z",
     "iopub.status.busy": "2021-05-18T08:39:33.243662Z",
     "iopub.status.idle": "2021-05-18T08:39:33.245085Z",
     "shell.execute_reply": "2021-05-18T08:39:33.245510Z"
    },
    "papermill": {
     "duration": 0.065717,
     "end_time": "2021-05-18T08:39:33.245666",
     "exception": false,
     "start_time": "2021-05-18T08:39:33.179949",
     "status": "completed"
    },
    "tags": []
   },
   "outputs": [],
   "source": [
    "# tách caterory ra làm 3 category con\n",
    "def split_categories(category):\n",
    "    try:\n",
    "        sub_cat_1,sub_cat_2,sub_cat_3 = category.split(\"/\")\n",
    "        return sub_cat_1,sub_cat_2,sub_cat_3\n",
    "    except:\n",
    "        return (\"None\",\"None\",\"None\")\n",
    "\n",
    "# sử dụng hàm split_categories để tách category ra làm 3 category con và tạo thành 3 cột mới : 'main_category', 'sub_cat_1','sub_cat_2'\n",
    "def create_split_categories(data):\n",
    "    if 'category_name' in data:\n",
    "        data['general_cat'],data['subcat_1'],data['subcat_2']= zip(*data['category_name'].\\\n",
    "                                                                    apply(lambda x: split_categories(x)))\n",
    "#         data.drop('category_name',axis='columns', inplace=True)"
   ]
  },
  {
   "cell_type": "code",
   "execution_count": 11,
   "id": "italic-intention",
   "metadata": {
    "execution": {
     "iopub.execute_input": "2021-05-18T08:39:33.366131Z",
     "iopub.status.busy": "2021-05-18T08:39:33.365697Z",
     "iopub.status.idle": "2021-05-18T08:39:33.368510Z",
     "shell.execute_reply": "2021-05-18T08:39:33.368947Z"
    },
    "papermill": {
     "duration": 0.064393,
     "end_time": "2021-05-18T08:39:33.369056",
     "exception": false,
     "start_time": "2021-05-18T08:39:33.304663",
     "status": "completed"
    },
    "tags": []
   },
   "outputs": [],
   "source": [
    "# fill_missing_values(train_df)\n",
    "# create_split_categories(train_df)"
   ]
  },
  {
   "cell_type": "markdown",
   "id": "coordinate-circuit",
   "metadata": {
    "papermill": {
     "duration": 0.058833,
     "end_time": "2021-05-18T08:39:33.487545",
     "exception": false,
     "start_time": "2021-05-18T08:39:33.428712",
     "status": "completed"
    },
    "tags": []
   },
   "source": [
    "### Text Processing"
   ]
  },
  {
   "cell_type": "code",
   "execution_count": 12,
   "id": "atomic-student",
   "metadata": {
    "execution": {
     "iopub.execute_input": "2021-05-18T08:39:33.608105Z",
     "iopub.status.busy": "2021-05-18T08:39:33.607659Z",
     "iopub.status.idle": "2021-05-18T08:39:33.619674Z",
     "shell.execute_reply": "2021-05-18T08:39:33.620103Z"
    },
    "papermill": {
     "duration": 0.073696,
     "end_time": "2021-05-18T08:39:33.620246",
     "exception": false,
     "start_time": "2021-05-18T08:39:33.546550",
     "status": "completed"
    },
    "tags": []
   },
   "outputs": [],
   "source": [
    "import re\n",
    "import string\n",
    "\n",
    "def decontract_text(phrase):\n",
    "    \"\"\"\n",
    "    This utility funciton will be used as a part of preprocessing the text.\n",
    "    It will expand the contracted words. For eg: won't -> will not, I'm -> I am.\n",
    "    \"\"\"\n",
    "    phrase = str(phrase)\n",
    "    phrase = re.sub(r\"n\\'t\", \" not\", phrase)\n",
    "    phrase = re.sub(r\"\\'re\", \" are\", phrase)\n",
    "    phrase = re.sub(r\"\\'s\", \" is\", phrase)\n",
    "    phrase = re.sub(r\"\\'d\", \" would\", phrase)\n",
    "    phrase = re.sub(r\"\\'ll\", \" will\", phrase)\n",
    "    phrase = re.sub(r\"\\'t\", \" not\", phrase)\n",
    "    phrase = re.sub(r\"\\'ve\", \" have\", phrase)\n",
    "    phrase = re.sub(r\"\\'m\", \" am\", phrase)\n",
    "    return phrase\n",
    "\n",
    "\n",
    "def preprocess_descriptive_text_column(text_data):\n",
    "    \"\"\"\n",
    "    Description:\n",
    "    This function will process the text data.\n",
    "\n",
    "    Input: original strings [in list form]\n",
    "    Output: processed strings [in list form]\n",
    "    \"\"\"\n",
    "    # https://gist.github.com/sebleier/554280\n",
    "    # we are removing the negative words from the stop words list: 'no', 'nor', 'not', 'shouldn't, won't, etc.\n",
    "    stopwords= ['i', 'me', 'my', 'myself', 'we', 'our', 'ours', 'ourselves', 'you', \"you're\", \"you've\",\\\n",
    "                \"you'll\", \"you'd\", 'your', 'yours', 'yourself', 'yourselves', 'he', 'him', 'his', 'himself', \\\n",
    "                'she', \"she's\", 'her', 'hers', 'herself', 'it', \"it's\", 'its', 'itself', 'they', 'them', 'their',\\\n",
    "                'theirs', 'themselves', 'what', 'which', 'who', 'whom', 'this', 'that', \"that'll\", 'these', 'those', \\\n",
    "                'am', 'is', 'are', 'was', 'were', 'be', 'been', 'being', 'have', 'has', 'had', 'having', 'do', 'does', \\\n",
    "                'did', 'doing', 'a', 'an', 'the', 'and', 'but', 'if', 'or', 'because', 'as', 'until', 'while', 'of', \\\n",
    "                'at', 'by', 'for', 'with', 'about', 'against', 'between', 'into', 'through', 'during', 'before', 'after',\\\n",
    "                'above', 'below', 'to', 'from', 'up', 'down', 'in', 'out', 'on', 'off', 'over', 'under', 'again', 'further',\\\n",
    "                'then', 'once', 'here', 'there', 'when', 'where', 'why', 'how', 'all', 'any', 'both', 'each', 'few', 'more',\\\n",
    "                'most', 'other', 'some', 'such', 'only', 'own', 'same', 'so', 'than', 'too', 'very', \\\n",
    "                's', 't', 'can', 'will', 'just', 'don', \"don't\", 'should', \"should've\", 'now', 'd', 'll', 'm', 'o', 're', \\\n",
    "                've', 'y']\n",
    "\n",
    "    processed_text = []\n",
    "    for sentance in tqdm(text_data):\n",
    "        sent = decontract_text(sentance)\n",
    "        sent = sent.replace('\\\\r', ' ')\n",
    "        sent = sent.replace('\\\\n', ' ')\n",
    "        sent = sent.replace('\\\\\"', ' ')\n",
    "        sent = re.sub('[^A-Za-z0-9]+', ' ', sent)\n",
    "        # https://gist.github.com/sebleier/554280\n",
    "        sent = ' '.join(e for e in sent.split() if e.lower() not in stopwords)\n",
    "        processed_text.append(sent.lower().strip())\n",
    "    return np.array(processed_text)"
   ]
  },
  {
   "cell_type": "code",
   "execution_count": 13,
   "id": "offshore-ladder",
   "metadata": {
    "execution": {
     "iopub.execute_input": "2021-05-18T08:39:35.607120Z",
     "iopub.status.busy": "2021-05-18T08:39:35.606635Z",
     "iopub.status.idle": "2021-05-18T08:39:35.609929Z",
     "shell.execute_reply": "2021-05-18T08:39:35.609493Z"
    },
    "papermill": {
     "duration": 1.928717,
     "end_time": "2021-05-18T08:39:35.610043",
     "exception": false,
     "start_time": "2021-05-18T08:39:33.681326",
     "status": "completed"
    },
    "tags": []
   },
   "outputs": [],
   "source": [
    "def preprocess_cols(df):\n",
    "    df['name'] = preprocess_descriptive_text_column(df['name'].values)\n",
    "    df['brand_name'] = df['brand_name'].apply(lambda x: str(x).lower())\n",
    "    df['item_description'] = preprocess_descriptive_text_column(df['item_description'].values)\n",
    "    df['general_cat'] = preprocess_descriptive_text_column(df['general_cat'].values)\n",
    "    df['subcat_1'] = preprocess_descriptive_text_column(df['subcat_1'].values)\n",
    "    df['subcat_2'] = preprocess_descriptive_text_column(df['subcat_2'].values)"
   ]
  },
  {
   "cell_type": "code",
   "execution_count": 14,
   "id": "specialized-cloud",
   "metadata": {
    "execution": {
     "iopub.execute_input": "2021-05-18T08:39:35.735418Z",
     "iopub.status.busy": "2021-05-18T08:39:35.734707Z",
     "iopub.status.idle": "2021-05-18T08:39:35.738683Z",
     "shell.execute_reply": "2021-05-18T08:39:35.738234Z"
    },
    "papermill": {
     "duration": 0.068105,
     "end_time": "2021-05-18T08:39:35.738795",
     "exception": false,
     "start_time": "2021-05-18T08:39:35.670690",
     "status": "completed"
    },
    "tags": []
   },
   "outputs": [],
   "source": [
    "# train_df"
   ]
  },
  {
   "cell_type": "markdown",
   "id": "african-queen",
   "metadata": {
    "papermill": {
     "duration": 0.060066,
     "end_time": "2021-05-18T08:39:35.860524",
     "exception": false,
     "start_time": "2021-05-18T08:39:35.800458",
     "status": "completed"
    },
    "tags": []
   },
   "source": [
    "### Fill Missing Brand Name"
   ]
  },
  {
   "cell_type": "code",
   "execution_count": 15,
   "id": "million-grill",
   "metadata": {
    "execution": {
     "iopub.execute_input": "2021-05-18T08:39:35.992249Z",
     "iopub.status.busy": "2021-05-18T08:39:35.990852Z",
     "iopub.status.idle": "2021-05-18T08:39:35.995111Z",
     "shell.execute_reply": "2021-05-18T08:39:35.995455Z"
    },
    "papermill": {
     "duration": 0.074103,
     "end_time": "2021-05-18T08:39:35.995614",
     "exception": false,
     "start_time": "2021-05-18T08:39:35.921511",
     "status": "completed"
    },
    "tags": []
   },
   "outputs": [],
   "source": [
    "# inspired from https://www.kaggle.com/gspmoreira/cnn-glove-single-model-private-lb-0-41117-35th\n",
    "def concat_categories(x):\n",
    "        return set(x.values)\n",
    "\n",
    "def brand_guesser(df):\n",
    "    \"\"\"\n",
    "    Description:\n",
    "    This function is used to guess the missing brand name.\n",
    "    It will check for an existing brand name mentioned in the item name section. \n",
    "    We want out guess to be as close to actual as possible, \\\n",
    "    hence we will also check the category of the brand name that is guessed with the already mentioned category of that product. \n",
    "    If the category matches, then only we will fill that guessed brand name.\n",
    "\n",
    "    Inputs: dataframe with missing brand names\n",
    "    Output: dataframe with filled brand names\n",
    "    \"\"\"\n",
    "    existing_brands = df[df['brand_name'] != 'unk_brand']['brand_name'].unique()\n",
    "    brand_names_categories = dict(df[df['brand_name'] != 'unk_brand'][['brand_name','category_name']].astype('str').groupby('brand_name').agg(concat_categories).reset_index().values.tolist())\n",
    "    # In the above line, we are creating dictionary of brand name->category, wherever the brand name is missing.\n",
    "    # This will be helpful to us during guessing the missing brand names.\n",
    "    filled_brands = []\n",
    "    for row in tqdm(df[['brand_name','name','category_name']].values):\n",
    "        found=False\n",
    "        if row[0]=='unk_brand':\n",
    "            for brand in existing_brands:\n",
    "                if brand in row[1] and row[2] in brand_names_categories[brand] :\n",
    "                    filled_brands.append(brand)\n",
    "                    found=True\n",
    "                    break\n",
    "            if not found:\n",
    "                filled_brands.append('unk_brand')\n",
    "        else:\n",
    "            filled_brands.append(row[0])\n",
    "\n",
    "    df['brand_name']=filled_brands\n",
    "    return df"
   ]
  },
  {
   "cell_type": "code",
   "execution_count": 16,
   "id": "adjacent-feelings",
   "metadata": {
    "execution": {
     "iopub.execute_input": "2021-05-18T08:39:36.124893Z",
     "iopub.status.busy": "2021-05-18T08:39:36.124312Z",
     "iopub.status.idle": "2021-05-18T08:39:36.128139Z",
     "shell.execute_reply": "2021-05-18T08:39:36.128543Z"
    },
    "papermill": {
     "duration": 0.070717,
     "end_time": "2021-05-18T08:39:36.128715",
     "exception": false,
     "start_time": "2021-05-18T08:39:36.057998",
     "status": "completed"
    },
    "tags": []
   },
   "outputs": [],
   "source": [
    "def fill_missing_brands(df):\n",
    "    print('Unknown brand before guessing:', df['brand_name'].value_counts()['unk_brand'])\n",
    "    df = brand_guesser(df)\n",
    "    print('Unknown brand after guessing:', df['brand_name'].value_counts()['unk_brand'])"
   ]
  },
  {
   "cell_type": "markdown",
   "id": "valid-spirituality",
   "metadata": {
    "papermill": {
     "duration": 0.05904,
     "end_time": "2021-05-18T08:39:36.252383",
     "exception": false,
     "start_time": "2021-05-18T08:39:36.193343",
     "status": "completed"
    },
    "tags": []
   },
   "source": [
    "### Adding Sentiment score"
   ]
  },
  {
   "cell_type": "code",
   "execution_count": 17,
   "id": "alert-seventh",
   "metadata": {
    "execution": {
     "iopub.execute_input": "2021-05-18T08:39:36.379613Z",
     "iopub.status.busy": "2021-05-18T08:39:36.379136Z",
     "iopub.status.idle": "2021-05-18T08:39:36.400517Z",
     "shell.execute_reply": "2021-05-18T08:39:36.400071Z"
    },
    "papermill": {
     "duration": 0.088702,
     "end_time": "2021-05-18T08:39:36.400652",
     "exception": false,
     "start_time": "2021-05-18T08:39:36.311950",
     "status": "completed"
    },
    "tags": []
   },
   "outputs": [
    {
     "name": "stdout",
     "output_type": "stream",
     "text": [
      "[nltk_data] Downloading package vader_lexicon to\n",
      "[nltk_data]     /usr/share/nltk_data...\n",
      "[nltk_data]   Package vader_lexicon is already up-to-date!\n"
     ]
    }
   ],
   "source": [
    "import nltk\n",
    "nltk.download('vader_lexicon')\n",
    "from nltk.sentiment.vader import SentimentIntensityAnalyzer\n",
    "\n",
    "\n",
    "def get_sentiments_feature(df):\n",
    "    \"\"\"\n",
    "    Description:\n",
    "    This function will calculate the sentiment scores of each item description.\n",
    "    It will calculate four scores for each sentence; compund, negetive, neutral, positive\n",
    "\n",
    "    Input: Dataframe\n",
    "    Output: sentiment scores for all the product's description\n",
    "    \"\"\"\n",
    "    sentiments = []\n",
    "    neg = []\n",
    "    neu = []\n",
    "    pos = []\n",
    "    sid = SentimentIntensityAnalyzer()\n",
    "    for desc in tqdm(df['item_description'].apply(str).values):\n",
    "        ss = sid.polarity_scores(desc)\n",
    "        sentiments.append([ss['neg'],ss['neu'],ss['pos']])\n",
    "        neg.append(ss['neg'])\n",
    "        neu.append(ss['neu'])\n",
    "        pos.append(ss['pos'])\n",
    "#     return np.array(sentiments)\n",
    "    return neg, neu, pos"
   ]
  },
  {
   "cell_type": "code",
   "execution_count": 18,
   "id": "ambient-procedure",
   "metadata": {
    "execution": {
     "iopub.execute_input": "2021-05-18T08:39:36.527159Z",
     "iopub.status.busy": "2021-05-18T08:39:36.526656Z",
     "iopub.status.idle": "2021-05-18T08:39:36.529599Z",
     "shell.execute_reply": "2021-05-18T08:39:36.529199Z"
    },
    "papermill": {
     "duration": 0.067452,
     "end_time": "2021-05-18T08:39:36.529707",
     "exception": false,
     "start_time": "2021-05-18T08:39:36.462255",
     "status": "completed"
    },
    "tags": []
   },
   "outputs": [],
   "source": [
    "# sentiments_feature = get_sentiments_feature(train_df)"
   ]
  },
  {
   "cell_type": "code",
   "execution_count": 19,
   "id": "double-oliver",
   "metadata": {
    "execution": {
     "iopub.execute_input": "2021-05-18T08:39:36.654700Z",
     "iopub.status.busy": "2021-05-18T08:39:36.654148Z",
     "iopub.status.idle": "2021-05-18T08:39:36.656853Z",
     "shell.execute_reply": "2021-05-18T08:39:36.656412Z"
    },
    "papermill": {
     "duration": 0.06654,
     "end_time": "2021-05-18T08:39:36.656970",
     "exception": false,
     "start_time": "2021-05-18T08:39:36.590430",
     "status": "completed"
    },
    "tags": []
   },
   "outputs": [],
   "source": [
    "# neg, neu, pos = sentiments_feature\n",
    "# neg"
   ]
  },
  {
   "cell_type": "code",
   "execution_count": 20,
   "id": "stretch-calibration",
   "metadata": {
    "execution": {
     "iopub.execute_input": "2021-05-18T08:39:36.783008Z",
     "iopub.status.busy": "2021-05-18T08:39:36.782438Z",
     "iopub.status.idle": "2021-05-18T08:39:36.784742Z",
     "shell.execute_reply": "2021-05-18T08:39:36.784249Z"
    },
    "papermill": {
     "duration": 0.066943,
     "end_time": "2021-05-18T08:39:36.784844",
     "exception": false,
     "start_time": "2021-05-18T08:39:36.717901",
     "status": "completed"
    },
    "tags": []
   },
   "outputs": [],
   "source": [
    "# train_df['desc_neg'] = neg\n",
    "# train_df['desc_neu'] = neu\n",
    "# train_df['desc_pos'] = pos\n",
    "# train_df"
   ]
  },
  {
   "cell_type": "code",
   "execution_count": 21,
   "id": "cheap-vacuum",
   "metadata": {
    "execution": {
     "iopub.execute_input": "2021-05-18T08:39:36.911131Z",
     "iopub.status.busy": "2021-05-18T08:39:36.910397Z",
     "iopub.status.idle": "2021-05-18T08:39:36.913380Z",
     "shell.execute_reply": "2021-05-18T08:39:36.913005Z"
    },
    "papermill": {
     "duration": 0.067271,
     "end_time": "2021-05-18T08:39:36.913489",
     "exception": false,
     "start_time": "2021-05-18T08:39:36.846218",
     "status": "completed"
    },
    "tags": []
   },
   "outputs": [],
   "source": [
    "def add_sentiment_scores(df):\n",
    "    neg, neu, pos = get_sentiments_feature(df)\n",
    "    df['desc_neg'] = neg\n",
    "    df['desc_neu'] = neu\n",
    "    df['desc_pos'] = pos"
   ]
  },
  {
   "cell_type": "code",
   "execution_count": 22,
   "id": "respiratory-lobby",
   "metadata": {
    "execution": {
     "iopub.execute_input": "2021-05-18T08:39:37.040094Z",
     "iopub.status.busy": "2021-05-18T08:39:37.039596Z",
     "iopub.status.idle": "2021-05-18T08:39:37.040708Z",
     "shell.execute_reply": "2021-05-18T08:39:37.041057Z"
    },
    "papermill": {
     "duration": 0.066289,
     "end_time": "2021-05-18T08:39:37.041190",
     "exception": false,
     "start_time": "2021-05-18T08:39:36.974901",
     "status": "completed"
    },
    "tags": []
   },
   "outputs": [],
   "source": [
    "# train_df.isnull().sum()"
   ]
  },
  {
   "cell_type": "markdown",
   "id": "hired-opposition",
   "metadata": {
    "papermill": {
     "duration": 0.061862,
     "end_time": "2021-05-18T08:39:37.165729",
     "exception": false,
     "start_time": "2021-05-18T08:39:37.103867",
     "status": "completed"
    },
    "tags": []
   },
   "source": [
    "### Expensive brand"
   ]
  },
  {
   "cell_type": "code",
   "execution_count": 23,
   "id": "devoted-ivory",
   "metadata": {
    "execution": {
     "iopub.execute_input": "2021-05-18T08:39:37.291431Z",
     "iopub.status.busy": "2021-05-18T08:39:37.290977Z",
     "iopub.status.idle": "2021-05-18T08:39:37.295713Z",
     "shell.execute_reply": "2021-05-18T08:39:37.296205Z"
    },
    "papermill": {
     "duration": 0.067939,
     "end_time": "2021-05-18T08:39:37.296392",
     "exception": false,
     "start_time": "2021-05-18T08:39:37.228453",
     "status": "completed"
    },
    "tags": []
   },
   "outputs": [],
   "source": [
    "# ##print 90 to 100 percentile values with step size of 1. \n",
    "# unique_gen_cat = train_df['general_cat'].unique()\n",
    "# cat_threshold_percetile = {}\n",
    "# for gc_ in unique_gen_cat: \n",
    "#     print(gc_,\"\\n-------------\")\n",
    "#     for i in range(90,101):\n",
    "#         print(i,\"th percentile is\",np.percentile(train_df[train_df['general_cat']==gc_].groupby('brand_name').median().sort_values(\"price\", ascending=False)['price'].reset_index()['price'].values, i))\n",
    "#     cat_threshold_percetile[gc_]=np.percentile(train_df[train_df['general_cat']==gc_].groupby('brand_name').median().sort_values(\"price\", ascending=False)['price'].reset_index()['price'].values, 95)\n",
    "# #     print()"
   ]
  },
  {
   "cell_type": "code",
   "execution_count": 24,
   "id": "realistic-attachment",
   "metadata": {
    "execution": {
     "iopub.execute_input": "2021-05-18T08:39:37.488223Z",
     "iopub.status.busy": "2021-05-18T08:39:37.487419Z",
     "iopub.status.idle": "2021-05-18T08:39:37.489427Z",
     "shell.execute_reply": "2021-05-18T08:39:37.489906Z"
    },
    "papermill": {
     "duration": 0.099764,
     "end_time": "2021-05-18T08:39:37.490072",
     "exception": false,
     "start_time": "2021-05-18T08:39:37.390308",
     "status": "completed"
    },
    "tags": []
   },
   "outputs": [],
   "source": [
    "# expensive_brands = []\n",
    "# unique_gen_cat = train_df['general_cat'].unique()\n",
    "# for gc_ in unique_gen_cat:\n",
    "#     temp_df = train_df[train_df['general_cat']==gc_][['brand_name','price']].values\n",
    "#     for row in temp_df:\n",
    "#         if row[1]>=cat_threshold_percetile[gc_]:\n",
    "#             expensive_brands.append(row[0])\n",
    "# expensive_brands = list(set(expensive_brands))\n",
    "# try:\n",
    "#     expensive_brands.remove('unk_brand')\n",
    "# except:\n",
    "#     pass"
   ]
  },
  {
   "cell_type": "code",
   "execution_count": 25,
   "id": "separate-collector",
   "metadata": {
    "execution": {
     "iopub.execute_input": "2021-05-18T08:39:37.681898Z",
     "iopub.status.busy": "2021-05-18T08:39:37.681264Z",
     "iopub.status.idle": "2021-05-18T08:39:37.684423Z",
     "shell.execute_reply": "2021-05-18T08:39:37.683814Z"
    },
    "papermill": {
     "duration": 0.101373,
     "end_time": "2021-05-18T08:39:37.684567",
     "exception": false,
     "start_time": "2021-05-18T08:39:37.583194",
     "status": "completed"
    },
    "tags": []
   },
   "outputs": [],
   "source": [
    "# expensive_brands"
   ]
  },
  {
   "cell_type": "code",
   "execution_count": 26,
   "id": "oriental-arlington",
   "metadata": {
    "execution": {
     "iopub.execute_input": "2021-05-18T08:39:37.880058Z",
     "iopub.status.busy": "2021-05-18T08:39:37.879362Z",
     "iopub.status.idle": "2021-05-18T08:39:37.881124Z",
     "shell.execute_reply": "2021-05-18T08:39:37.881689Z"
    },
    "papermill": {
     "duration": 0.102069,
     "end_time": "2021-05-18T08:39:37.881854",
     "exception": false,
     "start_time": "2021-05-18T08:39:37.779785",
     "status": "completed"
    },
    "tags": []
   },
   "outputs": [],
   "source": [
    "def add_expensive_brands(df):\n",
    "    ##print 90 to 100 percentile values with step size of 1. \n",
    "    unique_gen_cat = df['general_cat'].unique()\n",
    "    cat_threshold_percetile = {}\n",
    "    for gc_ in unique_gen_cat: \n",
    "#         print(gc_,\"\\n-------------\")\n",
    "#         for i in range(90,101):\n",
    "#             print(i,\"th percentile is\",np.percentile(df[df['general_cat']==gc_].groupby('brand_name').median().sort_values(\"price\", ascending=False)['price'].reset_index()['price'].values, i))\n",
    "        cat_threshold_percetile[gc_]=np.percentile(train_df[train_df['general_cat']==gc_].groupby('brand_name').median().sort_values(\"price\", ascending=False)['price'].reset_index()['price'].values, 95)\n",
    "    #     print()\n",
    "    \n",
    "    expensive_brands = []\n",
    "    \n",
    "    unique_gen_cat = train_df['general_cat'].unique()\n",
    "    for gc_ in unique_gen_cat:\n",
    "        temp_df = train_df[train_df['general_cat']==gc_][['brand_name','price']].values\n",
    "        for row in temp_df:\n",
    "            if row[1]>=cat_threshold_percetile[gc_]:\n",
    "                expensive_brands.append(row[0])\n",
    "    expensive_brands = list(set(expensive_brands))\n",
    "    try:\n",
    "        expensive_brands.remove('unk_brand')\n",
    "    except:\n",
    "        pass\n",
    "    \n",
    "    df['is_expensive'] = df['brand_name'].apply(lambda x: 1 if x in expensive_brands else 0)"
   ]
  },
  {
   "cell_type": "code",
   "execution_count": 27,
   "id": "middle-adaptation",
   "metadata": {
    "execution": {
     "iopub.execute_input": "2021-05-18T08:39:38.076932Z",
     "iopub.status.busy": "2021-05-18T08:39:38.076423Z",
     "iopub.status.idle": "2021-05-18T08:39:38.079446Z",
     "shell.execute_reply": "2021-05-18T08:39:38.079871Z"
    },
    "papermill": {
     "duration": 0.101092,
     "end_time": "2021-05-18T08:39:38.080023",
     "exception": false,
     "start_time": "2021-05-18T08:39:37.978931",
     "status": "completed"
    },
    "tags": []
   },
   "outputs": [],
   "source": [
    "# train_df"
   ]
  },
  {
   "cell_type": "markdown",
   "id": "sixth-dependence",
   "metadata": {
    "papermill": {
     "duration": 0.061048,
     "end_time": "2021-05-18T08:39:38.202107",
     "exception": false,
     "start_time": "2021-05-18T08:39:38.141059",
     "status": "completed"
    },
    "tags": []
   },
   "source": [
    "### Adding len of desrciption and name"
   ]
  },
  {
   "cell_type": "code",
   "execution_count": 28,
   "id": "primary-property",
   "metadata": {
    "execution": {
     "iopub.execute_input": "2021-05-18T08:39:38.326306Z",
     "iopub.status.busy": "2021-05-18T08:39:38.325864Z",
     "iopub.status.idle": "2021-05-18T08:39:38.331283Z",
     "shell.execute_reply": "2021-05-18T08:39:38.330856Z"
    },
    "papermill": {
     "duration": 0.068217,
     "end_time": "2021-05-18T08:39:38.331397",
     "exception": false,
     "start_time": "2021-05-18T08:39:38.263180",
     "status": "completed"
    },
    "tags": []
   },
   "outputs": [],
   "source": [
    "from sklearn.preprocessing import StandardScaler\n",
    "def get_len_feature(col_series, scaler_text_len=None):\n",
    "    \"\"\"\n",
    "    Description:\n",
    "    This funciton will calculate the word count of the item name and standardize it.\n",
    "\n",
    "    Input: Series, fitted scaler[during inference]\n",
    "    Output: standardized name length for each product and object of the fitted scaler\n",
    "    \"\"\"\n",
    "    text_len = col_series.apply(lambda x: len(x.split()))\n",
    "    if scaler_text_len==None:\n",
    "        scaler_text_len = StandardScaler()\n",
    "        scaler_text_len.fit(text_len.values.reshape(-1, 1))\n",
    "    text_len = scaler_text_len.transform(text_len.values.reshape(-1, 1))\n",
    "    return text_len, scaler_text_len"
   ]
  },
  {
   "cell_type": "code",
   "execution_count": 29,
   "id": "closing-binding",
   "metadata": {
    "execution": {
     "iopub.execute_input": "2021-05-18T08:39:38.460211Z",
     "iopub.status.busy": "2021-05-18T08:39:38.459761Z",
     "iopub.status.idle": "2021-05-18T08:39:38.461752Z",
     "shell.execute_reply": "2021-05-18T08:39:38.462095Z"
    },
    "papermill": {
     "duration": 0.068531,
     "end_time": "2021-05-18T08:39:38.462228",
     "exception": false,
     "start_time": "2021-05-18T08:39:38.393697",
     "status": "completed"
    },
    "tags": []
   },
   "outputs": [],
   "source": [
    "# name_len, scaler_name_len =  get_len_feature(train_df['name'])\n",
    "# desc_len, scaler_desc_len =  get_len_feature(train_df['item_description'])"
   ]
  },
  {
   "cell_type": "code",
   "execution_count": 30,
   "id": "increased-possession",
   "metadata": {
    "execution": {
     "iopub.execute_input": "2021-05-18T08:39:38.591978Z",
     "iopub.status.busy": "2021-05-18T08:39:38.591309Z",
     "iopub.status.idle": "2021-05-18T08:39:38.594326Z",
     "shell.execute_reply": "2021-05-18T08:39:38.593883Z"
    },
    "papermill": {
     "duration": 0.070051,
     "end_time": "2021-05-18T08:39:38.594446",
     "exception": false,
     "start_time": "2021-05-18T08:39:38.524395",
     "status": "completed"
    },
    "tags": []
   },
   "outputs": [],
   "source": [
    "def add_len_features(df):\n",
    "    name_len, scaler_name_len =  get_len_feature(df['name'])\n",
    "    desc_len, scaler_desc_len =  get_len_feature(df['item_description'])\n",
    "    df['scaler_name_len'] = name_len\n",
    "    df['scaler_desc_len'] = desc_len"
   ]
  },
  {
   "cell_type": "code",
   "execution_count": 31,
   "id": "certain-portuguese",
   "metadata": {
    "execution": {
     "iopub.execute_input": "2021-05-18T08:39:38.728391Z",
     "iopub.status.busy": "2021-05-18T08:39:38.727581Z",
     "iopub.status.idle": "2021-05-18T08:39:38.729880Z",
     "shell.execute_reply": "2021-05-18T08:39:38.729374Z"
    },
    "papermill": {
     "duration": 0.072718,
     "end_time": "2021-05-18T08:39:38.729988",
     "exception": false,
     "start_time": "2021-05-18T08:39:38.657270",
     "status": "completed"
    },
    "tags": []
   },
   "outputs": [],
   "source": [
    "def combine_processes(df):\n",
    "    print('Removing invalid price ...')\n",
    "    remove_invalid_price(df)\n",
    "    print('Completed \\n')\n",
    "    \n",
    "    print('Creating log price ...')\n",
    "    create_log_price(df)\n",
    "    print('Completed \\n')\n",
    "    \n",
    "    print('Filling NaN values ...')\n",
    "    fill_missing_values(df)\n",
    "    print('Completed \\n')\n",
    "    \n",
    "    print('Splitting categories ...')\n",
    "    create_split_categories(df)\n",
    "    print('Completed \\n')\n",
    "    \n",
    "    print('Filling unknown brands ...')\n",
    "    fill_missing_brands(df)\n",
    "    print('Completed \\n')\n",
    "    \n",
    "    print('Cleaning text columns ...')\n",
    "    preprocess_cols(df)\n",
    "    print('Completed \\n')\n",
    "    \n",
    "    print('Adding sentiment scores ...')\n",
    "    add_sentiment_scores(df)\n",
    "    print('Completed \\n')\n",
    "    \n",
    "    print('Adding expensive brands ...')\n",
    "    add_expensive_brands(df)\n",
    "    print('Completed \\n')\n",
    "    \n",
    "    print('Adding description len and name len ...')\n",
    "    add_len_features(df)\n",
    "    print('Completed \\n')"
   ]
  },
  {
   "cell_type": "code",
   "execution_count": 32,
   "id": "allied-friendly",
   "metadata": {
    "execution": {
     "iopub.execute_input": "2021-05-18T08:39:38.857968Z",
     "iopub.status.busy": "2021-05-18T08:39:38.857338Z",
     "iopub.status.idle": "2021-05-18T08:39:38.859812Z",
     "shell.execute_reply": "2021-05-18T08:39:38.860354Z"
    },
    "papermill": {
     "duration": 0.067497,
     "end_time": "2021-05-18T08:39:38.860500",
     "exception": false,
     "start_time": "2021-05-18T08:39:38.793003",
     "status": "completed"
    },
    "tags": []
   },
   "outputs": [],
   "source": [
    "# combine_processes(train_df)"
   ]
  },
  {
   "cell_type": "code",
   "execution_count": 33,
   "id": "public-tissue",
   "metadata": {
    "execution": {
     "iopub.execute_input": "2021-05-18T08:39:39.052375Z",
     "iopub.status.busy": "2021-05-18T08:39:39.051801Z",
     "iopub.status.idle": "2021-05-18T08:39:39.054439Z",
     "shell.execute_reply": "2021-05-18T08:39:39.054914Z"
    },
    "papermill": {
     "duration": 0.099015,
     "end_time": "2021-05-18T08:39:39.055049",
     "exception": false,
     "start_time": "2021-05-18T08:39:38.956034",
     "status": "completed"
    },
    "tags": []
   },
   "outputs": [],
   "source": [
    "# train_df"
   ]
  },
  {
   "cell_type": "code",
   "execution_count": 34,
   "id": "boxed-germany",
   "metadata": {
    "execution": {
     "iopub.execute_input": "2021-05-18T08:39:39.246352Z",
     "iopub.status.busy": "2021-05-18T08:39:39.245778Z",
     "iopub.status.idle": "2021-05-18T08:39:39.248833Z",
     "shell.execute_reply": "2021-05-18T08:39:39.249339Z"
    },
    "papermill": {
     "duration": 0.100652,
     "end_time": "2021-05-18T08:39:39.249527",
     "exception": false,
     "start_time": "2021-05-18T08:39:39.148875",
     "status": "completed"
    },
    "tags": []
   },
   "outputs": [],
   "source": [
    "# train_df[(train_df['price'] < 5) | (train_df['price'] > 2000)]"
   ]
  },
  {
   "cell_type": "code",
   "execution_count": 35,
   "id": "applied-carry",
   "metadata": {
    "execution": {
     "iopub.execute_input": "2021-05-18T08:39:39.444857Z",
     "iopub.status.busy": "2021-05-18T08:39:39.443942Z",
     "iopub.status.idle": "2021-05-18T08:39:39.446910Z",
     "shell.execute_reply": "2021-05-18T08:39:39.446327Z"
    },
    "papermill": {
     "duration": 0.102135,
     "end_time": "2021-05-18T08:39:39.447041",
     "exception": false,
     "start_time": "2021-05-18T08:39:39.344906",
     "status": "completed"
    },
    "tags": []
   },
   "outputs": [],
   "source": [
    "# import seaborn as sns\n",
    "# corr = train_df.corr()\n",
    "# heatmap = sns.heatmap(corr)\n",
    "# heatmap"
   ]
  },
  {
   "cell_type": "code",
   "execution_count": 36,
   "id": "exact-seminar",
   "metadata": {
    "execution": {
     "iopub.execute_input": "2021-05-18T08:39:39.642362Z",
     "iopub.status.busy": "2021-05-18T08:39:39.641723Z",
     "iopub.status.idle": "2021-05-18T08:39:39.643811Z",
     "shell.execute_reply": "2021-05-18T08:39:39.643243Z"
    },
    "papermill": {
     "duration": 0.100766,
     "end_time": "2021-05-18T08:39:39.643944",
     "exception": false,
     "start_time": "2021-05-18T08:39:39.543178",
     "status": "completed"
    },
    "tags": []
   },
   "outputs": [],
   "source": [
    "# corr"
   ]
  },
  {
   "cell_type": "code",
   "execution_count": 37,
   "id": "continent-hampton",
   "metadata": {
    "execution": {
     "iopub.execute_input": "2021-05-18T08:39:39.840381Z",
     "iopub.status.busy": "2021-05-18T08:39:39.839758Z",
     "iopub.status.idle": "2021-05-18T08:39:39.842980Z",
     "shell.execute_reply": "2021-05-18T08:39:39.842542Z"
    },
    "papermill": {
     "duration": 0.103041,
     "end_time": "2021-05-18T08:39:39.843093",
     "exception": false,
     "start_time": "2021-05-18T08:39:39.740052",
     "status": "completed"
    },
    "tags": []
   },
   "outputs": [],
   "source": [
    "# train_df.isnull().sum()"
   ]
  },
  {
   "cell_type": "code",
   "execution_count": 38,
   "id": "complicated-defendant",
   "metadata": {
    "execution": {
     "iopub.execute_input": "2021-05-18T08:39:39.973042Z",
     "iopub.status.busy": "2021-05-18T08:39:39.972605Z",
     "iopub.status.idle": "2021-05-18T08:39:39.975170Z",
     "shell.execute_reply": "2021-05-18T08:39:39.974744Z"
    },
    "papermill": {
     "duration": 0.068722,
     "end_time": "2021-05-18T08:39:39.975269",
     "exception": false,
     "start_time": "2021-05-18T08:39:39.906547",
     "status": "completed"
    },
    "tags": []
   },
   "outputs": [],
   "source": [
    "# compression_train = dict(method='zip', archive_name='train_processed.csv')  \n",
    "# train_df.to_csv('train_out.zip', index=False, compression=compression_train)\n",
    "# train_df.to_csv('train_processed.csv', index=False)"
   ]
  },
  {
   "cell_type": "code",
   "execution_count": 39,
   "id": "greatest-canada",
   "metadata": {
    "execution": {
     "iopub.execute_input": "2021-05-18T08:39:40.107336Z",
     "iopub.status.busy": "2021-05-18T08:39:40.106848Z",
     "iopub.status.idle": "2021-05-18T08:39:40.109704Z",
     "shell.execute_reply": "2021-05-18T08:39:40.109248Z"
    },
    "papermill": {
     "duration": 0.070009,
     "end_time": "2021-05-18T08:39:40.109819",
     "exception": false,
     "start_time": "2021-05-18T08:39:40.039810",
     "status": "completed"
    },
    "tags": []
   },
   "outputs": [],
   "source": [
    "# # Save to pkl file to avoid missing data\n",
    "# with open('./train_processed.pkl', 'wb') as f:\n",
    "#     pickle.dump(train_df, f)"
   ]
  },
  {
   "cell_type": "code",
   "execution_count": 40,
   "id": "frank-petite",
   "metadata": {
    "execution": {
     "iopub.execute_input": "2021-05-18T08:39:40.240835Z",
     "iopub.status.busy": "2021-05-18T08:39:40.240126Z",
     "iopub.status.idle": "2021-05-18T08:39:40.243328Z",
     "shell.execute_reply": "2021-05-18T08:39:40.242797Z"
    },
    "papermill": {
     "duration": 0.070045,
     "end_time": "2021-05-18T08:39:40.243440",
     "exception": false,
     "start_time": "2021-05-18T08:39:40.173395",
     "status": "completed"
    },
    "tags": []
   },
   "outputs": [],
   "source": [
    "# combine_processes(test_df)\n",
    "# test_df"
   ]
  },
  {
   "cell_type": "code",
   "execution_count": 41,
   "id": "sustained-slovenia",
   "metadata": {
    "execution": {
     "iopub.execute_input": "2021-05-18T08:39:40.375999Z",
     "iopub.status.busy": "2021-05-18T08:39:40.375502Z",
     "iopub.status.idle": "2021-05-18T08:39:40.378914Z",
     "shell.execute_reply": "2021-05-18T08:39:40.378396Z"
    },
    "papermill": {
     "duration": 0.071604,
     "end_time": "2021-05-18T08:39:40.379035",
     "exception": false,
     "start_time": "2021-05-18T08:39:40.307431",
     "status": "completed"
    },
    "tags": []
   },
   "outputs": [],
   "source": [
    "# # compression_test = dict(method='zip', archive_name='test_processed.csv')  \n",
    "# # test_df.to_csv('test_out.zip', index=False, compression=compression_test) \n",
    "# with open('./test_processed.pkl', 'wb') as f:\n",
    "#     pickle.dump(test_df, f)"
   ]
  },
  {
   "cell_type": "code",
   "execution_count": 42,
   "id": "closed-andrew",
   "metadata": {
    "execution": {
     "iopub.execute_input": "2021-05-18T08:39:41.113635Z",
     "iopub.status.busy": "2021-05-18T08:39:41.113085Z",
     "iopub.status.idle": "2021-05-18T08:39:41.139476Z",
     "shell.execute_reply": "2021-05-18T08:39:41.139038Z"
    },
    "papermill": {
     "duration": 0.697487,
     "end_time": "2021-05-18T08:39:41.139613",
     "exception": false,
     "start_time": "2021-05-18T08:39:40.442126",
     "status": "completed"
    },
    "tags": []
   },
   "outputs": [
    {
     "data": {
      "text/plain": [
       "test_id                    0\n",
       "name                       0\n",
       "item_condition_id          0\n",
       "category_name          14833\n",
       "brand_name           1476490\n",
       "shipping                   0\n",
       "item_description           6\n",
       "dtype: int64"
      ]
     },
     "execution_count": 42,
     "metadata": {},
     "output_type": "execute_result"
    }
   ],
   "source": [
    "# train_df.isnull().sum()\n",
    "test_stg2_df.isnull().sum()"
   ]
  },
  {
   "cell_type": "code",
   "execution_count": 43,
   "id": "bored-dallas",
   "metadata": {
    "execution": {
     "iopub.execute_input": "2021-05-18T08:39:41.295537Z",
     "iopub.status.busy": "2021-05-18T08:39:41.271189Z",
     "iopub.status.idle": "2021-05-18T08:39:45.473338Z",
     "shell.execute_reply": "2021-05-18T08:39:45.472833Z"
    },
    "papermill": {
     "duration": 4.270448,
     "end_time": "2021-05-18T08:39:45.473445",
     "exception": false,
     "start_time": "2021-05-18T08:39:41.202997",
     "status": "completed"
    },
    "tags": []
   },
   "outputs": [],
   "source": [
    "# compression_test = dict(method='zip', archive_name='test_processed.csv')  \n",
    "# test_df.to_csv('test_out.zip', index=False, compression=compression_test) \n",
    "with open('./test_stg2_processed.pkl', 'wb') as f:\n",
    "    pickle.dump(test_stg2_df, f)"
   ]
  },
  {
   "cell_type": "code",
   "execution_count": null,
   "id": "fourth-soviet",
   "metadata": {
    "papermill": {
     "duration": 0.061805,
     "end_time": "2021-05-18T08:39:45.598090",
     "exception": false,
     "start_time": "2021-05-18T08:39:45.536285",
     "status": "completed"
    },
    "tags": []
   },
   "outputs": [],
   "source": []
  }
 ],
 "metadata": {
  "kernelspec": {
   "display_name": "Python 3",
   "language": "python",
   "name": "python3"
  },
  "language_info": {
   "codemirror_mode": {
    "name": "ipython",
    "version": 3
   },
   "file_extension": ".py",
   "mimetype": "text/x-python",
   "name": "python",
   "nbconvert_exporter": "python",
   "pygments_lexer": "ipython3",
   "version": "3.7.10"
  },
  "papermill": {
   "default_parameters": {},
   "duration": 59.815299,
   "end_time": "2021-05-18T08:39:46.670092",
   "environment_variables": {},
   "exception": null,
   "input_path": "__notebook__.ipynb",
   "output_path": "__notebook__.ipynb",
   "parameters": {},
   "start_time": "2021-05-18T08:38:46.854793",
   "version": "2.3.3"
  }
 },
 "nbformat": 4,
 "nbformat_minor": 5
}
