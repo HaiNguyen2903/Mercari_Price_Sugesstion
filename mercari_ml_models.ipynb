{
  "nbformat": 4,
  "nbformat_minor": 0,
  "metadata": {
    "colab": {
      "name": "Machine_learning_models.ipynb",
      "provenance": [],
      "collapsed_sections": [],
      "toc_visible": true
    },
    "kernelspec": {
      "display_name": "Python 3",
      "name": "python3"
    },
    "language_info": {
      "name": "python"
    },
    "accelerator": "TPU"
  },
  "cells": [
    {
      "cell_type": "markdown",
      "metadata": {
        "id": "019WcCYL5CBW"
      },
      "source": [
        "# **Machine_learning_models**"
      ]
    },
    {
      "cell_type": "markdown",
      "metadata": {
        "id": "3LWvtahMCvR7"
      },
      "source": [
        "## **1 Import Libraries**\n",
        "\n",
        "\n",
        "\n"
      ]
    },
    {
      "cell_type": "code",
      "metadata": {
        "id": "jjeAvCV2DXoj",
        "colab": {
          "base_uri": "https://localhost:8080/"
        },
        "outputId": "8d044063-d4ea-4845-de4b-29608fe4770a"
      },
      "source": [
        "!cat /proc/cpuinfo"
      ],
      "execution_count": null,
      "outputs": [
        {
          "output_type": "stream",
          "text": [
            "processor\t: 0\n",
            "vendor_id\t: GenuineIntel\n",
            "cpu family\t: 6\n",
            "model\t\t: 63\n",
            "model name\t: Intel(R) Xeon(R) CPU @ 2.30GHz\n",
            "stepping\t: 0\n",
            "microcode\t: 0x1\n",
            "cpu MHz\t\t: 2299.998\n",
            "cache size\t: 46080 KB\n",
            "physical id\t: 0\n",
            "siblings\t: 2\n",
            "core id\t\t: 0\n",
            "cpu cores\t: 1\n",
            "apicid\t\t: 0\n",
            "initial apicid\t: 0\n",
            "fpu\t\t: yes\n",
            "fpu_exception\t: yes\n",
            "cpuid level\t: 13\n",
            "wp\t\t: yes\n",
            "flags\t\t: fpu vme de pse tsc msr pae mce cx8 apic sep mtrr pge mca cmov pat pse36 clflush mmx fxsr sse sse2 ss ht syscall nx pdpe1gb rdtscp lm constant_tsc rep_good nopl xtopology nonstop_tsc cpuid tsc_known_freq pni pclmulqdq ssse3 fma cx16 pcid sse4_1 sse4_2 x2apic movbe popcnt aes xsave avx f16c rdrand hypervisor lahf_lm abm invpcid_single ssbd ibrs ibpb stibp fsgsbase tsc_adjust bmi1 avx2 smep bmi2 erms invpcid xsaveopt arat md_clear arch_capabilities\n",
            "bugs\t\t: cpu_meltdown spectre_v1 spectre_v2 spec_store_bypass l1tf mds swapgs\n",
            "bogomips\t: 4599.99\n",
            "clflush size\t: 64\n",
            "cache_alignment\t: 64\n",
            "address sizes\t: 46 bits physical, 48 bits virtual\n",
            "power management:\n",
            "\n",
            "processor\t: 1\n",
            "vendor_id\t: GenuineIntel\n",
            "cpu family\t: 6\n",
            "model\t\t: 63\n",
            "model name\t: Intel(R) Xeon(R) CPU @ 2.30GHz\n",
            "stepping\t: 0\n",
            "microcode\t: 0x1\n",
            "cpu MHz\t\t: 2299.998\n",
            "cache size\t: 46080 KB\n",
            "physical id\t: 0\n",
            "siblings\t: 2\n",
            "core id\t\t: 0\n",
            "cpu cores\t: 1\n",
            "apicid\t\t: 1\n",
            "initial apicid\t: 1\n",
            "fpu\t\t: yes\n",
            "fpu_exception\t: yes\n",
            "cpuid level\t: 13\n",
            "wp\t\t: yes\n",
            "flags\t\t: fpu vme de pse tsc msr pae mce cx8 apic sep mtrr pge mca cmov pat pse36 clflush mmx fxsr sse sse2 ss ht syscall nx pdpe1gb rdtscp lm constant_tsc rep_good nopl xtopology nonstop_tsc cpuid tsc_known_freq pni pclmulqdq ssse3 fma cx16 pcid sse4_1 sse4_2 x2apic movbe popcnt aes xsave avx f16c rdrand hypervisor lahf_lm abm invpcid_single ssbd ibrs ibpb stibp fsgsbase tsc_adjust bmi1 avx2 smep bmi2 erms invpcid xsaveopt arat md_clear arch_capabilities\n",
            "bugs\t\t: cpu_meltdown spectre_v1 spectre_v2 spec_store_bypass l1tf mds swapgs\n",
            "bogomips\t: 4599.99\n",
            "clflush size\t: 64\n",
            "cache_alignment\t: 64\n",
            "address sizes\t: 46 bits physical, 48 bits virtual\n",
            "power management:\n",
            "\n"
          ],
          "name": "stdout"
        }
      ]
    },
    {
      "cell_type": "code",
      "metadata": {
        "id": "gTG_yOGPC4RH",
        "colab": {
          "base_uri": "https://localhost:8080/"
        },
        "outputId": "54b7d768-3a49-4ae6-81ac-01e2e51a027e"
      },
      "source": [
        "!pip install stop-words"
      ],
      "execution_count": null,
      "outputs": [
        {
          "output_type": "stream",
          "text": [
            "Collecting stop-words\n",
            "  Downloading https://files.pythonhosted.org/packages/1c/cb/d58290804b7a4c5daa42abbbe2a93c477ae53e45541b1825e86f0dfaaf63/stop-words-2018.7.23.tar.gz\n",
            "Building wheels for collected packages: stop-words\n",
            "  Building wheel for stop-words (setup.py) ... \u001b[?25l\u001b[?25hdone\n",
            "  Created wheel for stop-words: filename=stop_words-2018.7.23-cp37-none-any.whl size=32917 sha256=55ca72f64503f4a0f2e1788860a15ebfee2c9d195f18266f4cdc1175149c14e3\n",
            "  Stored in directory: /root/.cache/pip/wheels/75/37/6a/2b295e03bd07290f0da95c3adb9a74ba95fbc333aa8b0c7c78\n",
            "Successfully built stop-words\n",
            "Installing collected packages: stop-words\n",
            "Successfully installed stop-words-2018.7.23\n"
          ],
          "name": "stdout"
        }
      ]
    },
    {
      "cell_type": "code",
      "metadata": {
        "id": "MQtPw8p4C44M"
      },
      "source": [
        "%matplotlib inline\n",
        "import warnings\n",
        "warnings.filterwarnings(\"ignore\")\n",
        "\n",
        "import sqlite3\n",
        "import pandas as pd\n",
        "import numpy as np\n",
        "import nltk\n",
        "import string\n",
        "import time\n",
        "import matplotlib.pyplot as plt\n",
        "import seaborn as sns\n",
        "import xgboost as xgb\n",
        "import gc\n",
        "from sklearn.feature_extraction.text import TfidfTransformer\n",
        "from sklearn.feature_extraction.text import TfidfVectorizer\n",
        "\n",
        "from sklearn.feature_extraction.text import CountVectorizer\n",
        "from sklearn.metrics import confusion_matrix\n",
        "from sklearn import metrics\n",
        "from sklearn.metrics import roc_curve, auc\n",
        "from sklearn.linear_model import SGDRegressor\n",
        "from sklearn.model_selection import RandomizedSearchCV\n",
        "from sklearn.metrics import mean_squared_error\n",
        "from sklearn.model_selection import GridSearchCV\n",
        "\n",
        "import math\n",
        "import re\n",
        "import string\n",
        "from nltk.corpus import stopwords\n",
        "from nltk.stem import PorterStemmer\n",
        "from nltk.tokenize import sent_tokenize, word_tokenize\n",
        "from nltk.sentiment.vader import SentimentIntensityAnalyzer\n",
        "from sklearn.ensemble import RandomForestRegressor\n",
        "from scipy.sparse import csr_matrix\n",
        "from scipy.sparse import hstack\n",
        "from sklearn import preprocessing\n",
        "from sklearn.preprocessing import StandardScaler\n",
        "from gensim.models import Word2Vec\n",
        "from gensim.models import KeyedVectors\n",
        "from prettytable import PrettyTable\n",
        "import pickle\n",
        "import zipfile\n",
        "from tqdm import tqdm\n",
        "import os\n",
        "from sklearn.linear_model import Ridge\n",
        "\n",
        "from os import path\n",
        "from PIL import Image\n",
        "from wordcloud import WordCloud, STOPWORDS, ImageColorGenerator\n",
        "from stop_words import get_stop_words\n",
        "from collections import Counter\n",
        "\n",
        "import tensorflow as tf\n",
        "from tensorflow.keras.callbacks import TensorBoard,EarlyStopping,ModelCheckpoint\n",
        "from tensorflow.keras.layers import Input, Embedding, LSTM, Dense,Flatten\n",
        "from tensorflow.keras.models import Model\n",
        "from numpy import zeros\n",
        "from tensorflow.keras.preprocessing.text import Tokenizer\n",
        "from tensorflow.keras.preprocessing.sequence import pad_sequences\n",
        "from tensorflow.keras.models import Sequential\n",
        "from tensorflow.keras.utils import plot_model\n",
        "tf.keras.backend.clear_session()"
      ],
      "execution_count": null,
      "outputs": []
    },
    {
      "cell_type": "code",
      "metadata": {
        "id": "fMlOxbDIC5SS",
        "colab": {
          "base_uri": "https://localhost:8080/"
        },
        "outputId": "1df52cc7-3f89-4656-b28c-f509e1f70001"
      },
      "source": [
        "nltk.download('punkt')"
      ],
      "execution_count": null,
      "outputs": [
        {
          "output_type": "stream",
          "text": [
            "[nltk_data] Downloading package punkt to /root/nltk_data...\n",
            "[nltk_data]   Unzipping tokenizers/punkt.zip.\n"
          ],
          "name": "stdout"
        },
        {
          "output_type": "execute_result",
          "data": {
            "text/plain": [
              "True"
            ]
          },
          "metadata": {
            "tags": []
          },
          "execution_count": 4
        }
      ]
    },
    {
      "cell_type": "code",
      "metadata": {
        "id": "WC14u2OLDhAV",
        "colab": {
          "base_uri": "https://localhost:8080/"
        },
        "outputId": "ba4ce1d0-174a-49b7-fefa-9baa330b6bad"
      },
      "source": [
        "from google.colab import drive\n",
        "drive.mount('/content/gdrive')"
      ],
      "execution_count": null,
      "outputs": [
        {
          "output_type": "stream",
          "text": [
            "Mounted at /content/gdrive\n"
          ],
          "name": "stdout"
        }
      ]
    },
    {
      "cell_type": "markdown",
      "metadata": {
        "id": "uzYKaN7q5S2t"
      },
      "source": [
        "### **1.1 Import data**"
      ]
    },
    {
      "cell_type": "code",
      "metadata": {
        "id": "D6EBakcF8C4J"
      },
      "source": [
        "PATH = 'My Drive/kì 2/học máy/mercari-price-suggestion-challenge/'"
      ],
      "execution_count": null,
      "outputs": []
    },
    {
      "cell_type": "code",
      "metadata": {
        "id": "lgoot_Y96vwv"
      },
      "source": [
        "X_train = pd.read_pickle('/content/gdrive/'+ PATH + 'pickles/X_train.pkl')\n",
        "X_test = pd.read_pickle('/content/gdrive/'+ PATH + 'pickles/X_test.pkl')"
      ],
      "execution_count": null,
      "outputs": []
    },
    {
      "cell_type": "code",
      "metadata": {
        "id": "iqbYy5r-6wqb"
      },
      "source": [
        "def read_pickle_dump(*args,filename = 'file'):\n",
        "    argv = args\n",
        "    variable_list = [i for i in argv]\n",
        "    dir_name = \"/content/gdrive/\"+ PATH + \"pickles/\"\n",
        "    filename_suffix = \"pkl\"\n",
        "    file_path = os.path.join(dir_name, filename + \".\" + filename_suffix)\n",
        "    with open(file_path,'rb') as f:\n",
        "        variable_list = pickle.load(f)\n",
        "    return variable_list"
      ],
      "execution_count": null,
      "outputs": []
    },
    {
      "cell_type": "code",
      "metadata": {
        "id": "jkQ-GjUS68hw"
      },
      "source": [
        "tr_cat,te_cat= read_pickle_dump('tr_cat','te_cat',filename = \"cat_features\")"
      ],
      "execution_count": null,
      "outputs": []
    },
    {
      "cell_type": "code",
      "metadata": {
        "id": "RwG6jxHm7H4y"
      },
      "source": [
        "def vectorizer(train,test,column,no_of_features,n_range,vector_type):\n",
        "    '''\n",
        "    Function to vectorize text using TFIDF/BoW\n",
        "    '''\n",
        "    if str(vector_type) == 'bow':\n",
        "        vectorizer = CountVectorizer(ngram_range=n_range,max_features=no_of_features).fit(train[column])  #fitting\n",
        "    else:\n",
        "        vectorizer = TfidfVectorizer(ngram_range=n_range, max_features=no_of_features).fit(train[column]) # fit has to happen only on train data\n",
        "    \n",
        "    # we use the fitted vectorizer to convert the text to vector\n",
        "    transformed_text = vectorizer.transform(tqdm(test[column]))\n",
        "    print(\"After vectorizations\")\n",
        "    print(transformed_text.shape)\n",
        "    print(\"=\"*100)\n",
        "    return transformed_text"
      ],
      "execution_count": null,
      "outputs": []
    },
    {
      "cell_type": "code",
      "metadata": {
        "colab": {
          "base_uri": "https://localhost:8080/"
        },
        "id": "GLJwlDH97Il6",
        "outputId": "74cfd1c7-2b19-46b8-b08f-17d66c42997f"
      },
      "source": [
        "X_train_bow_name = vectorizer(X_train,X_train,'name',100000,(1,2),'bow')\n",
        "X_test_bow_name = vectorizer(X_train,X_test,'name',100000,(1,2),'bow')"
      ],
      "execution_count": null,
      "outputs": [
        {
          "output_type": "stream",
          "text": [
            "100%|██████████| 1333494/1333494 [00:16<00:00, 79122.12it/s]\n"
          ],
          "name": "stderr"
        },
        {
          "output_type": "stream",
          "text": [
            "After vectorizations\n",
            "(1333494, 100000)\n",
            "====================================================================================================\n"
          ],
          "name": "stdout"
        },
        {
          "output_type": "stream",
          "text": [
            "100%|██████████| 148167/148167 [00:01<00:00, 78384.70it/s]\n"
          ],
          "name": "stderr"
        },
        {
          "output_type": "stream",
          "text": [
            "After vectorizations\n",
            "(148167, 100000)\n",
            "====================================================================================================\n"
          ],
          "name": "stdout"
        }
      ]
    },
    {
      "cell_type": "code",
      "metadata": {
        "id": "gVxT7FEt7cx4"
      },
      "source": [
        "X_train_tfidf_desc,X_test_tfidf_desc = read_pickle_dump('X_train_tfidf_desc','X_test_tfidf_desc',filename=\"tfidf_desc\")"
      ],
      "execution_count": null,
      "outputs": []
    },
    {
      "cell_type": "code",
      "metadata": {
        "colab": {
          "base_uri": "https://localhost:8080/"
        },
        "id": "1ufidTKz7iGi",
        "outputId": "3a0f9b25-6dbb-4699-9cd9-efd460b41917"
      },
      "source": [
        "x_train_set = hstack((X_train_bow_name,X_train_tfidf_desc,tr_cat,X_train['wc_name'].values.reshape(-1,1),X_train['wc_desc'].values.reshape(-1,1))).tocsr()\n",
        "x_test_set = hstack((X_test_bow_name,X_test_tfidf_desc,te_cat,X_test['wc_name'].values.reshape(-1,1),X_test['wc_desc'].values.reshape(-1,1))).tocsr()\n",
        "\n",
        "print(\"Final Data matrix\")\n",
        "print(x_train_set.shape)\n",
        "print(x_test_set.shape)"
      ],
      "execution_count": null,
      "outputs": [
        {
          "output_type": "stream",
          "text": [
            "Final Data matrix\n",
            "(1333494, 206949)\n",
            "(148167, 206949)\n"
          ],
          "name": "stdout"
        }
      ]
    },
    {
      "cell_type": "code",
      "metadata": {
        "id": "Pxr-5lYe7jBe"
      },
      "source": [
        "def log_price(price):\n",
        "    return np.log1p(price)"
      ],
      "execution_count": null,
      "outputs": []
    },
    {
      "cell_type": "code",
      "metadata": {
        "id": "ewyIJueB7ma3"
      },
      "source": [
        "global y_scalar\n",
        "y_scalar = StandardScaler()\n",
        "y_train = y_scalar.fit_transform(log_price(X_train['price']).values.reshape(-1, 1))\n",
        "y_test = y_scalar.transform(log_price(X_test['price']).values.reshape(-1, 1))"
      ],
      "execution_count": null,
      "outputs": []
    },
    {
      "cell_type": "markdown",
      "metadata": {
        "id": "mnAUqv_aI501"
      },
      "source": [
        "### **1.2 Improve data**"
      ]
    },
    {
      "cell_type": "code",
      "metadata": {
        "id": "edx8ZGXxJKOX"
      },
      "source": [
        "improved_data = pd.read_pickle('/content/gdrive/' + PATH + 'pickles/train_processed.pkl')"
      ],
      "execution_count": null,
      "outputs": []
    },
    {
      "cell_type": "code",
      "metadata": {
        "id": "123ri6L0RCI9"
      },
      "source": [
        "from sklearn.model_selection import train_test_split\n",
        "improved_train, improved_test= train_test_split(improved_data, test_size=0.10, random_state=123)"
      ],
      "execution_count": null,
      "outputs": []
    },
    {
      "cell_type": "code",
      "metadata": {
        "id": "a_i34eDkrGd_"
      },
      "source": [
        "improved_train.to_pickle('/content/gdrive/'+ PATH + 'pickles/improved_train.pkl')\n",
        "improved_test.to_pickle('/content/gdrive/'+ PATH + 'pickles/improved_test.pkl')"
      ],
      "execution_count": null,
      "outputs": []
    },
    {
      "cell_type": "code",
      "metadata": {
        "id": "Er7cpCt0rKNJ"
      },
      "source": [
        "improved_train = pd.read_pickle('/content/gdrive/'+ PATH + 'pickles/improved_train.pkl')\n",
        "improved_test = pd.read_pickle('/content/gdrive/'+ PATH + 'pickles/improved_test.pkl')"
      ],
      "execution_count": null,
      "outputs": []
    },
    {
      "cell_type": "code",
      "metadata": {
        "colab": {
          "base_uri": "https://localhost:8080/",
          "height": 482
        },
        "id": "_J5-qqef4XAj",
        "outputId": "7e00a081-c33e-4133-d75b-70654f3369f8"
      },
      "source": [
        "improved_train.head()"
      ],
      "execution_count": null,
      "outputs": [
        {
          "output_type": "execute_result",
          "data": {
            "text/html": [
              "<div>\n",
              "<style scoped>\n",
              "    .dataframe tbody tr th:only-of-type {\n",
              "        vertical-align: middle;\n",
              "    }\n",
              "\n",
              "    .dataframe tbody tr th {\n",
              "        vertical-align: top;\n",
              "    }\n",
              "\n",
              "    .dataframe thead th {\n",
              "        text-align: right;\n",
              "    }\n",
              "</style>\n",
              "<table border=\"1\" class=\"dataframe\">\n",
              "  <thead>\n",
              "    <tr style=\"text-align: right;\">\n",
              "      <th></th>\n",
              "      <th>train_id</th>\n",
              "      <th>name</th>\n",
              "      <th>item_condition_id</th>\n",
              "      <th>category_name</th>\n",
              "      <th>brand_name</th>\n",
              "      <th>price</th>\n",
              "      <th>shipping</th>\n",
              "      <th>item_description</th>\n",
              "      <th>log_prices</th>\n",
              "      <th>general_cat</th>\n",
              "      <th>subcat_1</th>\n",
              "      <th>subcat_2</th>\n",
              "      <th>desc_neg</th>\n",
              "      <th>desc_neu</th>\n",
              "      <th>desc_pos</th>\n",
              "      <th>is_expensive</th>\n",
              "      <th>scaler_name_len</th>\n",
              "      <th>scaler_desc_len</th>\n",
              "    </tr>\n",
              "  </thead>\n",
              "  <tbody>\n",
              "    <tr>\n",
              "      <th>192736</th>\n",
              "      <td>192736</td>\n",
              "      <td>twd abraham mystery mini memoriam</td>\n",
              "      <td>2</td>\n",
              "      <td>Kids/Toys/Action Figures &amp; Statues</td>\n",
              "      <td>funko</td>\n",
              "      <td>40.0</td>\n",
              "      <td>1</td>\n",
              "      <td>brand new amazing piece shipped care</td>\n",
              "      <td>3.688879</td>\n",
              "      <td>kids</td>\n",
              "      <td>toys</td>\n",
              "      <td>action figures statues</td>\n",
              "      <td>0.000</td>\n",
              "      <td>0.364</td>\n",
              "      <td>0.636</td>\n",
              "      <td>1</td>\n",
              "      <td>0.495447</td>\n",
              "      <td>-0.595547</td>\n",
              "    </tr>\n",
              "    <tr>\n",
              "      <th>940322</th>\n",
              "      <td>940322</td>\n",
              "      <td>toddler shoes</td>\n",
              "      <td>3</td>\n",
              "      <td>Kids/Girls 2T-5T/Shoes</td>\n",
              "      <td>unk_brand</td>\n",
              "      <td>9.0</td>\n",
              "      <td>0</td>\n",
              "      <td>nikes size 6c</td>\n",
              "      <td>2.197225</td>\n",
              "      <td>kids</td>\n",
              "      <td>girls 2t 5t</td>\n",
              "      <td>shoes</td>\n",
              "      <td>0.000</td>\n",
              "      <td>1.000</td>\n",
              "      <td>0.000</td>\n",
              "      <td>0</td>\n",
              "      <td>-1.395954</td>\n",
              "      <td>-0.739503</td>\n",
              "    </tr>\n",
              "    <tr>\n",
              "      <th>1388934</th>\n",
              "      <td>1388934</td>\n",
              "      <td>ann kline low dress pumps size 10 med</td>\n",
              "      <td>2</td>\n",
              "      <td>Women/Shoes/Pumps</td>\n",
              "      <td>anne klein</td>\n",
              "      <td>14.0</td>\n",
              "      <td>0</td>\n",
              "      <td>black leather black patent combine</td>\n",
              "      <td>2.639057</td>\n",
              "      <td>women</td>\n",
              "      <td>shoes</td>\n",
              "      <td>pumps</td>\n",
              "      <td>0.000</td>\n",
              "      <td>1.000</td>\n",
              "      <td>0.000</td>\n",
              "      <td>1</td>\n",
              "      <td>2.386847</td>\n",
              "      <td>-0.643533</td>\n",
              "    </tr>\n",
              "    <tr>\n",
              "      <th>982817</th>\n",
              "      <td>982817</td>\n",
              "      <td>velor boy sliders free shipping size 9m</td>\n",
              "      <td>2</td>\n",
              "      <td>Kids/Boys 0-24 Mos/One-Pieces</td>\n",
              "      <td>ralph lauren</td>\n",
              "      <td>10.0</td>\n",
              "      <td>1</td>\n",
              "      <td>no description yet</td>\n",
              "      <td>2.302585</td>\n",
              "      <td>kids</td>\n",
              "      <td>boys 0 24 mos</td>\n",
              "      <td>one pieces</td>\n",
              "      <td>0.524</td>\n",
              "      <td>0.476</td>\n",
              "      <td>0.000</td>\n",
              "      <td>1</td>\n",
              "      <td>1.756380</td>\n",
              "      <td>-0.739503</td>\n",
              "    </tr>\n",
              "    <tr>\n",
              "      <th>1009610</th>\n",
              "      <td>1009610</td>\n",
              "      <td>lularoe shirt</td>\n",
              "      <td>3</td>\n",
              "      <td>Women/Tops &amp; Blouses/T-Shirts</td>\n",
              "      <td>lularoe</td>\n",
              "      <td>10.0</td>\n",
              "      <td>0</td>\n",
              "      <td>teal lularoe shirt good condition no free ship</td>\n",
              "      <td>2.302585</td>\n",
              "      <td>women</td>\n",
              "      <td>tops blouses</td>\n",
              "      <td>shirts</td>\n",
              "      <td>0.164</td>\n",
              "      <td>0.373</td>\n",
              "      <td>0.463</td>\n",
              "      <td>1</td>\n",
              "      <td>-1.395954</td>\n",
              "      <td>-0.499577</td>\n",
              "    </tr>\n",
              "  </tbody>\n",
              "</table>\n",
              "</div>"
            ],
            "text/plain": [
              "         train_id  ... scaler_desc_len\n",
              "192736     192736  ...       -0.595547\n",
              "940322     940322  ...       -0.739503\n",
              "1388934   1388934  ...       -0.643533\n",
              "982817     982817  ...       -0.739503\n",
              "1009610   1009610  ...       -0.499577\n",
              "\n",
              "[5 rows x 18 columns]"
            ]
          },
          "metadata": {
            "tags": []
          },
          "execution_count": 20
        }
      ]
    },
    {
      "cell_type": "code",
      "metadata": {
        "id": "hWXkg2gQ5Sc7"
      },
      "source": [
        "def one_hot_encode(train,test):\n",
        "    '''\n",
        "    Function to one hot encode the categorical columns\n",
        "    '''\n",
        "    vectorizer = CountVectorizer(token_pattern='.+')\n",
        "    # ta chỉ sử dụng hàm fit trên tậm dữ liệu train\n",
        "\n",
        "    vectorizer = vectorizer.fit(train['category_name'].values)\n",
        "    column_cat = vectorizer.transform(test['category_name'].values)\n",
        "\n",
        "    vectorizer = vectorizer.fit(train['general_cat'].values)\n",
        "    column_mc = vectorizer.transform(test['general_cat'].values)\n",
        "    \n",
        "    vectorizer = vectorizer.fit(train['subcat_1'].values)\n",
        "    column_sb1 = vectorizer.transform(test['subcat_1'].values)\n",
        "    \n",
        "    vectorizer = vectorizer.fit(train['subcat_2'].values)\n",
        "    column_sb2 = vectorizer.transform(test['subcat_2'].values)\n",
        "\n",
        "    vectorizer = vectorizer.fit(train['brand_name'].astype(str))\n",
        "    brand_encodes = vectorizer.transform(test['brand_name'].astype(str))\n",
        "   \n",
        "    print(column_cat.shape)\n",
        "    print(column_mc.shape)\n",
        "    print(column_sb1.shape)\n",
        "    print(column_sb2.shape)\n",
        "    print(brand_encodes.shape)\n",
        "    print(\"=\"*100)\n",
        "    return column_cat,column_mc,column_sb1,column_sb2,brand_encodes"
      ],
      "execution_count": null,
      "outputs": []
    },
    {
      "cell_type": "code",
      "metadata": {
        "colab": {
          "base_uri": "https://localhost:8080/"
        },
        "id": "IzKN9Uoi8CR5",
        "outputId": "55213e9b-5a98-4fa6-d0bb-70ab72875546"
      },
      "source": [
        "cat_ohe_tr,main_cat_ohe_tr,sub_cat_1_ohe_tr,sub_cat_2_ohe_tr,brand_ohe_tr = one_hot_encode(improved_train,improved_train)"
      ],
      "execution_count": null,
      "outputs": [
        {
          "output_type": "stream",
          "text": [
            "(1302134, 1273)\n",
            "(1302134, 10)\n",
            "(1302134, 113)\n",
            "(1302134, 855)\n",
            "(1302134, 4669)\n",
            "====================================================================================================\n"
          ],
          "name": "stdout"
        }
      ]
    },
    {
      "cell_type": "code",
      "metadata": {
        "colab": {
          "base_uri": "https://localhost:8080/"
        },
        "id": "7BcHsoEQ8Ixi",
        "outputId": "46617b7e-ef3c-448f-bb0b-a2eb9d8a067b"
      },
      "source": [
        "cat_ohe_te,main_cat_ohe_te,sub_cat_1_ohe_te,sub_cat_2_ohe_te,brand_ohe_te = one_hot_encode(improved_train,improved_test)"
      ],
      "execution_count": null,
      "outputs": [
        {
          "output_type": "stream",
          "text": [
            "(144682, 1273)\n",
            "(144682, 10)\n",
            "(144682, 113)\n",
            "(144682, 855)\n",
            "(144682, 4669)\n",
            "====================================================================================================\n"
          ],
          "name": "stdout"
        }
      ]
    },
    {
      "cell_type": "code",
      "metadata": {
        "id": "pHwmxWBd8Jh3"
      },
      "source": [
        "def get_dummies_item_id_shipping(df):\n",
        "    df['item_condition_id'] = df[\"item_condition_id\"].astype(\"category\")\n",
        "    df['shipping'] = df[\"shipping\"].astype(\"category\")\n",
        "    item_id_shipping = csr_matrix(pd.get_dummies(df[['item_condition_id', 'shipping']],\\\n",
        "                                                      sparse=True).values)\n",
        "    return item_id_shipping"
      ],
      "execution_count": null,
      "outputs": []
    },
    {
      "cell_type": "code",
      "metadata": {
        "id": "WaTVPc1k8liP"
      },
      "source": [
        "item_id_shipping_X_tr = get_dummies_item_id_shipping(improved_train)\n",
        "item_id_shipping_X_te = get_dummies_item_id_shipping(improved_test)"
      ],
      "execution_count": null,
      "outputs": []
    },
    {
      "cell_type": "code",
      "metadata": {
        "colab": {
          "base_uri": "https://localhost:8080/"
        },
        "id": "ETYrxn408oMe",
        "outputId": "ee81f5c2-5f81-4c27-ee3c-6f6a2b8eb190"
      },
      "source": [
        "tr_cat2 = hstack((cat_ohe_tr,main_cat_ohe_tr,sub_cat_1_ohe_tr,sub_cat_2_ohe_tr,brand_ohe_tr,\\\n",
        "                     item_id_shipping_X_tr)).tocsr()\n",
        "te_cat2 = hstack((cat_ohe_te,main_cat_ohe_te,sub_cat_1_ohe_te,sub_cat_2_ohe_te,brand_ohe_te,\\\n",
        "                     item_id_shipping_X_te)).tocsr()\n",
        "\n",
        "print(tr_cat2.shape)\n",
        "print(te_cat2.shape)"
      ],
      "execution_count": null,
      "outputs": [
        {
          "output_type": "stream",
          "text": [
            "(1302134, 6927)\n",
            "(144682, 6927)\n"
          ],
          "name": "stdout"
        }
      ]
    },
    {
      "cell_type": "code",
      "metadata": {
        "id": "T4Fssn3arj93"
      },
      "source": [
        "def pickle_dump(*args,filename = 'file'):\n",
        "    argv = args\n",
        "    list_variable = [i for i in argv]\n",
        "    dir_name = \"/content/gdrive/\"+ PATH + \"pickles/\"\n",
        "    filename_suffix = \"pkl\"\n",
        "    file_path = os.path.join(dir_name, filename + \".\" + filename_suffix)\n",
        "    with open(file_path, 'wb') as f:\n",
        "        pickle.dump(list_variable, f)"
      ],
      "execution_count": null,
      "outputs": []
    },
    {
      "cell_type": "code",
      "metadata": {
        "id": "EtVG5J_qrpaj"
      },
      "source": [
        "pickle_dump(tr_cat2,te_cat2,filename = \"cat_features_2\")"
      ],
      "execution_count": null,
      "outputs": []
    },
    {
      "cell_type": "code",
      "metadata": {
        "id": "Z8u-M09mrwlE"
      },
      "source": [
        "def read_pickle_dump(*args,filename = 'file'):\n",
        "    argv = args\n",
        "    variable_list = [i for i in argv]\n",
        "    dir_name = \"/content/gdrive/\"+ PATH + \"pickles/\"\n",
        "    filename_suffix = \"pkl\"\n",
        "    file_path = os.path.join(dir_name, filename + \".\" + filename_suffix)\n",
        "    with open(file_path,'rb') as f:\n",
        "        variable_list = pickle.load(f)\n",
        "    return variable_list"
      ],
      "execution_count": null,
      "outputs": []
    },
    {
      "cell_type": "code",
      "metadata": {
        "id": "_8eYk5nMr1rP"
      },
      "source": [
        "tr_cat2,te_cat2= read_pickle_dump('tr_cat2','te_cat2',filename = \"cat_features_2\")"
      ],
      "execution_count": null,
      "outputs": []
    },
    {
      "cell_type": "code",
      "metadata": {
        "id": "fdIOpMRs-Av_"
      },
      "source": [
        "X_train_bow_name2 = vectorizer(improved_train,improved_train,'name',100000,(1,2),'bow')\n",
        "X_test_bow_name2 = vectorizer(improved_train,improved_test,'name',100000,(1,2),'bow')"
      ],
      "execution_count": null,
      "outputs": []
    },
    {
      "cell_type": "code",
      "metadata": {
        "id": "TurnMsqq-BIq"
      },
      "source": [
        "X_train_tfidf_desc2 = vectorizer(improved_train,improved_train,'item_description',100000,(1,2),'tfidf')\n",
        "X_test_tfidf_desc2 = vectorizer(improved_train,improved_test,'item_description',100000,(1,2),'tfidf')"
      ],
      "execution_count": null,
      "outputs": []
    },
    {
      "cell_type": "code",
      "metadata": {
        "id": "m1PKhPaVsVYS"
      },
      "source": [
        "pickle_dump(X_train_tfidf_desc2,X_test_tfidf_desc2,filename=\"tfidf_desc2\")"
      ],
      "execution_count": null,
      "outputs": []
    },
    {
      "cell_type": "code",
      "metadata": {
        "id": "TGJxoEa9sWFh"
      },
      "source": [
        "X_train_tfidf_desc2,X_test_tfidf_desc2 = read_pickle_dump('X_train_tfidf_desc2','X_test_tfidf_desc2',filename=\"tfidf_desc2\")"
      ],
      "execution_count": null,
      "outputs": []
    },
    {
      "cell_type": "code",
      "metadata": {
        "colab": {
          "base_uri": "https://localhost:8080/",
          "height": 285
        },
        "id": "pUYsHKWm-EKe",
        "outputId": "e14ebce1-1f57-436f-a2d2-2e08e7e49f98"
      },
      "source": [
        "x_train_set2 = hstack((X_train_bow_name2,X_train_tfidf_desc2,tr_cat2,\\\n",
        "                       improved_train['desc_neg'].values.reshape(-1,1),\\\n",
        "                       improved_train['desc_neu'].values.reshape(-1,1),\\\n",
        "                       improved_train['desc_pos'].values.reshape(-1,1),\\\n",
        "                       improved_train['is_expensive'].values.reshape(-1,1),\\\n",
        "                       improved_train['scaler_name_len'].values.reshape(-1,1),\\\n",
        "                       improved_train['scaler_desc_len'].values.reshape(-1,1))).tocsr()\n",
        "x_test_set2 = hstack((X_test_bow_name2,X_test_tfidf_desc2,\\\n",
        "                      te_cat2,improved_test['desc_neg'].values.reshape(-1,1),\\\n",
        "                      improved_test['desc_neu'].values.reshape(-1,1),\\\n",
        "                      improved_test['desc_pos'].values.reshape(-1,1),\\\n",
        "                      improved_test['is_expensive'].values.reshape(-1,1),\\\n",
        "                      improved_test['scaler_name_len'].values.reshape(-1,1),\\\n",
        "                      improved_test['scaler_desc_len'].values.reshape(-1,1))).tocsr()\n",
        "\n",
        "print(\"Final Data matrix\")\n",
        "print(x_train_set2.shape)\n",
        "print(x_test_set2.shape)"
      ],
      "execution_count": null,
      "outputs": [
        {
          "output_type": "error",
          "ename": "NameError",
          "evalue": "ignored",
          "traceback": [
            "\u001b[0;31m---------------------------------------------------------------------------\u001b[0m",
            "\u001b[0;31mNameError\u001b[0m                                 Traceback (most recent call last)",
            "\u001b[0;32m<ipython-input-8-79ee5bd57401>\u001b[0m in \u001b[0;36m<module>\u001b[0;34m()\u001b[0m\n\u001b[0;32m----> 1\u001b[0;31m \u001b[0mx_train_set2\u001b[0m \u001b[0;34m=\u001b[0m \u001b[0mhstack\u001b[0m\u001b[0;34m(\u001b[0m\u001b[0;34m(\u001b[0m\u001b[0mX_train_bow_name2\u001b[0m\u001b[0;34m,\u001b[0m\u001b[0mX_train_tfidf_desc2\u001b[0m\u001b[0;34m,\u001b[0m\u001b[0mtr_cat2\u001b[0m\u001b[0;34m,\u001b[0m\u001b[0mimproved_train\u001b[0m\u001b[0;34m[\u001b[0m\u001b[0;34m'desc_neg'\u001b[0m\u001b[0;34m]\u001b[0m\u001b[0;34m.\u001b[0m\u001b[0mvalues\u001b[0m\u001b[0;34m.\u001b[0m\u001b[0mreshape\u001b[0m\u001b[0;34m(\u001b[0m\u001b[0;34m-\u001b[0m\u001b[0;36m1\u001b[0m\u001b[0;34m,\u001b[0m\u001b[0;36m1\u001b[0m\u001b[0;34m)\u001b[0m\u001b[0;34m,\u001b[0m\u001b[0mimproved_train\u001b[0m\u001b[0;34m[\u001b[0m\u001b[0;34m'desc_neu'\u001b[0m\u001b[0;34m]\u001b[0m\u001b[0;34m.\u001b[0m\u001b[0mvalues\u001b[0m\u001b[0;34m.\u001b[0m\u001b[0mreshape\u001b[0m\u001b[0;34m(\u001b[0m\u001b[0;34m-\u001b[0m\u001b[0;36m1\u001b[0m\u001b[0;34m,\u001b[0m\u001b[0;36m1\u001b[0m\u001b[0;34m)\u001b[0m\u001b[0;34m,\u001b[0m\u001b[0mimproved_train\u001b[0m\u001b[0;34m[\u001b[0m\u001b[0;34m'desc_pos'\u001b[0m\u001b[0;34m]\u001b[0m\u001b[0;34m.\u001b[0m\u001b[0mvalues\u001b[0m\u001b[0;34m.\u001b[0m\u001b[0mreshape\u001b[0m\u001b[0;34m(\u001b[0m\u001b[0;34m-\u001b[0m\u001b[0;36m1\u001b[0m\u001b[0;34m,\u001b[0m\u001b[0;36m1\u001b[0m\u001b[0;34m)\u001b[0m\u001b[0;34m,\u001b[0m\u001b[0mimproved_train\u001b[0m\u001b[0;34m[\u001b[0m\u001b[0;34m'is_expensive'\u001b[0m\u001b[0;34m]\u001b[0m\u001b[0;34m.\u001b[0m\u001b[0mvalues\u001b[0m\u001b[0;34m.\u001b[0m\u001b[0mreshape\u001b[0m\u001b[0;34m(\u001b[0m\u001b[0;34m-\u001b[0m\u001b[0;36m1\u001b[0m\u001b[0;34m,\u001b[0m\u001b[0;36m1\u001b[0m\u001b[0;34m)\u001b[0m\u001b[0;34m,\u001b[0m\u001b[0mimproved_train\u001b[0m\u001b[0;34m[\u001b[0m\u001b[0;34m'scaler_name_len'\u001b[0m\u001b[0;34m]\u001b[0m\u001b[0;34m.\u001b[0m\u001b[0mvalues\u001b[0m\u001b[0;34m.\u001b[0m\u001b[0mreshape\u001b[0m\u001b[0;34m(\u001b[0m\u001b[0;34m-\u001b[0m\u001b[0;36m1\u001b[0m\u001b[0;34m,\u001b[0m\u001b[0;36m1\u001b[0m\u001b[0;34m)\u001b[0m\u001b[0;34m,\u001b[0m\u001b[0mimproved_train\u001b[0m\u001b[0;34m[\u001b[0m\u001b[0;34m'scaler_desc_len'\u001b[0m\u001b[0;34m]\u001b[0m\u001b[0;34m.\u001b[0m\u001b[0mvalues\u001b[0m\u001b[0;34m.\u001b[0m\u001b[0mreshape\u001b[0m\u001b[0;34m(\u001b[0m\u001b[0;34m-\u001b[0m\u001b[0;36m1\u001b[0m\u001b[0;34m,\u001b[0m\u001b[0;36m1\u001b[0m\u001b[0;34m)\u001b[0m\u001b[0;34m)\u001b[0m\u001b[0;34m)\u001b[0m\u001b[0;34m.\u001b[0m\u001b[0mtocsr\u001b[0m\u001b[0;34m(\u001b[0m\u001b[0;34m)\u001b...\n\u001b[0m\u001b[1;32m      2\u001b[0m \u001b[0mx_test_set2\u001b[0m \u001b[0;34m=\u001b[0m \u001b[0mhstack\u001b[0m\u001b[0;34m(\u001b[0m\u001b[0;34m(\u001b[0m\u001b[0mX_test_bow_name2\u001b[0m\u001b[0;34m,\u001b[0m\u001b[0mX_test_tfidf_desc2\u001b[0m\u001b[0;34m,\u001b[0m\u001b[0mte_cat2\u001b[0m\u001b[0;34m,\u001b[0m\u001b[0mimproved_test\u001b[0m\u001b[0;34m[\u001b[0m\u001b[0;34m'desc_neg'\u001b[0m\u001b[0;34m]\u001b[0m\u001b[0;34m.\u001b[0m\u001b[0mvalues\u001b[0m\u001b[0;34m.\u001b[0m\u001b[0mreshape\u001b[0m\u001b[0;34m(\u001b[0m\u001b[0;34m-\u001b[0m\u001b[0;36m1\u001b[0m\u001b[0;34m,\u001b[0m\u001b[0;36m1\u001b[0m\u001b[0;34m)\u001b[0m\u001b[0;34m,\u001b[0m\u001b[0mimproved_test\u001b[0m\u001b[0;34m[\u001b[0m\u001b[0;34m'desc_neu'\u001b[0m\u001b[0;34m]\u001b[0m\u001b[0;34m.\u001b[0m\u001b[0mvalues\u001b[0m\u001b[0;34m.\u001b[0m\u001b[0mreshape\u001b[0m\u001b[0;34m(\u001b[0m\u001b[0;34m-\u001b[0m\u001b[0;36m1\u001b[0m\u001b[0;34m,\u001b[0m\u001b[0;36m1\u001b[0m\u001b[0;34m)\u001b[0m\u001b[0;34m,\u001b[0m\u001b[0mimproved_test\u001b[0m\u001b[0;34m[\u001b[0m\u001b[0;34m'desc_pos'\u001b[0m\u001b[0;34m]\u001b[0m\u001b[0;34m.\u001b[0m\u001b[0mvalues\u001b[0m\u001b[0;34m.\u001b[0m\u001b[0mreshape\u001b[0m\u001b[0;34m(\u001b[0m\u001b[0;34m-\u001b[0m\u001b[0;36m1\u001b[0m\u001b[0;34m,\u001b[0m\u001b[0;36m1\u001b[0m\u001b[0;34m)\u001b[0m\u001b[0;34m,\u001b[0m\u001b[0mimproved_test\u001b[0m\u001b[0;34m[\u001b[0m\u001b[0;34m'is_expensive'\u001b[0m\u001b[0;34m]\u001b[0m\u001b[0;34m.\u001b[0m\u001b[0mvalues\u001b[0m\u001b[0;34m.\u001b[0m\u001b[0mreshape\u001b[0m\u001b[0;34m(\u001b[0m\u001b[0;34m-\u001b[0m\u001b[0;36m1\u001b[0m\u001b[0;34m,\u001b[0m\u001b[0;36m1\u001b[0m\u001b[0;34m)\u001b[0m\u001b[0;34m,\u001b[0m\u001b[0mimproved_test\u001b[0m\u001b[0;34m[\u001b[0m\u001b[0;34m'scaler_name_len'\u001b[0m\u001b[0;34m]\u001b[0m\u001b[0;34m.\u001b[0m\u001b[0mvalues\u001b[0m\u001b[0;34m.\u001b[0m\u001b[0mreshape\u001b[0m\u001b[0;34m(\u001b[0m\u001b[0;34m-\u001b[0m\u001b[0;36m1\u001b[0m\u001b[0;34m,\u001b[0m\u001b[0;36m1\u001b[0m\u001b[0;34m)\u001b[0m\u001b[0;34m,\u001b[0m\u001b[0mimproved_test\u001b[0m\u001b[0;34m[\u001b[0m\u001b[0;34m'scaler_desc_len'\u001b[0m\u001b[0;34m]\u001b[0m\u001b[0;34m.\u001b[0m\u001b[0mvalues\u001b[0m\u001b[0;34m.\u001b[0m\u001b[0mreshape\u001b[0m\u001b[0;34m(\u001b[0m\u001b[0;34m-\u001b[0m\u001b[0;36m1\u001b[0m\u001b[0;34m,\u001b[0m\u001b[0;36m1\u001b[0m\u001b[0;34m)\u001b[0m\u001b[0;34m)\u001b[0m\u001b[0;34m)\u001b[0m\u001b[0;34m.\u001b[0m\u001b[0mtocsr\u001b[0m\u001b[0;34m(\u001b[0m\u001b[0;34m)\u001b[0m\u001b[0;3...\n\u001b[1;32m      3\u001b[0m \u001b[0;34m\u001b[0m\u001b[0m\n\u001b[1;32m      4\u001b[0m \u001b[0mprint\u001b[0m\u001b[0;34m(\u001b[0m\u001b[0;34m\"Final Data matrix\"\u001b[0m\u001b[0;34m)\u001b[0m\u001b[0;34m\u001b[0m\u001b[0;34m\u001b[0m\u001b[0m\n\u001b[1;32m      5\u001b[0m \u001b[0mprint\u001b[0m\u001b[0;34m(\u001b[0m\u001b[0mx_train_set2\u001b[0m\u001b[0;34m.\u001b[0m\u001b[0mshape\u001b[0m\u001b[0;34m)\u001b[0m\u001b[0;34m\u001b[0m\u001b[0;34m\u001b[0m\u001b[0m\n",
            "\u001b[0;31mNameError\u001b[0m: name 'X_train_bow_name2' is not defined"
          ]
        }
      ]
    },
    {
      "cell_type": "code",
      "metadata": {
        "id": "7BOsDj45bcow"
      },
      "source": [
        "pickle_dump(x_train_set2,x_test_set2,filename=\"final_data_matrix\")"
      ],
      "execution_count": null,
      "outputs": []
    },
    {
      "cell_type": "code",
      "metadata": {
        "colab": {
          "base_uri": "https://localhost:8080/"
        },
        "id": "6OhlO7zebv48",
        "outputId": "bf687a97-c21c-472a-8854-fa2340fe9d0b"
      },
      "source": [
        "x_train_set2,x_test_set2 = read_pickle_dump('x_train_set2','x_test_set2',filename='final_data_matrix')\n",
        "print(\"Final Data matrix\")\n",
        "print(x_train_set2.shape)\n",
        "print(x_test_set2.shape)"
      ],
      "execution_count": null,
      "outputs": [
        {
          "output_type": "stream",
          "text": [
            "Final Data matrix\n",
            "(1302134, 206933)\n",
            "(144682, 206933)\n"
          ],
          "name": "stdout"
        }
      ]
    },
    {
      "cell_type": "code",
      "metadata": {
        "id": "q57wE-DlI9c9"
      },
      "source": [
        "global y_scalar\n",
        "y_scalar = StandardScaler()\n",
        "y_train2 = y_scalar.fit_transform(log_price(improved_train['price']).values.reshape(-1, 1))\n",
        "y_test2 = y_scalar.transform(log_price(improved_test['price']).values.reshape(-1, 1))"
      ],
      "execution_count": null,
      "outputs": []
    },
    {
      "cell_type": "markdown",
      "metadata": {
        "id": "nop4ymBKbFrR"
      },
      "source": [
        "## **5. Model**"
      ]
    },
    {
      "cell_type": "code",
      "metadata": {
        "id": "v4pi9hFMe_mJ"
      },
      "source": [
        "def hyperparameter_tuning_random(x,y,model_estimator,param_dict,cv_no):\n",
        "    start = time.time()\n",
        "    hyper_tuned = GridSearchCV(estimator = model_estimator, param_grid = param_dict,\\\n",
        "                                    return_train_score=True, scoring = 'neg_mean_squared_error',\\\n",
        "                                    cv = cv_no, \\\n",
        "                                    verbose=2, n_jobs = -1)\n",
        "    hyper_tuned.fit(x,y)\n",
        "    print(\"\\n######################################################################\\n\")\n",
        "    print ('Time taken for hyperparameter tuning is {} sec\\n'.format(time.time()-start))\n",
        "    print('The best parameters_: {}'.format(hyper_tuned.best_params_))\n",
        "    return hyper_tuned.best_params_"
      ],
      "execution_count": null,
      "outputs": []
    },
    {
      "cell_type": "code",
      "metadata": {
        "id": "nc_jxXfbiCkE"
      },
      "source": [
        "def rmsle_compute(y_true, y_pred):\n",
        "    assert len(y_true) == len(y_pred)\n",
        "    score = np.sqrt(np.mean(np.power(np.log1p(y_pred) - np.log1p(y_true), 2)))\n",
        "    return score"
      ],
      "execution_count": null,
      "outputs": []
    },
    {
      "cell_type": "code",
      "metadata": {
        "id": "_tZmuTeriJqj"
      },
      "source": [
        "def scale_back(x):\n",
        "    '''\n",
        "    Function to inverse transform the scaled values\n",
        "    '''\n",
        "    x= np.expm1(y_scalar.inverse_transform(x.reshape(-1,1))[:,0])#changes\n",
        "    return x"
      ],
      "execution_count": null,
      "outputs": []
    },
    {
      "cell_type": "markdown",
      "metadata": {
        "id": "JZSc-atryh87"
      },
      "source": [
        "**Mỗi mô hình thử nghiện với 2 tập dữ liệu khác nhau. Một tập là dữ liệu thô và tập còn lại đã qua xử lý dữ liệu**"
      ]
    },
    {
      "cell_type": "markdown",
      "metadata": {
        "id": "6f_AGYUDcV0U"
      },
      "source": [
        "###**5.1 Support vector regressor ver1**\n",
        "\n"
      ]
    },
    {
      "cell_type": "code",
      "metadata": {
        "id": "Y174Hx1Caz5-"
      },
      "source": [
        "parameters_svr = {'alpha':[10**x for x in range(-4, 4)]}\n",
        "model_svr = SGDRegressor(loss = \"epsilon_insensitive\",fit_intercept=False)"
      ],
      "execution_count": null,
      "outputs": []
    },
    {
      "cell_type": "code",
      "metadata": {
        "colab": {
          "base_uri": "https://localhost:8080/"
        },
        "id": "T8tsjPSye0tW",
        "outputId": "5225da77-2f3a-4ab9-9866-30c43a89f9be"
      },
      "source": [
        "best_parameters_svr = hyperparameter_tuning_random(x_train_set,y_train,model_svr,parameters_svr,3)"
      ],
      "execution_count": null,
      "outputs": [
        {
          "output_type": "stream",
          "text": [
            "Fitting 3 folds for each of 8 candidates, totalling 24 fits\n"
          ],
          "name": "stdout"
        },
        {
          "output_type": "stream",
          "text": [
            "[Parallel(n_jobs=-1)]: Using backend LokyBackend with 2 concurrent workers.\n",
            "[Parallel(n_jobs=-1)]: Done  24 out of  24 | elapsed:  8.3min finished\n"
          ],
          "name": "stderr"
        },
        {
          "output_type": "stream",
          "text": [
            "\n",
            "######################################################################\n",
            "\n",
            "Time taken for hyperparameter tuning is 545.7301201820374 sec\n",
            "\n",
            "The best parameters_: {'alpha': 0.0001}\n"
          ],
          "name": "stdout"
        }
      ]
    },
    {
      "cell_type": "markdown",
      "metadata": {
        "id": "Rw_yulBWfSlA"
      },
      "source": [
        "**Model with tuned parameters:**"
      ]
    },
    {
      "cell_type": "code",
      "metadata": {
        "colab": {
          "background_save": true
        },
        "id": "vcSV5OCyXvRO"
      },
      "source": [
        "model_svr_best_param = SGDRegressor(loss = \"epsilon_insensitive\",alpha = 0.0001, fit_intercept=False)\n",
        "model_svr_best_param.fit(x_train_set,y_train[:,0])\n",
        "y_train_pred_svr = model_svr_best_param.predict(x_train_set)\n",
        "y_test_pred_svr = model_svr_best_param.predict(x_test_set)"
      ],
      "execution_count": null,
      "outputs": []
    },
    {
      "cell_type": "markdown",
      "metadata": {
        "id": "mnQdDvBvfi5u"
      },
      "source": [
        "**RMSLE Calculation:**"
      ]
    },
    {
      "cell_type": "code",
      "metadata": {
        "colab": {
          "background_save": true
        },
        "id": "ReKpUgkEX3kf"
      },
      "source": [
        "rmsle_svr_reg_model_X_train = rmsle_compute(X_train['price'],scale_back(y_train_pred_svr))\n",
        "print(\"RMSLE on train data: {}\\n\".format(rmsle_svr_reg_model_X_train))\n",
        "rmsle_svr_reg_model_X_test = rmsle_compute(X_test['price'],scale_back(y_test_pred_svr))\n",
        "print(\"RMSLE on test data: {}\\n\".format(rmsle_svr_reg_model_X_test))"
      ],
      "execution_count": null,
      "outputs": []
    },
    {
      "cell_type": "markdown",
      "metadata": {
        "id": "ocS_jyDVJq7n"
      },
      "source": [
        "###**5.2 Support vector regressor ver2**\n",
        "\n"
      ]
    },
    {
      "cell_type": "code",
      "metadata": {
        "id": "ivdIxciQJq7o"
      },
      "source": [
        "parameters_svr = {'alpha':[10**x for x in range(-4, 4)]}\n",
        "model_svr = SGDRegressor(loss = \"epsilon_insensitive\",fit_intercept=False)"
      ],
      "execution_count": null,
      "outputs": []
    },
    {
      "cell_type": "code",
      "metadata": {
        "colab": {
          "base_uri": "https://localhost:8080/"
        },
        "id": "EzA4YcygJq7p",
        "outputId": "1d28b7c2-2a0e-4b67-9f29-ccd03d86ed08"
      },
      "source": [
        "best_parameters_svr = hyperparameter_tuning_random(x_train_set2,y_train2,model_svr,parameters_svr,3)"
      ],
      "execution_count": null,
      "outputs": [
        {
          "output_type": "stream",
          "text": [
            "Fitting 3 folds for each of 8 candidates, totalling 24 fits\n"
          ],
          "name": "stdout"
        },
        {
          "output_type": "stream",
          "text": [
            "[Parallel(n_jobs=-1)]: Using backend LokyBackend with 2 concurrent workers.\n",
            "[Parallel(n_jobs=-1)]: Done  24 out of  24 | elapsed:  2.0min finished\n"
          ],
          "name": "stderr"
        },
        {
          "output_type": "stream",
          "text": [
            "\n",
            "######################################################################\n",
            "\n",
            "Time taken for hyperparameter tuning is 139.5860710144043 sec\n",
            "\n",
            "The best parameters_: {'alpha': 0.0001}\n"
          ],
          "name": "stdout"
        }
      ]
    },
    {
      "cell_type": "markdown",
      "metadata": {
        "id": "kM3f0D9fJq7q"
      },
      "source": [
        "**Model with tuned parameters:**"
      ]
    },
    {
      "cell_type": "code",
      "metadata": {
        "id": "AMwjDZ3dYNKX"
      },
      "source": [
        "\n",
        "model_svr_best_param = SGDRegressor(loss = \"epsilon_insensitive\",alpha = 0.0001, fit_intercept=False)\n",
        "model_svr_best_param.fit(x_train_set2,y_train2[:,0])\n",
        "y_train_pred_svr = model_svr_best_param.predict(x_train_set2)\n",
        "y_test_pred_svr = model_svr_best_param.predict(x_test_set2)"
      ],
      "execution_count": null,
      "outputs": []
    },
    {
      "cell_type": "markdown",
      "metadata": {
        "id": "WhRjG2K2Jq7t"
      },
      "source": [
        "**RMSLE Calculation:**"
      ]
    },
    {
      "cell_type": "code",
      "metadata": {
        "colab": {
          "background_save": true
        },
        "id": "45ytmc4qaSqW"
      },
      "source": [
        "rmsle_svr_reg_model_X_train = rmsle_compute(improved_train['price'],scale_back(y_train_pred_svr))\n",
        "print(\"RMSLE on train data: {}\\n\".format(rmsle_svr_reg_model_X_train))\n",
        "rmsle_svr_reg_model_X_test = rmsle_compute(improved_test['price'],scale_back(y_test_pred_svr))\n",
        "print(\"RMSLE on test data: {}\\n\".format(rmsle_svr_reg_model_X_test))"
      ],
      "execution_count": null,
      "outputs": []
    },
    {
      "cell_type": "markdown",
      "metadata": {
        "id": "Efxcc8VIkjk6"
      },
      "source": [
        "### **5.3 RIDGE Regression ver1:**"
      ]
    },
    {
      "cell_type": "markdown",
      "metadata": {
        "id": "aQ_x2srakzM_"
      },
      "source": [
        "**Hyperparameter tuning:**"
      ]
    },
    {
      "cell_type": "code",
      "metadata": {
        "colab": {
          "background_save": true
        },
        "id": "9R0xMIHqkvP6"
      },
      "source": [
        "parameters_ridge = {'alpha':[0.0001,0.001,0.01,0.1,1.0,2.0,4.0,5.0,6.0]}\n",
        "model_ridge = Ridge(\n",
        "    solver='auto', fit_intercept=True,\n",
        "    max_iter=100, normalize=False, tol=0.05, random_state = 1,\n",
        ")"
      ],
      "execution_count": null,
      "outputs": []
    },
    {
      "cell_type": "code",
      "metadata": {
        "colab": {
          "background_save": true
        },
        "id": "7-QwmWS_k2Sm"
      },
      "source": [
        "rs_ridge = hyperparameter_tuning_random(x_train_set,y_train,model_ridge,parameters_ridge,3)"
      ],
      "execution_count": null,
      "outputs": []
    },
    {
      "cell_type": "markdown",
      "metadata": {
        "id": "c0G0pSRLk6ww"
      },
      "source": [
        "**Model with tuned parameters:**"
      ]
    },
    {
      "cell_type": "code",
      "metadata": {
        "colab": {
          "background_save": true
        },
        "id": "a7dfvwr1k4cw"
      },
      "source": [
        "ridge_model = Ridge(\n",
        "    solver='auto', fit_intercept=True,\n",
        "    max_iter=100, normalize=False, tol=0.05, alpha=6.0,random_state = 1,\n",
        ")\n",
        "ridge_model.fit(x_train_set, y_train)"
      ],
      "execution_count": null,
      "outputs": []
    },
    {
      "cell_type": "code",
      "metadata": {
        "colab": {
          "background_save": true
        },
        "id": "gokAtNfUk9Uv"
      },
      "source": [
        "preds_ridge_tr = ridge_model.predict(x_train_set)\n",
        "preds_ridge = ridge_model.predict(x_test_set)"
      ],
      "execution_count": null,
      "outputs": []
    },
    {
      "cell_type": "markdown",
      "metadata": {
        "id": "GsCBTBWklOcW"
      },
      "source": [
        "**RMSLE Calculation:**"
      ]
    },
    {
      "cell_type": "code",
      "metadata": {
        "colab": {
          "background_save": true
        },
        "id": "OCBLQMkYlOJG"
      },
      "source": [
        "\n",
        "rmsle_ridge_X_train = rmsle_compute(X_train['price'],scale_back(preds_ridge_tr))\n",
        "print(\"RMSLE on train data: {}\\n\".format(rmsle_ridge_X_train))\n",
        "rmsle_ridge_X_test = rmsle_compute(X_test['price'],scale_back(preds_ridge))\n",
        "print(\"RMSLE on test data: {}\\n\".format(rmsle_ridge_X_test))"
      ],
      "execution_count": null,
      "outputs": []
    },
    {
      "cell_type": "markdown",
      "metadata": {
        "id": "Pm6C_J4vlSuW"
      },
      "source": [
        "**Ridge regression with RidgeCV**"
      ]
    },
    {
      "cell_type": "code",
      "metadata": {
        "colab": {
          "background_save": true
        },
        "id": "u9RypIP2k_b5"
      },
      "source": [
        "\n",
        "from sklearn.linear_model import RidgeCV\n",
        "print(\"Fitting Ridge model on training examples...\")\n",
        "ridge_modelCV = RidgeCV(\n",
        "    fit_intercept=True, alphas=[6.0],\n",
        "    normalize=False, cv = 2, scoring='neg_mean_squared_error',\n",
        ")\n",
        "ridge_modelCV.fit(x_train_set, y_train)"
      ],
      "execution_count": null,
      "outputs": []
    },
    {
      "cell_type": "code",
      "metadata": {
        "colab": {
          "background_save": true
        },
        "id": "oTT86S3WlcD-"
      },
      "source": [
        "preds_ridgeCV_tr = ridge_modelCV.predict(x_train_set)\n",
        "preds_ridgeCV = ridge_modelCV.predict(x_test_set)"
      ],
      "execution_count": null,
      "outputs": []
    },
    {
      "cell_type": "markdown",
      "metadata": {
        "id": "My0acoD4letv"
      },
      "source": [
        "**RMSLE Calculation:**"
      ]
    },
    {
      "cell_type": "code",
      "metadata": {
        "colab": {
          "background_save": true
        },
        "id": "SY_tp5fJlhbc"
      },
      "source": [
        "rmsle_ridge_X_train = rmsle_compute(X_train['price'],scale_back(preds_ridgeCV_tr))\n",
        "print(\"RMSLE on train data: {}\\n\".format(rmsle_ridge_X_train))\n",
        "rmsle_ridge_X_test = rmsle_compute(X_test['price'],scale_back(preds_ridgeCV))\n",
        "print(\"RMSLE on test data: {}\\n\".format(rmsle_ridge_X_test))"
      ],
      "execution_count": null,
      "outputs": []
    },
    {
      "cell_type": "markdown",
      "metadata": {
        "id": "eXpE58EWVY2M"
      },
      "source": [
        "### **5.4 RIDGE Regression ver2:**"
      ]
    },
    {
      "cell_type": "markdown",
      "metadata": {
        "id": "Qbv9GKVwVY2w"
      },
      "source": [
        "**Hyperparameter tuning:**"
      ]
    },
    {
      "cell_type": "code",
      "metadata": {
        "id": "b33mSj7EVY2x"
      },
      "source": [
        "parameters_ridge = {'alpha':[0.0001,0.001,0.01,0.1,1.0,2.0,4.0,5.0,6.0]}\n",
        "model_ridge = Ridge(\n",
        "    solver='auto', fit_intercept=True,\n",
        "    max_iter=100, normalize=False, tol=0.05, random_state = 1,\n",
        ")"
      ],
      "execution_count": null,
      "outputs": []
    },
    {
      "cell_type": "code",
      "metadata": {
        "colab": {
          "base_uri": "https://localhost:8080/"
        },
        "id": "uqIIutIPVY2y",
        "outputId": "97492475-4968-417b-9e5b-86d86f4b3494"
      },
      "source": [
        "rs_ridge = hyperparameter_tuning_random(x_train_set2,y_train2,model_ridge,parameters_ridge,3)"
      ],
      "execution_count": null,
      "outputs": [
        {
          "output_type": "stream",
          "text": [
            "Fitting 3 folds for each of 9 candidates, totalling 27 fits\n"
          ],
          "name": "stdout"
        },
        {
          "output_type": "stream",
          "text": [
            "[Parallel(n_jobs=-1)]: Using backend LokyBackend with 2 concurrent workers.\n",
            "[Parallel(n_jobs=-1)]: Done  27 out of  27 | elapsed:  3.8min finished\n"
          ],
          "name": "stderr"
        },
        {
          "output_type": "stream",
          "text": [
            "\n",
            "######################################################################\n",
            "\n",
            "Time taken for hyperparameter tuning is 246.32548880577087 sec\n",
            "\n",
            "The best parameters_: {'alpha': 0.1}\n"
          ],
          "name": "stdout"
        }
      ]
    },
    {
      "cell_type": "markdown",
      "metadata": {
        "id": "2YZjO8sBVY20"
      },
      "source": [
        "**Model with tuned parameters:**"
      ]
    },
    {
      "cell_type": "code",
      "metadata": {
        "colab": {
          "base_uri": "https://localhost:8080/"
        },
        "id": "1godrjpRVY20",
        "outputId": "6986b226-888d-4051-92c5-c5c884095343"
      },
      "source": [
        "ridge_model = Ridge(\n",
        "    solver='auto', fit_intercept=True,\n",
        "    max_iter=100, normalize=False, tol=0.05, alpha=6.0,random_state = 1,\n",
        ")\n",
        "ridge_model.fit(x_train_set2, y_train2)"
      ],
      "execution_count": null,
      "outputs": [
        {
          "output_type": "execute_result",
          "data": {
            "text/plain": [
              "Ridge(alpha=6.0, copy_X=True, fit_intercept=True, max_iter=100, normalize=False,\n",
              "      random_state=1, solver='auto', tol=0.05)"
            ]
          },
          "metadata": {
            "tags": []
          },
          "execution_count": 25
        }
      ]
    },
    {
      "cell_type": "code",
      "metadata": {
        "colab": {
          "background_save": true
        },
        "id": "YQRC_Xx4VY21"
      },
      "source": [
        "preds_ridge_tr = ridge_model.predict(x_train_set2)\n",
        "preds_ridge = ridge_model.predict(x_test_set2)"
      ],
      "execution_count": null,
      "outputs": []
    },
    {
      "cell_type": "code",
      "metadata": {
        "id": "h_55jfyFtvvM"
      },
      "source": [
        "pickle_dump(ridge_model,filename = \"ridge_model\")"
      ],
      "execution_count": null,
      "outputs": []
    },
    {
      "cell_type": "markdown",
      "metadata": {
        "id": "CnwXCNtaVY22"
      },
      "source": [
        "**RMSLE Calculation:**"
      ]
    },
    {
      "cell_type": "code",
      "metadata": {
        "colab": {
          "background_save": true
        },
        "id": "0VMA2eTwVY22"
      },
      "source": [
        "\n",
        "rmsle_ridge_X_train = rmsle_compute(improved_train['price'],scale_back(preds_ridge_tr))\n",
        "print(\"RMSLE on train data: {}\\n\".format(rmsle_ridge_X_train))\n",
        "rmsle_ridge_X_test = rmsle_compute(improved_test['price'],scale_back(preds_ridge))\n",
        "print(\"RMSLE on test data: {}\\n\".format(rmsle_ridge_X_test))"
      ],
      "execution_count": null,
      "outputs": []
    },
    {
      "cell_type": "markdown",
      "metadata": {
        "id": "UWlU47_5VY23"
      },
      "source": [
        "**Ridge regression with RidgeCV**"
      ]
    },
    {
      "cell_type": "code",
      "metadata": {
        "colab": {
          "base_uri": "https://localhost:8080/"
        },
        "id": "Yfgb1jOlVY24",
        "outputId": "a92de7b7-bec3-40bb-83f9-e99310373c91"
      },
      "source": [
        "\n",
        "from sklearn.linear_model import RidgeCV\n",
        "print(\"Fitting Ridge model on training examples...\")\n",
        "ridge_modelCV = RidgeCV(\n",
        "    fit_intercept=True, alphas=[0.1],\n",
        "    normalize=False, cv = 2, scoring='neg_mean_squared_error',n\n",
        ")\n",
        "ridge_modelCV.fit(x_train_set2, y_train2)"
      ],
      "execution_count": null,
      "outputs": [
        {
          "output_type": "stream",
          "text": [
            "Fitting Ridge model on training examples...\n"
          ],
          "name": "stdout"
        },
        {
          "output_type": "execute_result",
          "data": {
            "text/plain": [
              "RidgeCV(alphas=array([0.1]), cv=2, fit_intercept=True, gcv_mode=None,\n",
              "        normalize=False, scoring='neg_mean_squared_error',\n",
              "        store_cv_values=False)"
            ]
          },
          "metadata": {
            "tags": []
          },
          "execution_count": 17
        }
      ]
    },
    {
      "cell_type": "code",
      "metadata": {
        "id": "WABGxhmrVY24"
      },
      "source": [
        "preds_ridgeCV_tr = ridge_modelCV.predict(x_train_set2)\n",
        "preds_ridgeCV = ridge_modelCV.predict(x_test_set2)"
      ],
      "execution_count": null,
      "outputs": []
    },
    {
      "cell_type": "markdown",
      "metadata": {
        "id": "yli35Y5wVY25"
      },
      "source": [
        "**RMSLE Calculation:**"
      ]
    },
    {
      "cell_type": "code",
      "metadata": {
        "colab": {
          "base_uri": "https://localhost:8080/"
        },
        "id": "FmmpGCRhVY26",
        "outputId": "8f14fe3c-44c8-4bb6-9728-caa83fb0860d"
      },
      "source": [
        "rmsle_ridge_X_train = rmsle_compute(improved_train['price'],scale_back(preds_ridgeCV_tr))\n",
        "print(\"RMSLE on train data: {}\\n\".format(rmsle_ridge_X_train))\n",
        "rmsle_ridge_X_test = rmsle_compute(improved_test['price'],scale_back(preds_ridgeCV))\n",
        "print(\"RMSLE on test data: {}\\n\".format(rmsle_ridge_X_test))"
      ],
      "execution_count": null,
      "outputs": [
        {
          "output_type": "stream",
          "text": [
            "RMSLE on train data: 0.37953629848325426\n",
            "\n",
            "RMSLE on test data: 0.4460674689970452\n",
            "\n"
          ],
          "name": "stdout"
        }
      ]
    },
    {
      "cell_type": "markdown",
      "metadata": {
        "id": "ALDFo3bfy5of"
      },
      "source": [
        "**Sau khi thử nghiệm với 2 mô hình trên thì cho thấy kết quả được huấn luyện bởi tập dữ liệu đã qua xử lý tốt hơn hẳn nên từ đây ta sẽ xử dụng tập dữ liệu đã qua huấn luyện**"
      ]
    },
    {
      "cell_type": "markdown",
      "metadata": {
        "id": "PGoAZoQ4Z6PT"
      },
      "source": [
        "### **5.5 Lasso**"
      ]
    },
    {
      "cell_type": "code",
      "metadata": {
        "id": "T7tK5pE6aIYz"
      },
      "source": [
        "from sklearn.linear_model import LassoCV\n",
        "\n",
        "lasso_cv = LassoCV(alphas=(0.01, 0.1, 1.0, 10.0), cv=3)\n",
        "lasso_cv.fit(x_train_set2, y_train2)\n",
        "preds_ridge = ridge_model.predict(x_test_set2)\n",
        "rmsl_error = rmsle_compute(improved_test['price'],scale_back(preds_ridge))\n",
        "print(\"Optimal alpha:\",lasso_cv.alpha_)\n",
        "print(\"RMSLE:\",rmsl_error)"
      ],
      "execution_count": null,
      "outputs": []
    },
    {
      "cell_type": "code",
      "metadata": {
        "id": "AOBQSlnjlRcZ"
      },
      "source": [
        "pickle_dump(lasso_cv,filename = \"lasso_cv\")"
      ],
      "execution_count": null,
      "outputs": []
    },
    {
      "cell_type": "markdown",
      "metadata": {
        "id": "4P3CpXPLejvQ"
      },
      "source": [
        "### **5.6 SGDR**"
      ]
    },
    {
      "cell_type": "code",
      "metadata": {
        "colab": {
          "base_uri": "https://localhost:8080/"
        },
        "id": "QFjebUZoel_6",
        "outputId": "e7047bbd-8c68-4768-9302-87898bd8ba51"
      },
      "source": [
        "from sklearn.model_selection import GridSearchCV\n",
        "from sklearn.linear_model import SGDRegressor\n",
        "params = {\"loss\": ['squared_loss', 'epsilon_insensitive'],\n",
        "          \"alpha\": [0.00001, 0.0001,0.001,0.01,0.1,0,1,10],\n",
        "          \"epsilon\": [0.001, 0.01, 0.1, 0, 1, 10]\n",
        "          }\n",
        "\n",
        "grid_cv = GridSearchCV(SGDRegressor(learning_rate='adaptive'), cv=3, param_grid=params, scoring='neg_mean_squared_error', return_train_score=True, n_jobs=-1)\n",
        "grid_cv.fit(x_train_set2, y_train2)"
      ],
      "execution_count": null,
      "outputs": [
        {
          "output_type": "execute_result",
          "data": {
            "text/plain": [
              "GridSearchCV(cv=3, error_score=nan,\n",
              "             estimator=SGDRegressor(alpha=0.0001, average=False,\n",
              "                                    early_stopping=False, epsilon=0.1,\n",
              "                                    eta0=0.01, fit_intercept=True,\n",
              "                                    l1_ratio=0.15, learning_rate='adaptive',\n",
              "                                    loss='squared_loss', max_iter=1000,\n",
              "                                    n_iter_no_change=5, penalty='l2',\n",
              "                                    power_t=0.25, random_state=None,\n",
              "                                    shuffle=True, tol=0.001,\n",
              "                                    validation_fraction=0.1, verbose=0,\n",
              "                                    warm_start=False),\n",
              "             iid='deprecated', n_jobs=-1,\n",
              "             param_grid={'alpha': [1e-05, 0.0001, 0.001, 0.01, 0.1, 0, 1, 10],\n",
              "                         'epsilon': [0.001, 0.01, 0.1, 0, 1, 10],\n",
              "                         'loss': ['squared_loss', 'epsilon_insensitive']},\n",
              "             pre_dispatch='2*n_jobs', refit=True, return_train_score=True,\n",
              "             scoring='neg_mean_squared_error', verbose=0)"
            ]
          },
          "metadata": {
            "tags": []
          },
          "execution_count": 20
        }
      ]
    },
    {
      "cell_type": "code",
      "metadata": {
        "colab": {
          "base_uri": "https://localhost:8080/"
        },
        "id": "DI8qp0_3esNf",
        "outputId": "d149887c-0856-45c8-9888-662651d5cde6"
      },
      "source": [
        "preds_ridge = grid_cv.predict(x_test_set2)\n",
        "rmsl_error = rmsle_compute(improved_test['price'],scale_back(preds_ridge))\n",
        "print(rmsl_error)"
      ],
      "execution_count": null,
      "outputs": [
        {
          "output_type": "stream",
          "text": [
            "0.4325177062631228\n"
          ],
          "name": "stdout"
        }
      ]
    },
    {
      "cell_type": "code",
      "metadata": {
        "id": "vqy6ErzEkIrH"
      },
      "source": [
        "pickle_dump(grid_cv,filename = \"grid_cv\")"
      ],
      "execution_count": null,
      "outputs": []
    },
    {
      "cell_type": "markdown",
      "metadata": {
        "id": "yu1rZUHCf8kc"
      },
      "source": [
        "### **5.7 LGBM**"
      ]
    },
    {
      "cell_type": "code",
      "metadata": {
        "colab": {
          "base_uri": "https://localhost:8080/"
        },
        "id": "0xSsO5GdgU3N",
        "outputId": "3faa66b8-f40c-4f97-8e25-ae704667aeaf"
      },
      "source": [
        "import lightgbm as lgb\n",
        "from scipy.stats import uniform, randint\n",
        "from sklearn.model_selection import RandomizedSearchCV\n",
        "from sklearn.model_selection import GridSearchCV\n",
        "\n",
        "params = {\n",
        "    \"learning_rate\": uniform(0.05,0.7),\n",
        "    \"max_depth\": randint(2,10),\n",
        "    \"subsample\": uniform(0.2,0.8),\n",
        "    \"colsample_bytree\": uniform(0.2,0.8),\n",
        "    \"n_estimators\": randint(80,300),\n",
        "    \"reg_alpha\": [0.0001,0.001,0.01,0.1,1,10],\n",
        "    \"reg_lambda\": [0.0001,0.001,0.01,0.1,1,10]\n",
        "}\n",
        "\n",
        "lgb_model = lgb.LGBMRegressor()\n",
        "rand_cv = RandomizedSearchCV(lgb_model, param_distributions=params, cv=2, n_iter=100,\\ \n",
        "                             scoring='neg_mean_squared_error', return_train_score=True, verbose=3, n_jobs=-1)\n",
        "rand_cv.fit(x_train_set2, y_train2)"
      ],
      "execution_count": null,
      "outputs": [
        {
          "output_type": "stream",
          "text": [
            "Fitting 2 folds for each of 100 candidates, totalling 200 fits\n"
          ],
          "name": "stdout"
        },
        {
          "output_type": "stream",
          "text": [
            "[Parallel(n_jobs=-1)]: Using backend LokyBackend with 2 concurrent workers.\n",
            "[Parallel(n_jobs=-1)]: Done  28 tasks      | elapsed: 79.3min\n",
            "[Parallel(n_jobs=-1)]: Done 124 tasks      | elapsed: 338.5min\n",
            "[Parallel(n_jobs=-1)]: Done 200 out of 200 | elapsed: 520.9min finished\n"
          ],
          "name": "stderr"
        },
        {
          "output_type": "execute_result",
          "data": {
            "text/plain": [
              "RandomizedSearchCV(cv=2, error_score=nan,\n",
              "                   estimator=LGBMRegressor(boosting_type='gbdt',\n",
              "                                           class_weight=None,\n",
              "                                           colsample_bytree=1.0,\n",
              "                                           importance_type='split',\n",
              "                                           learning_rate=0.1, max_depth=-1,\n",
              "                                           min_child_samples=20,\n",
              "                                           min_child_weight=0.001,\n",
              "                                           min_split_gain=0.0, n_estimators=100,\n",
              "                                           n_jobs=-1, num_leaves=31,\n",
              "                                           objective=None, random_state=None,\n",
              "                                           reg_alpha=0.0, reg_lambda=0.0,\n",
              "                                           silen...\n",
              "                                        'n_estimators': <scipy.stats._distn_infrastructure.rv_frozen object at 0x7f30166a8950>,\n",
              "                                        'reg_alpha': [0.0001, 0.001, 0.01, 0.1,\n",
              "                                                      1, 10],\n",
              "                                        'reg_lambda': [0.0001, 0.001, 0.01, 0.1,\n",
              "                                                       1, 10],\n",
              "                                        'subsample': <scipy.stats._distn_infrastructure.rv_frozen object at 0x7f30166a8610>},\n",
              "                   pre_dispatch='2*n_jobs', random_state=None, refit=True,\n",
              "                   return_train_score=True, scoring='neg_mean_squared_error',\n",
              "                   verbose=3)"
            ]
          },
          "metadata": {
            "tags": []
          },
          "execution_count": 31
        }
      ]
    },
    {
      "cell_type": "code",
      "metadata": {
        "colab": {
          "base_uri": "https://localhost:8080/"
        },
        "id": "Bc0rGELvgYU_",
        "outputId": "5822b206-63cd-4aee-8b61-d048a8725174"
      },
      "source": [
        "preds_ridge = rand_cv.predict(x_test_set2)\n",
        "rmsl_error = rmsle_compute(improved_test['price'],scale_back(preds_ridge))\n",
        "print(rmsl_error)"
      ],
      "execution_count": null,
      "outputs": [
        {
          "output_type": "stream",
          "text": [
            "0.4618958763129155\n"
          ],
          "name": "stdout"
        }
      ]
    },
    {
      "cell_type": "code",
      "metadata": {
        "colab": {
          "base_uri": "https://localhost:8080/"
        },
        "id": "LfJNgorOgcnb",
        "outputId": "2526eac6-3bcd-485b-c0c4-ccc7fbdbfe23"
      },
      "source": [
        "rand_cv.best_params_"
      ],
      "execution_count": null,
      "outputs": [
        {
          "output_type": "execute_result",
          "data": {
            "text/plain": [
              "{'colsample_bytree': 0.9531131832288895,\n",
              " 'learning_rate': 0.6272545886347214,\n",
              " 'max_depth': 8,\n",
              " 'n_estimators': 259,\n",
              " 'reg_alpha': 0.01,\n",
              " 'reg_lambda': 1,\n",
              " 'subsample': 0.5123801446840281}"
            ]
          },
          "metadata": {
            "tags": []
          },
          "execution_count": 33
        }
      ]
    },
    {
      "cell_type": "code",
      "metadata": {
        "id": "opEn1hKGgdPo"
      },
      "source": [
        "pickle_dump(rand_cv,filename = \"rand_cv\")"
      ],
      "execution_count": null,
      "outputs": []
    }
  ]
}