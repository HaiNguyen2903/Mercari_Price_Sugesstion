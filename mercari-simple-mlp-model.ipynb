{
 "cells": [
  {
   "cell_type": "code",
   "execution_count": 1,
   "id": "saving-presence",
   "metadata": {
    "_cell_guid": "b1076dfc-b9ad-4769-8c92-a6c4dae69d19",
    "_uuid": "8f2839f25d086af736a60e9eeb907d3b93b6e0e5",
    "execution": {
     "iopub.execute_input": "2021-05-22T15:02:10.886542Z",
     "iopub.status.busy": "2021-05-22T15:02:10.885892Z",
     "iopub.status.idle": "2021-05-22T15:02:25.588882Z",
     "shell.execute_reply": "2021-05-22T15:02:25.588220Z",
     "shell.execute_reply.started": "2021-05-22T12:03:20.935736Z"
    },
    "papermill": {
     "duration": 14.742593,
     "end_time": "2021-05-22T15:02:25.589035",
     "exception": false,
     "start_time": "2021-05-22T15:02:10.846442",
     "status": "completed"
    },
    "tags": []
   },
   "outputs": [
    {
     "data": {
      "text/html": [
       "<style type='text/css'>\n",
       ".datatable table.frame { margin-bottom: 0; }\n",
       ".datatable table.frame thead { border-bottom: none; }\n",
       ".datatable table.frame tr.coltypes td {  color: #FFFFFF;  line-height: 6px;  padding: 0 0.5em;}\n",
       ".datatable .bool    { background: #DDDD99; }\n",
       ".datatable .object  { background: #565656; }\n",
       ".datatable .int     { background: #5D9E5D; }\n",
       ".datatable .float   { background: #4040CC; }\n",
       ".datatable .str     { background: #CC4040; }\n",
       ".datatable .row_index {  background: var(--jp-border-color3);  border-right: 1px solid var(--jp-border-color0);  color: var(--jp-ui-font-color3);  font-size: 9px;}\n",
       ".datatable .frame tr.coltypes .row_index {  background: var(--jp-border-color0);}\n",
       ".datatable th:nth-child(2) { padding-left: 12px; }\n",
       ".datatable .hellipsis {  color: var(--jp-cell-editor-border-color);}\n",
       ".datatable .vellipsis {  background: var(--jp-layout-color0);  color: var(--jp-cell-editor-border-color);}\n",
       ".datatable .na {  color: var(--jp-cell-editor-border-color);  font-size: 80%;}\n",
       ".datatable .footer { font-size: 9px; }\n",
       ".datatable .frame_dimensions {  background: var(--jp-border-color3);  border-top: 1px solid var(--jp-border-color0);  color: var(--jp-ui-font-color3);  display: inline-block;  opacity: 0.6;  padding: 1px 10px 1px 5px;}\n",
       "</style>\n"
      ],
      "text/plain": [
       "<IPython.core.display.HTML object>"
      ]
     },
     "metadata": {},
     "output_type": "display_data"
    }
   ],
   "source": [
    "from sklearn.preprocessing import Normalizer\n",
    "import tensorflow as tf\n",
    "from numpy import array\n",
    "from numpy import asarray\n",
    "from numpy import zeros\n",
    "from tensorflow.keras.preprocessing.text import Tokenizer\n",
    "from tensorflow.keras.preprocessing.sequence import pad_sequences\n",
    "from sklearn.preprocessing import LabelEncoder\n",
    "import tensorflow as tf\n",
    "from tensorflow import keras\n",
    "from tensorflow.keras import layers\n",
    "from tensorflow.keras.layers import Input, Embedding, Conv1D, MaxPool1D, Flatten, Dropout, Dense, BatchNormalization, Concatenate\n",
    "from tensorflow.keras.layers import ReLU\n",
    "from tensorflow.keras.layers import LeakyReLU\n",
    "from tensorflow.keras.models import Model\n",
    "from tensorflow.keras import initializers, regularizers\n",
    "from tensorflow.keras.optimizers import Adam\n",
    "from tensorflow.keras.layers import LSTM, GRU\n",
    "\n",
    "from tensorflow.keras.callbacks import ReduceLROnPlateau\n",
    "from tensorflow.keras.callbacks import EarlyStopping\n",
    "\n",
    "from sklearn.model_selection import train_test_split\n",
    "import pandas as pd\n",
    "import pickle\n",
    "import os\n",
    "\n",
    "import tensorflow as tf\n",
    "\n",
    "import warnings\n",
    "warnings.filterwarnings(\"ignore\")\n",
    "import gc\n",
    "\n",
    "import pandas as pd\n",
    "import numpy as np\n",
    "import string\n",
    "import matplotlib.pyplot as plt\n",
    "from wordcloud import WordCloud\n",
    "import seaborn as sns\n",
    "import math\n",
    "import lightgbm as lgb\n",
    "from tqdm.notebook import tqdm\n",
    "tqdm.pandas()\n",
    "\n",
    "#!pip install Wordbatch\n",
    "#from wordbatch.models import FTRL, FM_FTRL  # https://github.com/anttttti/Wordbatch\n",
    "import xgboost\n",
    "from sklearn.feature_extraction.text import CountVectorizer\n",
    "from sklearn.feature_extraction.text import TfidfVectorizer\n",
    "from sklearn.model_selection import train_test_split\n",
    "\n",
    "import scipy\n",
    "import scipy.sparse\n",
    "from scipy.sparse import hstack\n",
    "\n",
    "from sklearn.metrics import mean_squared_log_error\n",
    "import pickle\n",
    "import regex as re\n",
    "import os\n",
    "\n",
    "from sklearn.model_selection import KFold\n",
    "import numpy as np\n",
    "\n",
    "!pip install -q pyyaml h5py  # Required to save models in HDF5 format"
   ]
  },
  {
   "cell_type": "code",
   "execution_count": 2,
   "id": "limiting-cigarette",
   "metadata": {
    "execution": {
     "iopub.execute_input": "2021-05-22T15:02:25.689875Z",
     "iopub.status.busy": "2021-05-22T15:02:25.689273Z",
     "iopub.status.idle": "2021-05-22T15:02:25.695227Z",
     "shell.execute_reply": "2021-05-22T15:02:25.694466Z",
     "shell.execute_reply.started": "2021-05-22T12:03:36.741461Z"
    },
    "papermill": {
     "duration": 0.086226,
     "end_time": "2021-05-22T15:02:25.695363",
     "exception": false,
     "start_time": "2021-05-22T15:02:25.609137",
     "status": "completed"
    },
    "tags": []
   },
   "outputs": [
    {
     "name": "stdout",
     "output_type": "stream",
     "text": [
      "Num GPUs Available:  1\n"
     ]
    }
   ],
   "source": [
    "print(\"Num GPUs Available: \", len(tf.config.list_physical_devices('GPU')))\n",
    "# tf.debugging.set_log_device_placement(True)"
   ]
  },
  {
   "cell_type": "markdown",
   "id": "therapeutic-ownership",
   "metadata": {
    "papermill": {
     "duration": 0.018631,
     "end_time": "2021-05-22T15:02:25.732968",
     "exception": false,
     "start_time": "2021-05-22T15:02:25.714337",
     "status": "completed"
    },
    "tags": []
   },
   "source": [
    "### Loading saved dataset"
   ]
  },
  {
   "cell_type": "code",
   "execution_count": 3,
   "id": "simplified-manchester",
   "metadata": {
    "execution": {
     "iopub.execute_input": "2021-05-22T15:02:25.774595Z",
     "iopub.status.busy": "2021-05-22T15:02:25.774074Z",
     "iopub.status.idle": "2021-05-22T15:02:25.777642Z",
     "shell.execute_reply": "2021-05-22T15:02:25.778123Z",
     "shell.execute_reply.started": "2021-05-22T12:03:36.817082Z"
    },
    "papermill": {
     "duration": 0.026446,
     "end_time": "2021-05-22T15:02:25.778242",
     "exception": false,
     "start_time": "2021-05-22T15:02:25.751796",
     "status": "completed"
    },
    "tags": []
   },
   "outputs": [],
   "source": [
    "train_input = '../input/mercari-mlp-combined-data/results/mercari_mlp_train_input.npz'\n",
    "val_input = '../input/mercari-mlp-data/mlp_data/mercari_mlp_val_input.npz'\n",
    "test_input = '../input/mercari-mlp-combined-data/results/mercari_mlp_test_input.npz'\n",
    "\n",
    "train_labels = '../input/mercari-mlp-combined-data/results/mercari_mlp_train_labels.npz'\n",
    "val_labels = '../input/mercari-mlp-data/mlp_data/mercari_mlp_val_labels.npz'\n",
    "test_labels = '../input/mercari-mlp-combined-data/results/mercari_mlp_test_labels.npz'"
   ]
  },
  {
   "cell_type": "code",
   "execution_count": 4,
   "id": "described-finance",
   "metadata": {
    "execution": {
     "iopub.execute_input": "2021-05-22T15:02:25.820030Z",
     "iopub.status.busy": "2021-05-22T15:02:25.819529Z",
     "iopub.status.idle": "2021-05-22T15:02:45.736000Z",
     "shell.execute_reply": "2021-05-22T15:02:45.735135Z",
     "shell.execute_reply.started": "2021-05-22T12:03:36.833185Z"
    },
    "papermill": {
     "duration": 19.93916,
     "end_time": "2021-05-22T15:02:45.736137",
     "exception": false,
     "start_time": "2021-05-22T15:02:25.796977",
     "status": "completed"
    },
    "tags": []
   },
   "outputs": [],
   "source": [
    "X_train = (scipy.sparse.load_npz(train_input))\n",
    "y_train = (scipy.sparse.load_npz(train_labels))\n",
    "X_val = scipy.sparse.load_npz(val_input)\n",
    "\n",
    "X_test = (scipy.sparse.load_npz(test_input))\n",
    "y_test = (scipy.sparse.load_npz(test_labels))\n",
    "y_val = scipy.sparse.load_npz(val_labels)\n"
   ]
  },
  {
   "cell_type": "code",
   "execution_count": 5,
   "id": "falling-flour",
   "metadata": {
    "execution": {
     "iopub.execute_input": "2021-05-22T15:02:45.782208Z",
     "iopub.status.busy": "2021-05-22T15:02:45.780937Z",
     "iopub.status.idle": "2021-05-22T15:02:45.784876Z",
     "shell.execute_reply": "2021-05-22T15:02:45.784451Z",
     "shell.execute_reply.started": "2021-05-22T12:03:54.908577Z"
    },
    "papermill": {
     "duration": 0.029602,
     "end_time": "2021-05-22T15:02:45.784987",
     "exception": false,
     "start_time": "2021-05-22T15:02:45.755385",
     "status": "completed"
    },
    "tags": []
   },
   "outputs": [
    {
     "name": "stdout",
     "output_type": "stream",
     "text": [
      "(1302134, 103395) (1302134, 1)\n",
      "(130214, 103395) (130214, 1)\n",
      "(144682, 103395) (144682, 1)\n",
      "<class 'scipy.sparse.csr.csr_matrix'> <class 'scipy.sparse.coo.coo_matrix'>\n",
      "<class 'scipy.sparse.csr.csr_matrix'> <class 'scipy.sparse.coo.coo_matrix'>\n"
     ]
    }
   ],
   "source": [
    "print(X_train.shape, y_train.shape)\n",
    "print(X_val.shape, y_val.shape)\n",
    "print(X_test.shape, y_test.shape)\n",
    "\n",
    "print(type(X_train), type(y_train))\n",
    "print(type(X_test), type(y_test))"
   ]
  },
  {
   "cell_type": "code",
   "execution_count": 6,
   "id": "composite-nelson",
   "metadata": {
    "execution": {
     "iopub.execute_input": "2021-05-22T15:02:45.827261Z",
     "iopub.status.busy": "2021-05-22T15:02:45.826489Z",
     "iopub.status.idle": "2021-05-22T15:02:45.843124Z",
     "shell.execute_reply": "2021-05-22T15:02:45.842723Z",
     "shell.execute_reply.started": "2021-05-22T12:03:54.918541Z"
    },
    "papermill": {
     "duration": 0.039168,
     "end_time": "2021-05-22T15:02:45.843232",
     "exception": false,
     "start_time": "2021-05-22T15:02:45.804064",
     "status": "completed"
    },
    "tags": []
   },
   "outputs": [],
   "source": [
    "y_train_arr = y_train.toarray()\n",
    "y_val_arr = y_val.toarray()\n",
    "y_test_arr = y_test.toarray()"
   ]
  },
  {
   "cell_type": "code",
   "execution_count": 7,
   "id": "chinese-blackjack",
   "metadata": {
    "execution": {
     "iopub.execute_input": "2021-05-22T15:02:45.885338Z",
     "iopub.status.busy": "2021-05-22T15:02:45.884853Z",
     "iopub.status.idle": "2021-05-22T15:02:45.888265Z",
     "shell.execute_reply": "2021-05-22T15:02:45.888649Z",
     "shell.execute_reply.started": "2021-05-22T12:03:54.929064Z"
    },
    "papermill": {
     "duration": 0.025915,
     "end_time": "2021-05-22T15:02:45.888785",
     "exception": false,
     "start_time": "2021-05-22T15:02:45.862870",
     "status": "completed"
    },
    "tags": []
   },
   "outputs": [],
   "source": [
    "# X_train = X_train.toarray()"
   ]
  },
  {
   "cell_type": "markdown",
   "id": "pending-ethiopia",
   "metadata": {
    "papermill": {
     "duration": 0.018912,
     "end_time": "2021-05-22T15:02:45.926952",
     "exception": false,
     "start_time": "2021-05-22T15:02:45.908040",
     "status": "completed"
    },
    "tags": []
   },
   "source": [
    "### MLP Model"
   ]
  },
  {
   "cell_type": "markdown",
   "id": "restricted-cardiff",
   "metadata": {
    "papermill": {
     "duration": 0.019212,
     "end_time": "2021-05-22T15:02:45.965378",
     "exception": false,
     "start_time": "2021-05-22T15:02:45.946166",
     "status": "completed"
    },
    "tags": []
   },
   "source": [
    "#### Model Creating"
   ]
  },
  {
   "cell_type": "code",
   "execution_count": 8,
   "id": "acknowledged-disaster",
   "metadata": {
    "execution": {
     "iopub.execute_input": "2021-05-22T15:02:46.011307Z",
     "iopub.status.busy": "2021-05-22T15:02:46.010073Z",
     "iopub.status.idle": "2021-05-22T15:02:46.012424Z",
     "shell.execute_reply": "2021-05-22T15:02:46.012832Z",
     "shell.execute_reply.started": "2021-05-22T12:03:54.937778Z"
    },
    "papermill": {
     "duration": 0.027814,
     "end_time": "2021-05-22T15:02:46.012958",
     "exception": false,
     "start_time": "2021-05-22T15:02:45.985144",
     "status": "completed"
    },
    "tags": []
   },
   "outputs": [],
   "source": [
    "def create_simple_mlp_model(input_shape):   #input_shape=X_train.shape[1]\n",
    "    model_in = Input(shape=(input_shape,), dtype='float32', sparse=True)\n",
    "    out = Dense(192, activation='relu', kernel_regularizer=regularizers.l2(0.001))(model_in)\n",
    "    out = Dropout(0.10)(out)\n",
    "    out = Dense(128, activation='relu',  kernel_regularizer=regularizers.l1(0.0001))(out)\n",
    "    #out = BatchNormalization()(out)\n",
    "    out = Dense(64, activation='relu')(out)\n",
    "    out = Dense(1)(out)\n",
    "    model = Model(model_in, out)\n",
    "    return model"
   ]
  },
  {
   "cell_type": "code",
   "execution_count": 9,
   "id": "veterinary-complexity",
   "metadata": {
    "execution": {
     "iopub.execute_input": "2021-05-22T15:02:46.055073Z",
     "iopub.status.busy": "2021-05-22T15:02:46.054581Z",
     "iopub.status.idle": "2021-05-22T15:02:48.260654Z",
     "shell.execute_reply": "2021-05-22T15:02:48.259778Z",
     "shell.execute_reply.started": "2021-05-22T12:03:54.950081Z"
    },
    "papermill": {
     "duration": 2.228883,
     "end_time": "2021-05-22T15:02:48.260913",
     "exception": false,
     "start_time": "2021-05-22T15:02:46.032030",
     "status": "completed"
    },
    "tags": []
   },
   "outputs": [
    {
     "name": "stdout",
     "output_type": "stream",
     "text": [
      "Model: \"model\"\n",
      "_________________________________________________________________\n",
      "Layer (type)                 Output Shape              Param #   \n",
      "=================================================================\n",
      "input_1 (InputLayer)         [(None, 103395)]          0         \n",
      "_________________________________________________________________\n",
      "dense (Dense)                (None, 192)               19852032  \n",
      "_________________________________________________________________\n",
      "dropout (Dropout)            (None, 192)               0         \n",
      "_________________________________________________________________\n",
      "dense_1 (Dense)              (None, 128)               24704     \n",
      "_________________________________________________________________\n",
      "dense_2 (Dense)              (None, 64)                8256      \n",
      "_________________________________________________________________\n",
      "dense_3 (Dense)              (None, 1)                 65        \n",
      "=================================================================\n",
      "Total params: 19,885,057\n",
      "Trainable params: 19,885,057\n",
      "Non-trainable params: 0\n",
      "_________________________________________________________________\n"
     ]
    }
   ],
   "source": [
    "# len_inputs = 109281\n",
    "simple_model = create_simple_mlp_model(X_train.shape[1])\n",
    "# simple_model = create_simple_mlp_model(len_inputs)\n",
    "simple_model.summary()"
   ]
  },
  {
   "cell_type": "markdown",
   "id": "floating-bedroom",
   "metadata": {
    "papermill": {
     "duration": 0.039507,
     "end_time": "2021-05-22T15:02:48.341434",
     "exception": false,
     "start_time": "2021-05-22T15:02:48.301927",
     "status": "completed"
    },
    "tags": []
   },
   "source": [
    "#### Loading pretrained model from checkpoint"
   ]
  },
  {
   "cell_type": "code",
   "execution_count": 10,
   "id": "administrative-backup",
   "metadata": {
    "execution": {
     "iopub.execute_input": "2021-05-22T15:02:48.418210Z",
     "iopub.status.busy": "2021-05-22T15:02:48.417616Z",
     "iopub.status.idle": "2021-05-22T15:02:48.434546Z",
     "shell.execute_reply": "2021-05-22T15:02:48.434057Z",
     "shell.execute_reply.started": "2021-05-22T12:03:57.106021Z"
    },
    "papermill": {
     "duration": 0.055984,
     "end_time": "2021-05-22T15:02:48.434668",
     "exception": false,
     "start_time": "2021-05-22T15:02:48.378684",
     "status": "completed"
    },
    "tags": []
   },
   "outputs": [
    {
     "data": {
      "text/plain": [
       "'../input/mercari-mlp-checkpoints/mlp_checkpoints/mlp_ckpt.ckpt'"
      ]
     },
     "execution_count": 10,
     "metadata": {},
     "output_type": "execute_result"
    }
   ],
   "source": [
    "old_checkpoint_dir = '../input/mercari-mlp-checkpoints/mlp_checkpoints'\n",
    "latest = tf.train.latest_checkpoint(old_checkpoint_dir)\n",
    "latest"
   ]
  },
  {
   "cell_type": "code",
   "execution_count": 11,
   "id": "parliamentary-mouth",
   "metadata": {
    "execution": {
     "iopub.execute_input": "2021-05-22T15:02:48.517859Z",
     "iopub.status.busy": "2021-05-22T15:02:48.516893Z",
     "iopub.status.idle": "2021-05-22T15:02:49.530218Z",
     "shell.execute_reply": "2021-05-22T15:02:49.529781Z",
     "shell.execute_reply.started": "2021-05-22T12:03:57.128785Z"
    },
    "papermill": {
     "duration": 1.074211,
     "end_time": "2021-05-22T15:02:49.530348",
     "exception": false,
     "start_time": "2021-05-22T15:02:48.456137",
     "status": "completed"
    },
    "tags": []
   },
   "outputs": [
    {
     "data": {
      "text/plain": [
       "<tensorflow.python.training.tracking.util.CheckpointLoadStatus at 0x7f6bdc15ba50>"
      ]
     },
     "execution_count": 11,
     "metadata": {},
     "output_type": "execute_result"
    }
   ],
   "source": [
    "simple_model.load_weights(latest)"
   ]
  },
  {
   "cell_type": "markdown",
   "id": "pleased-customer",
   "metadata": {
    "papermill": {
     "duration": 0.020048,
     "end_time": "2021-05-22T15:02:49.570937",
     "exception": false,
     "start_time": "2021-05-22T15:02:49.550889",
     "status": "completed"
    },
    "tags": []
   },
   "source": [
    "#### Define Evaluation Method"
   ]
  },
  {
   "cell_type": "code",
   "execution_count": 12,
   "id": "responsible-jonathan",
   "metadata": {
    "execution": {
     "iopub.execute_input": "2021-05-22T15:02:49.615287Z",
     "iopub.status.busy": "2021-05-22T15:02:49.614792Z",
     "iopub.status.idle": "2021-05-22T15:02:49.618586Z",
     "shell.execute_reply": "2021-05-22T15:02:49.618171Z"
    },
    "papermill": {
     "duration": 0.027798,
     "end_time": "2021-05-22T15:02:49.618692",
     "exception": false,
     "start_time": "2021-05-22T15:02:49.590894",
     "status": "completed"
    },
    "tags": []
   },
   "outputs": [],
   "source": [
    "def evaluate_dl_model(model, X_data, y_act):\n",
    "    y_pred = model.predict(X_data)\n",
    "\n",
    "    act_prices = np.exp(y_act)\n",
    "    pred_prices = np.exp(y_pred)\n",
    "\n",
    "    rms = np.sqrt(mean_squared_log_error(act_prices, pred_prices))\n",
    "    return rms"
   ]
  },
  {
   "cell_type": "code",
   "execution_count": 13,
   "id": "activated-christopher",
   "metadata": {
    "execution": {
     "iopub.execute_input": "2021-05-22T15:02:49.664995Z",
     "iopub.status.busy": "2021-05-22T15:02:49.664079Z",
     "iopub.status.idle": "2021-05-22T15:02:55.937660Z",
     "shell.execute_reply": "2021-05-22T15:02:55.938491Z"
    },
    "papermill": {
     "duration": 6.299918,
     "end_time": "2021-05-22T15:02:55.938687",
     "exception": false,
     "start_time": "2021-05-22T15:02:49.638769",
     "status": "completed"
    },
    "tags": []
   },
   "outputs": [
    {
     "name": "stdout",
     "output_type": "stream",
     "text": [
      "RMLE on splitted test data: 0.42608646085481044\n"
     ]
    }
   ],
   "source": [
    "# Testing checkpoint weights\n",
    "rms_error=evaluate_dl_model(simple_model, X_test, y_test_arr)\n",
    "print('RMLE on splitted test data:', rms_error)\n"
   ]
  },
  {
   "cell_type": "markdown",
   "id": "ordered-stereo",
   "metadata": {
    "papermill": {
     "duration": 0.021107,
     "end_time": "2021-05-22T15:02:55.980990",
     "exception": false,
     "start_time": "2021-05-22T15:02:55.959883",
     "status": "completed"
    },
    "tags": []
   },
   "source": [
    "### Training Model from Checkpoint or Scratch"
   ]
  },
  {
   "cell_type": "code",
   "execution_count": 14,
   "id": "promising-competition",
   "metadata": {
    "execution": {
     "iopub.execute_input": "2021-05-22T15:02:56.027515Z",
     "iopub.status.busy": "2021-05-22T15:02:56.026292Z",
     "iopub.status.idle": "2021-05-22T15:02:56.029161Z",
     "shell.execute_reply": "2021-05-22T15:02:56.028654Z",
     "shell.execute_reply.started": "2021-05-22T12:03:58.24934Z"
    },
    "papermill": {
     "duration": 0.027737,
     "end_time": "2021-05-22T15:02:56.029269",
     "exception": false,
     "start_time": "2021-05-22T15:02:56.001532",
     "status": "completed"
    },
    "tags": []
   },
   "outputs": [],
   "source": [
    "EPOCHS = 100\n",
    "SAVING_ROUNTINE = 1\n",
    "BATCH_SIZE = 256\n",
    "adam = Adam(learning_rate=0.0003)"
   ]
  },
  {
   "cell_type": "code",
   "execution_count": 15,
   "id": "elegant-serum",
   "metadata": {
    "execution": {
     "iopub.execute_input": "2021-05-22T15:02:56.076930Z",
     "iopub.status.busy": "2021-05-22T15:02:56.075711Z",
     "iopub.status.idle": "2021-05-22T15:02:56.078369Z",
     "shell.execute_reply": "2021-05-22T15:02:56.077969Z",
     "shell.execute_reply.started": "2021-05-22T12:03:58.259434Z"
    },
    "papermill": {
     "duration": 0.028776,
     "end_time": "2021-05-22T15:02:56.078493",
     "exception": false,
     "start_time": "2021-05-22T15:02:56.049717",
     "status": "completed"
    },
    "tags": []
   },
   "outputs": [],
   "source": [
    "checkpoint_path = \"./mlp_checkpoints/mlp_ckpt.ckpt\"\n",
    "checkpoint_dir = os.path.dirname(checkpoint_path)\n",
    "\n",
    "cp_callback = tf.keras.callbacks.ModelCheckpoint(\n",
    "    filepath=checkpoint_path,\n",
    "    save_weights_only=True,\n",
    "    monitor='val_loss',\n",
    "    mode='min',\n",
    "    verbose=1,\n",
    "    save_freq = 'epoch',\n",
    "    save_best_only=True)\n",
    "\n",
    "lrschedule_1 = ReduceLROnPlateau(monitor='val_loss', patience=2, verbose=1, factor=0.70, mode='min')\n",
    "\n",
    "# For more info on EarlyStoppingdelCheckpoint, refer https://machinelearningmastery.com/how-to-stop-training-deep-neural-networks-at-the-right-time-using-early-stopping/\n",
    "earlystop = EarlyStopping(monitor='val_loss', verbose=1, patience=5)"
   ]
  },
  {
   "cell_type": "code",
   "execution_count": 16,
   "id": "detected-screening",
   "metadata": {
    "execution": {
     "iopub.execute_input": "2021-05-22T15:02:56.129063Z",
     "iopub.status.busy": "2021-05-22T15:02:56.128350Z",
     "iopub.status.idle": "2021-05-22T15:02:56.142053Z",
     "shell.execute_reply": "2021-05-22T15:02:56.141609Z",
     "shell.execute_reply.started": "2021-05-22T12:03:58.269938Z"
    },
    "papermill": {
     "duration": 0.043117,
     "end_time": "2021-05-22T15:02:56.142158",
     "exception": false,
     "start_time": "2021-05-22T15:02:56.099041",
     "status": "completed"
    },
    "tags": []
   },
   "outputs": [],
   "source": [
    "simple_model.compile(loss='mse', optimizer=keras.optimizers.Adam(lr=0.0003), metrics=[tf.keras.metrics.RootMeanSquaredError()])"
   ]
  },
  {
   "cell_type": "code",
   "execution_count": 17,
   "id": "australian-richards",
   "metadata": {
    "execution": {
     "iopub.execute_input": "2021-05-22T15:02:56.188249Z",
     "iopub.status.busy": "2021-05-22T15:02:56.187405Z",
     "iopub.status.idle": "2021-05-22T16:00:30.416124Z",
     "shell.execute_reply": "2021-05-22T16:00:30.415145Z",
     "shell.execute_reply.started": "2021-05-22T12:04:56.550801Z"
    },
    "papermill": {
     "duration": 3454.253561,
     "end_time": "2021-05-22T16:00:30.416291",
     "exception": false,
     "start_time": "2021-05-22T15:02:56.162730",
     "status": "completed"
    },
    "tags": []
   },
   "outputs": [
    {
     "name": "stdout",
     "output_type": "stream",
     "text": [
      "Epoch 1/100\n",
      "5087/5087 [==============================] - 39s 6ms/step - loss: 0.1631 - root_mean_squared_error: 0.3874 - val_loss: 0.1776 - val_root_mean_squared_error: 0.4057\n",
      "\n",
      "Epoch 00001: val_loss improved from inf to 0.17765, saving model to ./mlp_checkpoints/mlp_ckpt.ckpt\n",
      "Epoch 2/100\n",
      "5087/5087 [==============================] - 33s 6ms/step - loss: 0.1629 - root_mean_squared_error: 0.3870 - val_loss: 0.1775 - val_root_mean_squared_error: 0.4055\n",
      "\n",
      "Epoch 00002: val_loss improved from 0.17765 to 0.17751, saving model to ./mlp_checkpoints/mlp_ckpt.ckpt\n",
      "Epoch 3/100\n",
      "5087/5087 [==============================] - 33s 6ms/step - loss: 0.1632 - root_mean_squared_error: 0.3874 - val_loss: 0.1773 - val_root_mean_squared_error: 0.4053\n",
      "\n",
      "Epoch 00003: val_loss improved from 0.17751 to 0.17734, saving model to ./mlp_checkpoints/mlp_ckpt.ckpt\n",
      "Epoch 4/100\n",
      "5087/5087 [==============================] - 33s 6ms/step - loss: 0.1624 - root_mean_squared_error: 0.3865 - val_loss: 0.1772 - val_root_mean_squared_error: 0.4052\n",
      "\n",
      "Epoch 00004: val_loss improved from 0.17734 to 0.17722, saving model to ./mlp_checkpoints/mlp_ckpt.ckpt\n",
      "Epoch 5/100\n",
      "5087/5087 [==============================] - 33s 6ms/step - loss: 0.1625 - root_mean_squared_error: 0.3866 - val_loss: 0.1771 - val_root_mean_squared_error: 0.4050\n",
      "\n",
      "Epoch 00005: val_loss improved from 0.17722 to 0.17705, saving model to ./mlp_checkpoints/mlp_ckpt.ckpt\n",
      "Epoch 6/100\n",
      "5087/5087 [==============================] - 33s 6ms/step - loss: 0.1630 - root_mean_squared_error: 0.3872 - val_loss: 0.1769 - val_root_mean_squared_error: 0.4048\n",
      "\n",
      "Epoch 00006: val_loss improved from 0.17705 to 0.17689, saving model to ./mlp_checkpoints/mlp_ckpt.ckpt\n",
      "Epoch 7/100\n",
      "5087/5087 [==============================] - 33s 6ms/step - loss: 0.1628 - root_mean_squared_error: 0.3869 - val_loss: 0.1767 - val_root_mean_squared_error: 0.4046\n",
      "\n",
      "Epoch 00007: val_loss improved from 0.17689 to 0.17672, saving model to ./mlp_checkpoints/mlp_ckpt.ckpt\n",
      "Epoch 8/100\n",
      "5087/5087 [==============================] - 33s 6ms/step - loss: 0.1627 - root_mean_squared_error: 0.3869 - val_loss: 0.1766 - val_root_mean_squared_error: 0.4045\n",
      "\n",
      "Epoch 00008: val_loss improved from 0.17672 to 0.17662, saving model to ./mlp_checkpoints/mlp_ckpt.ckpt\n",
      "Epoch 9/100\n",
      "5087/5087 [==============================] - 33s 6ms/step - loss: 0.1631 - root_mean_squared_error: 0.3874 - val_loss: 0.1765 - val_root_mean_squared_error: 0.4043\n",
      "\n",
      "Epoch 00009: val_loss improved from 0.17662 to 0.17647, saving model to ./mlp_checkpoints/mlp_ckpt.ckpt\n",
      "Epoch 10/100\n",
      "5087/5087 [==============================] - 33s 6ms/step - loss: 0.1628 - root_mean_squared_error: 0.3870 - val_loss: 0.1763 - val_root_mean_squared_error: 0.4041\n",
      "\n",
      "Epoch 00010: val_loss improved from 0.17647 to 0.17632, saving model to ./mlp_checkpoints/mlp_ckpt.ckpt\n",
      "Epoch 11/100\n",
      "5087/5087 [==============================] - 33s 6ms/step - loss: 0.1628 - root_mean_squared_error: 0.3870 - val_loss: 0.1762 - val_root_mean_squared_error: 0.4039\n",
      "\n",
      "Epoch 00011: val_loss improved from 0.17632 to 0.17618, saving model to ./mlp_checkpoints/mlp_ckpt.ckpt\n",
      "Epoch 12/100\n",
      "5087/5087 [==============================] - 33s 6ms/step - loss: 0.1626 - root_mean_squared_error: 0.3867 - val_loss: 0.1760 - val_root_mean_squared_error: 0.4038\n",
      "\n",
      "Epoch 00012: val_loss improved from 0.17618 to 0.17602, saving model to ./mlp_checkpoints/mlp_ckpt.ckpt\n",
      "Epoch 13/100\n",
      "5087/5087 [==============================] - 33s 6ms/step - loss: 0.1625 - root_mean_squared_error: 0.3867 - val_loss: 0.1759 - val_root_mean_squared_error: 0.4036\n",
      "\n",
      "Epoch 00013: val_loss improved from 0.17602 to 0.17590, saving model to ./mlp_checkpoints/mlp_ckpt.ckpt\n",
      "Epoch 14/100\n",
      "5087/5087 [==============================] - 33s 6ms/step - loss: 0.1621 - root_mean_squared_error: 0.3862 - val_loss: 0.1758 - val_root_mean_squared_error: 0.4034\n",
      "\n",
      "Epoch 00014: val_loss improved from 0.17590 to 0.17576, saving model to ./mlp_checkpoints/mlp_ckpt.ckpt\n",
      "Epoch 15/100\n",
      "5087/5087 [==============================] - 33s 6ms/step - loss: 0.1625 - root_mean_squared_error: 0.3866 - val_loss: 0.1756 - val_root_mean_squared_error: 0.4033\n",
      "\n",
      "Epoch 00015: val_loss improved from 0.17576 to 0.17564, saving model to ./mlp_checkpoints/mlp_ckpt.ckpt\n",
      "Epoch 16/100\n",
      "5087/5087 [==============================] - 34s 6ms/step - loss: 0.1626 - root_mean_squared_error: 0.3867 - val_loss: 0.1755 - val_root_mean_squared_error: 0.4031\n",
      "\n",
      "Epoch 00016: val_loss improved from 0.17564 to 0.17547, saving model to ./mlp_checkpoints/mlp_ckpt.ckpt\n",
      "Epoch 17/100\n",
      "5087/5087 [==============================] - 33s 6ms/step - loss: 0.1624 - root_mean_squared_error: 0.3865 - val_loss: 0.1753 - val_root_mean_squared_error: 0.4029\n",
      "\n",
      "Epoch 00017: val_loss improved from 0.17547 to 0.17532, saving model to ./mlp_checkpoints/mlp_ckpt.ckpt\n",
      "Epoch 18/100\n",
      "5087/5087 [==============================] - 33s 6ms/step - loss: 0.1623 - root_mean_squared_error: 0.3864 - val_loss: 0.1752 - val_root_mean_squared_error: 0.4028\n",
      "\n",
      "Epoch 00018: val_loss improved from 0.17532 to 0.17519, saving model to ./mlp_checkpoints/mlp_ckpt.ckpt\n",
      "Epoch 19/100\n",
      "5087/5087 [==============================] - 38s 7ms/step - loss: 0.1625 - root_mean_squared_error: 0.3867 - val_loss: 0.1751 - val_root_mean_squared_error: 0.4026\n",
      "\n",
      "Epoch 00019: val_loss improved from 0.17519 to 0.17507, saving model to ./mlp_checkpoints/mlp_ckpt.ckpt\n",
      "Epoch 20/100\n",
      "5087/5087 [==============================] - 33s 6ms/step - loss: 0.1623 - root_mean_squared_error: 0.3864 - val_loss: 0.1750 - val_root_mean_squared_error: 0.4025\n",
      "\n",
      "Epoch 00020: val_loss improved from 0.17507 to 0.17497, saving model to ./mlp_checkpoints/mlp_ckpt.ckpt\n",
      "Epoch 21/100\n",
      "5087/5087 [==============================] - 34s 6ms/step - loss: 0.1622 - root_mean_squared_error: 0.3863 - val_loss: 0.1748 - val_root_mean_squared_error: 0.4023\n",
      "\n",
      "Epoch 00021: val_loss improved from 0.17497 to 0.17482, saving model to ./mlp_checkpoints/mlp_ckpt.ckpt\n",
      "Epoch 22/100\n",
      "5087/5087 [==============================] - 34s 6ms/step - loss: 0.1623 - root_mean_squared_error: 0.3865 - val_loss: 0.1747 - val_root_mean_squared_error: 0.4022\n",
      "\n",
      "Epoch 00022: val_loss improved from 0.17482 to 0.17471, saving model to ./mlp_checkpoints/mlp_ckpt.ckpt\n",
      "Epoch 23/100\n",
      "5087/5087 [==============================] - 34s 6ms/step - loss: 0.1628 - root_mean_squared_error: 0.3871 - val_loss: 0.1746 - val_root_mean_squared_error: 0.4020\n",
      "\n",
      "Epoch 00023: val_loss improved from 0.17471 to 0.17456, saving model to ./mlp_checkpoints/mlp_ckpt.ckpt\n",
      "Epoch 24/100\n",
      "5087/5087 [==============================] - 34s 6ms/step - loss: 0.1622 - root_mean_squared_error: 0.3863 - val_loss: 0.1744 - val_root_mean_squared_error: 0.4018\n",
      "\n",
      "Epoch 00024: val_loss improved from 0.17456 to 0.17442, saving model to ./mlp_checkpoints/mlp_ckpt.ckpt\n",
      "Epoch 25/100\n",
      "5087/5087 [==============================] - 33s 6ms/step - loss: 0.1628 - root_mean_squared_error: 0.3871 - val_loss: 0.1742 - val_root_mean_squared_error: 0.4016\n",
      "\n",
      "Epoch 00025: val_loss improved from 0.17442 to 0.17425, saving model to ./mlp_checkpoints/mlp_ckpt.ckpt\n",
      "Epoch 26/100\n",
      "5087/5087 [==============================] - 32s 6ms/step - loss: 0.1629 - root_mean_squared_error: 0.3872 - val_loss: 0.1741 - val_root_mean_squared_error: 0.4015\n",
      "\n",
      "Epoch 00026: val_loss improved from 0.17425 to 0.17409, saving model to ./mlp_checkpoints/mlp_ckpt.ckpt\n",
      "Epoch 27/100\n",
      "5087/5087 [==============================] - 34s 6ms/step - loss: 0.1622 - root_mean_squared_error: 0.3864 - val_loss: 0.1740 - val_root_mean_squared_error: 0.4014\n",
      "\n",
      "Epoch 00027: val_loss improved from 0.17409 to 0.17402, saving model to ./mlp_checkpoints/mlp_ckpt.ckpt\n",
      "Epoch 28/100\n",
      "5087/5087 [==============================] - 32s 6ms/step - loss: 0.1617 - root_mean_squared_error: 0.3857 - val_loss: 0.1739 - val_root_mean_squared_error: 0.4012\n",
      "\n",
      "Epoch 00028: val_loss improved from 0.17402 to 0.17387, saving model to ./mlp_checkpoints/mlp_ckpt.ckpt\n",
      "Epoch 29/100\n",
      "5087/5087 [==============================] - 34s 6ms/step - loss: 0.1618 - root_mean_squared_error: 0.3859 - val_loss: 0.1738 - val_root_mean_squared_error: 0.4011\n",
      "\n",
      "Epoch 00029: val_loss improved from 0.17387 to 0.17377, saving model to ./mlp_checkpoints/mlp_ckpt.ckpt\n",
      "Epoch 30/100\n",
      "5087/5087 [==============================] - 33s 6ms/step - loss: 0.1618 - root_mean_squared_error: 0.3858 - val_loss: 0.1736 - val_root_mean_squared_error: 0.4009\n",
      "\n",
      "Epoch 00030: val_loss improved from 0.17377 to 0.17363, saving model to ./mlp_checkpoints/mlp_ckpt.ckpt\n",
      "Epoch 31/100\n",
      "5087/5087 [==============================] - 34s 6ms/step - loss: 0.1615 - root_mean_squared_error: 0.3855 - val_loss: 0.1735 - val_root_mean_squared_error: 0.4008\n",
      "\n",
      "Epoch 00031: val_loss improved from 0.17363 to 0.17351, saving model to ./mlp_checkpoints/mlp_ckpt.ckpt\n",
      "Epoch 32/100\n",
      "5087/5087 [==============================] - 33s 6ms/step - loss: 0.1617 - root_mean_squared_error: 0.3857 - val_loss: 0.1734 - val_root_mean_squared_error: 0.4006\n",
      "\n",
      "Epoch 00032: val_loss improved from 0.17351 to 0.17340, saving model to ./mlp_checkpoints/mlp_ckpt.ckpt\n",
      "Epoch 33/100\n",
      "5087/5087 [==============================] - 33s 6ms/step - loss: 0.1617 - root_mean_squared_error: 0.3858 - val_loss: 0.1732 - val_root_mean_squared_error: 0.4004\n",
      "\n",
      "Epoch 00033: val_loss improved from 0.17340 to 0.17321, saving model to ./mlp_checkpoints/mlp_ckpt.ckpt\n",
      "Epoch 34/100\n",
      "5087/5087 [==============================] - 33s 6ms/step - loss: 0.1621 - root_mean_squared_error: 0.3862 - val_loss: 0.1731 - val_root_mean_squared_error: 0.4003\n",
      "\n",
      "Epoch 00034: val_loss improved from 0.17321 to 0.17313, saving model to ./mlp_checkpoints/mlp_ckpt.ckpt\n",
      "Epoch 35/100\n",
      "5087/5087 [==============================] - 33s 6ms/step - loss: 0.1617 - root_mean_squared_error: 0.3857 - val_loss: 0.1730 - val_root_mean_squared_error: 0.4001\n",
      "\n",
      "Epoch 00035: val_loss improved from 0.17313 to 0.17296, saving model to ./mlp_checkpoints/mlp_ckpt.ckpt\n",
      "Epoch 36/100\n",
      "5087/5087 [==============================] - 33s 6ms/step - loss: 0.1619 - root_mean_squared_error: 0.3861 - val_loss: 0.1728 - val_root_mean_squared_error: 0.4000\n",
      "\n",
      "Epoch 00036: val_loss improved from 0.17296 to 0.17284, saving model to ./mlp_checkpoints/mlp_ckpt.ckpt\n",
      "Epoch 37/100\n",
      "5087/5087 [==============================] - 33s 6ms/step - loss: 0.1617 - root_mean_squared_error: 0.3857 - val_loss: 0.1727 - val_root_mean_squared_error: 0.3998\n",
      "\n",
      "Epoch 00037: val_loss improved from 0.17284 to 0.17273, saving model to ./mlp_checkpoints/mlp_ckpt.ckpt\n",
      "Epoch 38/100\n",
      "5087/5087 [==============================] - 34s 6ms/step - loss: 0.1615 - root_mean_squared_error: 0.3856 - val_loss: 0.1727 - val_root_mean_squared_error: 0.3997\n",
      "\n",
      "Epoch 00038: val_loss improved from 0.17273 to 0.17265, saving model to ./mlp_checkpoints/mlp_ckpt.ckpt\n",
      "Epoch 39/100\n",
      "5087/5087 [==============================] - 33s 6ms/step - loss: 0.1618 - root_mean_squared_error: 0.3860 - val_loss: 0.1725 - val_root_mean_squared_error: 0.3996\n",
      "\n",
      "Epoch 00039: val_loss improved from 0.17265 to 0.17251, saving model to ./mlp_checkpoints/mlp_ckpt.ckpt\n",
      "Epoch 40/100\n",
      "5087/5087 [==============================] - 34s 6ms/step - loss: 0.1621 - root_mean_squared_error: 0.3863 - val_loss: 0.1724 - val_root_mean_squared_error: 0.3995\n",
      "\n",
      "Epoch 00040: val_loss improved from 0.17251 to 0.17244, saving model to ./mlp_checkpoints/mlp_ckpt.ckpt\n",
      "Epoch 41/100\n",
      "5087/5087 [==============================] - 32s 6ms/step - loss: 0.1615 - root_mean_squared_error: 0.3855 - val_loss: 0.1723 - val_root_mean_squared_error: 0.3993\n",
      "\n",
      "Epoch 00041: val_loss improved from 0.17244 to 0.17229, saving model to ./mlp_checkpoints/mlp_ckpt.ckpt\n",
      "Epoch 42/100\n",
      "5087/5087 [==============================] - 35s 6ms/step - loss: 0.1614 - root_mean_squared_error: 0.3854 - val_loss: 0.1722 - val_root_mean_squared_error: 0.3992\n",
      "\n",
      "Epoch 00042: val_loss improved from 0.17229 to 0.17217, saving model to ./mlp_checkpoints/mlp_ckpt.ckpt\n",
      "Epoch 43/100\n",
      "5087/5087 [==============================] - 41s 7ms/step - loss: 0.1614 - root_mean_squared_error: 0.3854 - val_loss: 0.1720 - val_root_mean_squared_error: 0.3990\n",
      "\n",
      "Epoch 00043: val_loss improved from 0.17217 to 0.17200, saving model to ./mlp_checkpoints/mlp_ckpt.ckpt\n",
      "Epoch 44/100\n",
      "5087/5087 [==============================] - 34s 6ms/step - loss: 0.1611 - root_mean_squared_error: 0.3851 - val_loss: 0.1720 - val_root_mean_squared_error: 0.3989\n",
      "\n",
      "Epoch 00044: val_loss improved from 0.17200 to 0.17196, saving model to ./mlp_checkpoints/mlp_ckpt.ckpt\n",
      "Epoch 45/100\n",
      "5087/5087 [==============================] - 34s 6ms/step - loss: 0.1606 - root_mean_squared_error: 0.3844 - val_loss: 0.1718 - val_root_mean_squared_error: 0.3987\n",
      "\n",
      "Epoch 00045: val_loss improved from 0.17196 to 0.17183, saving model to ./mlp_checkpoints/mlp_ckpt.ckpt\n",
      "Epoch 46/100\n",
      "5087/5087 [==============================] - 34s 6ms/step - loss: 0.1609 - root_mean_squared_error: 0.3848 - val_loss: 0.1717 - val_root_mean_squared_error: 0.3986\n",
      "\n",
      "Epoch 00046: val_loss improved from 0.17183 to 0.17172, saving model to ./mlp_checkpoints/mlp_ckpt.ckpt\n",
      "Epoch 47/100\n",
      "5087/5087 [==============================] - 32s 6ms/step - loss: 0.1608 - root_mean_squared_error: 0.3847 - val_loss: 0.1716 - val_root_mean_squared_error: 0.3985\n",
      "\n",
      "Epoch 00047: val_loss improved from 0.17172 to 0.17160, saving model to ./mlp_checkpoints/mlp_ckpt.ckpt\n",
      "Epoch 48/100\n",
      "5087/5087 [==============================] - 35s 6ms/step - loss: 0.1610 - root_mean_squared_error: 0.3849 - val_loss: 0.1714 - val_root_mean_squared_error: 0.3983\n",
      "\n",
      "Epoch 00048: val_loss improved from 0.17160 to 0.17145, saving model to ./mlp_checkpoints/mlp_ckpt.ckpt\n",
      "Epoch 49/100\n",
      "5087/5087 [==============================] - 32s 6ms/step - loss: 0.1613 - root_mean_squared_error: 0.3853 - val_loss: 0.1714 - val_root_mean_squared_error: 0.3982\n",
      "\n",
      "Epoch 00049: val_loss improved from 0.17145 to 0.17136, saving model to ./mlp_checkpoints/mlp_ckpt.ckpt\n",
      "Epoch 50/100\n",
      "5087/5087 [==============================] - 35s 7ms/step - loss: 0.1613 - root_mean_squared_error: 0.3854 - val_loss: 0.1712 - val_root_mean_squared_error: 0.3980\n",
      "\n",
      "Epoch 00050: val_loss improved from 0.17136 to 0.17124, saving model to ./mlp_checkpoints/mlp_ckpt.ckpt\n",
      "Epoch 51/100\n",
      "5087/5087 [==============================] - 32s 6ms/step - loss: 0.1610 - root_mean_squared_error: 0.3850 - val_loss: 0.1712 - val_root_mean_squared_error: 0.3980\n",
      "\n",
      "Epoch 00051: val_loss improved from 0.17124 to 0.17118, saving model to ./mlp_checkpoints/mlp_ckpt.ckpt\n",
      "Epoch 52/100\n",
      "5087/5087 [==============================] - 35s 7ms/step - loss: 0.1613 - root_mean_squared_error: 0.3854 - val_loss: 0.1711 - val_root_mean_squared_error: 0.3978\n",
      "\n",
      "Epoch 00052: val_loss improved from 0.17118 to 0.17106, saving model to ./mlp_checkpoints/mlp_ckpt.ckpt\n",
      "Epoch 53/100\n",
      "5087/5087 [==============================] - 32s 6ms/step - loss: 0.1610 - root_mean_squared_error: 0.3850 - val_loss: 0.1709 - val_root_mean_squared_error: 0.3976\n",
      "\n",
      "Epoch 00053: val_loss improved from 0.17106 to 0.17089, saving model to ./mlp_checkpoints/mlp_ckpt.ckpt\n",
      "Epoch 54/100\n",
      "5087/5087 [==============================] - 35s 7ms/step - loss: 0.1613 - root_mean_squared_error: 0.3853 - val_loss: 0.1708 - val_root_mean_squared_error: 0.3975\n",
      "\n",
      "Epoch 00054: val_loss improved from 0.17089 to 0.17080, saving model to ./mlp_checkpoints/mlp_ckpt.ckpt\n",
      "Epoch 55/100\n",
      "5087/5087 [==============================] - 32s 6ms/step - loss: 0.1610 - root_mean_squared_error: 0.3850 - val_loss: 0.1707 - val_root_mean_squared_error: 0.3974\n",
      "\n",
      "Epoch 00055: val_loss improved from 0.17080 to 0.17068, saving model to ./mlp_checkpoints/mlp_ckpt.ckpt\n",
      "Epoch 56/100\n",
      "5087/5087 [==============================] - 35s 7ms/step - loss: 0.1603 - root_mean_squared_error: 0.3840 - val_loss: 0.1706 - val_root_mean_squared_error: 0.3973\n",
      "\n",
      "Epoch 00056: val_loss improved from 0.17068 to 0.17061, saving model to ./mlp_checkpoints/mlp_ckpt.ckpt\n",
      "Epoch 57/100\n",
      "5087/5087 [==============================] - 32s 6ms/step - loss: 0.1606 - root_mean_squared_error: 0.3845 - val_loss: 0.1705 - val_root_mean_squared_error: 0.3971\n",
      "\n",
      "Epoch 00057: val_loss improved from 0.17061 to 0.17048, saving model to ./mlp_checkpoints/mlp_ckpt.ckpt\n",
      "Epoch 58/100\n",
      "5087/5087 [==============================] - 35s 7ms/step - loss: 0.1605 - root_mean_squared_error: 0.3844 - val_loss: 0.1703 - val_root_mean_squared_error: 0.3970\n",
      "\n",
      "Epoch 00058: val_loss improved from 0.17048 to 0.17034, saving model to ./mlp_checkpoints/mlp_ckpt.ckpt\n",
      "Epoch 59/100\n",
      "5087/5087 [==============================] - 32s 6ms/step - loss: 0.1606 - root_mean_squared_error: 0.3846 - val_loss: 0.1702 - val_root_mean_squared_error: 0.3968\n",
      "\n",
      "Epoch 00059: val_loss improved from 0.17034 to 0.17022, saving model to ./mlp_checkpoints/mlp_ckpt.ckpt\n",
      "Epoch 60/100\n",
      "5087/5087 [==============================] - 32s 6ms/step - loss: 0.1601 - root_mean_squared_error: 0.3839 - val_loss: 0.1701 - val_root_mean_squared_error: 0.3967\n",
      "\n",
      "Epoch 00060: val_loss improved from 0.17022 to 0.17015, saving model to ./mlp_checkpoints/mlp_ckpt.ckpt\n",
      "Epoch 61/100\n",
      "5087/5087 [==============================] - 32s 6ms/step - loss: 0.1607 - root_mean_squared_error: 0.3846 - val_loss: 0.1700 - val_root_mean_squared_error: 0.3966\n",
      "\n",
      "Epoch 00061: val_loss improved from 0.17015 to 0.17004, saving model to ./mlp_checkpoints/mlp_ckpt.ckpt\n",
      "Epoch 62/100\n",
      "5087/5087 [==============================] - 36s 7ms/step - loss: 0.1612 - root_mean_squared_error: 0.3853 - val_loss: 0.1699 - val_root_mean_squared_error: 0.3964\n",
      "\n",
      "Epoch 00062: val_loss improved from 0.17004 to 0.16990, saving model to ./mlp_checkpoints/mlp_ckpt.ckpt\n",
      "Epoch 63/100\n",
      "5087/5087 [==============================] - 33s 6ms/step - loss: 0.1605 - root_mean_squared_error: 0.3844 - val_loss: 0.1698 - val_root_mean_squared_error: 0.3963\n",
      "\n",
      "Epoch 00063: val_loss improved from 0.16990 to 0.16983, saving model to ./mlp_checkpoints/mlp_ckpt.ckpt\n",
      "Epoch 64/100\n",
      "5087/5087 [==============================] - 32s 6ms/step - loss: 0.1604 - root_mean_squared_error: 0.3842 - val_loss: 0.1697 - val_root_mean_squared_error: 0.3962\n",
      "\n",
      "Epoch 00064: val_loss improved from 0.16983 to 0.16971, saving model to ./mlp_checkpoints/mlp_ckpt.ckpt\n",
      "Epoch 65/100\n",
      "5087/5087 [==============================] - 32s 6ms/step - loss: 0.1603 - root_mean_squared_error: 0.3841 - val_loss: 0.1696 - val_root_mean_squared_error: 0.3961\n",
      "\n",
      "Epoch 00065: val_loss improved from 0.16971 to 0.16962, saving model to ./mlp_checkpoints/mlp_ckpt.ckpt\n",
      "Epoch 66/100\n",
      "5087/5087 [==============================] - 36s 7ms/step - loss: 0.1604 - root_mean_squared_error: 0.3843 - val_loss: 0.1695 - val_root_mean_squared_error: 0.3960\n",
      "\n",
      "Epoch 00066: val_loss improved from 0.16962 to 0.16953, saving model to ./mlp_checkpoints/mlp_ckpt.ckpt\n",
      "Epoch 67/100\n",
      "5087/5087 [==============================] - 33s 6ms/step - loss: 0.1606 - root_mean_squared_error: 0.3845 - val_loss: 0.1694 - val_root_mean_squared_error: 0.3958\n",
      "\n",
      "Epoch 00067: val_loss improved from 0.16953 to 0.16941, saving model to ./mlp_checkpoints/mlp_ckpt.ckpt\n",
      "Epoch 68/100\n",
      "5087/5087 [==============================] - 32s 6ms/step - loss: 0.1606 - root_mean_squared_error: 0.3846 - val_loss: 0.1693 - val_root_mean_squared_error: 0.3957\n",
      "\n",
      "Epoch 00068: val_loss improved from 0.16941 to 0.16929, saving model to ./mlp_checkpoints/mlp_ckpt.ckpt\n",
      "Epoch 69/100\n",
      "5087/5087 [==============================] - 32s 6ms/step - loss: 0.1603 - root_mean_squared_error: 0.3842 - val_loss: 0.1692 - val_root_mean_squared_error: 0.3955\n",
      "\n",
      "Epoch 00069: val_loss improved from 0.16929 to 0.16916, saving model to ./mlp_checkpoints/mlp_ckpt.ckpt\n",
      "Epoch 70/100\n",
      "5087/5087 [==============================] - 36s 7ms/step - loss: 0.1607 - root_mean_squared_error: 0.3847 - val_loss: 0.1691 - val_root_mean_squared_error: 0.3955\n",
      "\n",
      "Epoch 00070: val_loss improved from 0.16916 to 0.16910, saving model to ./mlp_checkpoints/mlp_ckpt.ckpt\n",
      "Epoch 71/100\n",
      "5087/5087 [==============================] - 33s 6ms/step - loss: 0.1604 - root_mean_squared_error: 0.3843 - val_loss: 0.1690 - val_root_mean_squared_error: 0.3953\n",
      "\n",
      "Epoch 00071: val_loss improved from 0.16910 to 0.16900, saving model to ./mlp_checkpoints/mlp_ckpt.ckpt\n",
      "Epoch 72/100\n",
      "5087/5087 [==============================] - 32s 6ms/step - loss: 0.1597 - root_mean_squared_error: 0.3835 - val_loss: 0.1689 - val_root_mean_squared_error: 0.3952\n",
      "\n",
      "Epoch 00072: val_loss improved from 0.16900 to 0.16885, saving model to ./mlp_checkpoints/mlp_ckpt.ckpt\n",
      "Epoch 73/100\n",
      "5087/5087 [==============================] - 32s 6ms/step - loss: 0.1601 - root_mean_squared_error: 0.3839 - val_loss: 0.1688 - val_root_mean_squared_error: 0.3951\n",
      "\n",
      "Epoch 00073: val_loss improved from 0.16885 to 0.16877, saving model to ./mlp_checkpoints/mlp_ckpt.ckpt\n",
      "Epoch 74/100\n",
      "5087/5087 [==============================] - 35s 7ms/step - loss: 0.1601 - root_mean_squared_error: 0.3839 - val_loss: 0.1686 - val_root_mean_squared_error: 0.3949\n",
      "\n",
      "Epoch 00074: val_loss improved from 0.16877 to 0.16865, saving model to ./mlp_checkpoints/mlp_ckpt.ckpt\n",
      "Epoch 75/100\n",
      "5087/5087 [==============================] - 34s 6ms/step - loss: 0.1599 - root_mean_squared_error: 0.3837 - val_loss: 0.1686 - val_root_mean_squared_error: 0.3949\n",
      "\n",
      "Epoch 00075: val_loss improved from 0.16865 to 0.16860, saving model to ./mlp_checkpoints/mlp_ckpt.ckpt\n",
      "Epoch 76/100\n",
      "5087/5087 [==============================] - 32s 6ms/step - loss: 0.1599 - root_mean_squared_error: 0.3837 - val_loss: 0.1685 - val_root_mean_squared_error: 0.3947\n",
      "\n",
      "Epoch 00076: val_loss improved from 0.16860 to 0.16848, saving model to ./mlp_checkpoints/mlp_ckpt.ckpt\n",
      "Epoch 77/100\n",
      "5087/5087 [==============================] - 32s 6ms/step - loss: 0.1601 - root_mean_squared_error: 0.3840 - val_loss: 0.1684 - val_root_mean_squared_error: 0.3946\n",
      "\n",
      "Epoch 00077: val_loss improved from 0.16848 to 0.16841, saving model to ./mlp_checkpoints/mlp_ckpt.ckpt\n",
      "Epoch 78/100\n",
      "5087/5087 [==============================] - 35s 7ms/step - loss: 0.1600 - root_mean_squared_error: 0.3838 - val_loss: 0.1683 - val_root_mean_squared_error: 0.3945\n",
      "\n",
      "Epoch 00078: val_loss improved from 0.16841 to 0.16831, saving model to ./mlp_checkpoints/mlp_ckpt.ckpt\n",
      "Epoch 79/100\n",
      "5087/5087 [==============================] - 35s 6ms/step - loss: 0.1600 - root_mean_squared_error: 0.3839 - val_loss: 0.1682 - val_root_mean_squared_error: 0.3944\n",
      "\n",
      "Epoch 00079: val_loss improved from 0.16831 to 0.16822, saving model to ./mlp_checkpoints/mlp_ckpt.ckpt\n",
      "Epoch 80/100\n",
      "5087/5087 [==============================] - 32s 6ms/step - loss: 0.1599 - root_mean_squared_error: 0.3837 - val_loss: 0.1681 - val_root_mean_squared_error: 0.3943\n",
      "\n",
      "Epoch 00080: val_loss improved from 0.16822 to 0.16813, saving model to ./mlp_checkpoints/mlp_ckpt.ckpt\n",
      "Epoch 81/100\n",
      "5087/5087 [==============================] - 32s 6ms/step - loss: 0.1596 - root_mean_squared_error: 0.3833 - val_loss: 0.1680 - val_root_mean_squared_error: 0.3942\n",
      "\n",
      "Epoch 00081: val_loss improved from 0.16813 to 0.16802, saving model to ./mlp_checkpoints/mlp_ckpt.ckpt\n",
      "Epoch 82/100\n",
      "5087/5087 [==============================] - 34s 6ms/step - loss: 0.1596 - root_mean_squared_error: 0.3833 - val_loss: 0.1680 - val_root_mean_squared_error: 0.3941\n",
      "\n",
      "Epoch 00082: val_loss improved from 0.16802 to 0.16796, saving model to ./mlp_checkpoints/mlp_ckpt.ckpt\n",
      "Epoch 83/100\n",
      "5087/5087 [==============================] - 36s 6ms/step - loss: 0.1601 - root_mean_squared_error: 0.3840 - val_loss: 0.1679 - val_root_mean_squared_error: 0.3940\n",
      "\n",
      "Epoch 00083: val_loss improved from 0.16796 to 0.16787, saving model to ./mlp_checkpoints/mlp_ckpt.ckpt\n",
      "Epoch 84/100\n",
      "5087/5087 [==============================] - 33s 6ms/step - loss: 0.1601 - root_mean_squared_error: 0.3840 - val_loss: 0.1678 - val_root_mean_squared_error: 0.3939\n",
      "\n",
      "Epoch 00084: val_loss improved from 0.16787 to 0.16776, saving model to ./mlp_checkpoints/mlp_ckpt.ckpt\n",
      "Epoch 85/100\n",
      "5087/5087 [==============================] - 32s 6ms/step - loss: 0.1596 - root_mean_squared_error: 0.3833 - val_loss: 0.1677 - val_root_mean_squared_error: 0.3937\n",
      "\n",
      "Epoch 00085: val_loss improved from 0.16776 to 0.16767, saving model to ./mlp_checkpoints/mlp_ckpt.ckpt\n",
      "Epoch 86/100\n",
      "5087/5087 [==============================] - 33s 6ms/step - loss: 0.1589 - root_mean_squared_error: 0.3825 - val_loss: 0.1676 - val_root_mean_squared_error: 0.3936\n",
      "\n",
      "Epoch 00086: val_loss improved from 0.16767 to 0.16756, saving model to ./mlp_checkpoints/mlp_ckpt.ckpt\n",
      "Epoch 87/100\n",
      "5087/5087 [==============================] - 37s 7ms/step - loss: 0.1593 - root_mean_squared_error: 0.3829 - val_loss: 0.1675 - val_root_mean_squared_error: 0.3935\n",
      "\n",
      "Epoch 00087: val_loss improved from 0.16756 to 0.16749, saving model to ./mlp_checkpoints/mlp_ckpt.ckpt\n",
      "Epoch 88/100\n",
      "5087/5087 [==============================] - 32s 6ms/step - loss: 0.1601 - root_mean_squared_error: 0.3840 - val_loss: 0.1674 - val_root_mean_squared_error: 0.3934\n",
      "\n",
      "Epoch 00088: val_loss improved from 0.16749 to 0.16740, saving model to ./mlp_checkpoints/mlp_ckpt.ckpt\n",
      "Epoch 89/100\n",
      "5087/5087 [==============================] - 32s 6ms/step - loss: 0.1591 - root_mean_squared_error: 0.3827 - val_loss: 0.1673 - val_root_mean_squared_error: 0.3933\n",
      "\n",
      "Epoch 00089: val_loss improved from 0.16740 to 0.16731, saving model to ./mlp_checkpoints/mlp_ckpt.ckpt\n",
      "Epoch 90/100\n",
      "5087/5087 [==============================] - 32s 6ms/step - loss: 0.1597 - root_mean_squared_error: 0.3834 - val_loss: 0.1672 - val_root_mean_squared_error: 0.3931\n",
      "\n",
      "Epoch 00090: val_loss improved from 0.16731 to 0.16718, saving model to ./mlp_checkpoints/mlp_ckpt.ckpt\n",
      "Epoch 91/100\n",
      "5087/5087 [==============================] - 38s 7ms/step - loss: 0.1596 - root_mean_squared_error: 0.3834 - val_loss: 0.1671 - val_root_mean_squared_error: 0.3930\n",
      "\n",
      "Epoch 00091: val_loss improved from 0.16718 to 0.16709, saving model to ./mlp_checkpoints/mlp_ckpt.ckpt\n",
      "Epoch 92/100\n",
      "5087/5087 [==============================] - 33s 6ms/step - loss: 0.1595 - root_mean_squared_error: 0.3833 - val_loss: 0.1670 - val_root_mean_squared_error: 0.3929\n",
      "\n",
      "Epoch 00092: val_loss improved from 0.16709 to 0.16699, saving model to ./mlp_checkpoints/mlp_ckpt.ckpt\n",
      "Epoch 93/100\n",
      "5087/5087 [==============================] - 32s 6ms/step - loss: 0.1595 - root_mean_squared_error: 0.3832 - val_loss: 0.1669 - val_root_mean_squared_error: 0.3928\n",
      "\n",
      "Epoch 00093: val_loss improved from 0.16699 to 0.16693, saving model to ./mlp_checkpoints/mlp_ckpt.ckpt\n",
      "Epoch 94/100\n",
      "5087/5087 [==============================] - 33s 6ms/step - loss: 0.1597 - root_mean_squared_error: 0.3836 - val_loss: 0.1668 - val_root_mean_squared_error: 0.3927\n",
      "\n",
      "Epoch 00094: val_loss improved from 0.16693 to 0.16680, saving model to ./mlp_checkpoints/mlp_ckpt.ckpt\n",
      "Epoch 95/100\n",
      "5087/5087 [==============================] - 38s 7ms/step - loss: 0.1594 - root_mean_squared_error: 0.3831 - val_loss: 0.1668 - val_root_mean_squared_error: 0.3927\n",
      "\n",
      "Epoch 00095: val_loss improved from 0.16680 to 0.16677, saving model to ./mlp_checkpoints/mlp_ckpt.ckpt\n",
      "Epoch 96/100\n",
      "5087/5087 [==============================] - 33s 6ms/step - loss: 0.1598 - root_mean_squared_error: 0.3837 - val_loss: 0.1667 - val_root_mean_squared_error: 0.3925\n",
      "\n",
      "Epoch 00096: val_loss improved from 0.16677 to 0.16668, saving model to ./mlp_checkpoints/mlp_ckpt.ckpt\n",
      "Epoch 97/100\n",
      "5087/5087 [==============================] - 33s 6ms/step - loss: 0.1596 - root_mean_squared_error: 0.3834 - val_loss: 0.1666 - val_root_mean_squared_error: 0.3924\n",
      "\n",
      "Epoch 00097: val_loss improved from 0.16668 to 0.16658, saving model to ./mlp_checkpoints/mlp_ckpt.ckpt\n",
      "Epoch 98/100\n",
      "5087/5087 [==============================] - 33s 6ms/step - loss: 0.1593 - root_mean_squared_error: 0.3831 - val_loss: 0.1664 - val_root_mean_squared_error: 0.3922\n",
      "\n",
      "Epoch 00098: val_loss improved from 0.16658 to 0.16644, saving model to ./mlp_checkpoints/mlp_ckpt.ckpt\n",
      "Epoch 99/100\n",
      "5087/5087 [==============================] - 38s 7ms/step - loss: 0.1590 - root_mean_squared_error: 0.3826 - val_loss: 0.1663 - val_root_mean_squared_error: 0.3921\n",
      "\n",
      "Epoch 00099: val_loss improved from 0.16644 to 0.16634, saving model to ./mlp_checkpoints/mlp_ckpt.ckpt\n",
      "Epoch 100/100\n",
      "5087/5087 [==============================] - 33s 6ms/step - loss: 0.1595 - root_mean_squared_error: 0.3833 - val_loss: 0.1663 - val_root_mean_squared_error: 0.3921\n",
      "\n",
      "Epoch 00100: val_loss improved from 0.16634 to 0.16628, saving model to ./mlp_checkpoints/mlp_ckpt.ckpt\n"
     ]
    }
   ],
   "source": [
    "history = simple_model.fit(x=X_train, y=y_train_arr, batch_size=BATCH_SIZE, epochs=EPOCHS, verbose=True, validation_data=(X_val, y_val_arr),\n",
    "                 callbacks=[cp_callback, lrschedule_1, earlystop])\n",
    "# history = simple_model.fit(x=X_train, y=y_train, batch_size=BATCH_SIZE, epochs=EPOCHS, verbose=True, validation_split=0.1,\n",
    "#                  callbacks=[cp_callback, lrschedule_1, earlystop])"
   ]
  },
  {
   "cell_type": "markdown",
   "id": "authorized-expert",
   "metadata": {
    "papermill": {
     "duration": 15.379149,
     "end_time": "2021-05-22T16:01:01.247906",
     "exception": false,
     "start_time": "2021-05-22T16:00:45.868757",
     "status": "completed"
    },
    "tags": []
   },
   "source": [
    "### Evaluate performance on splitted test data"
   ]
  },
  {
   "cell_type": "code",
   "execution_count": 18,
   "id": "executed-vault",
   "metadata": {
    "execution": {
     "iopub.execute_input": "2021-05-22T16:01:31.747225Z",
     "iopub.status.busy": "2021-05-22T16:01:31.746338Z",
     "iopub.status.idle": "2021-05-22T16:01:36.934573Z",
     "shell.execute_reply": "2021-05-22T16:01:36.934949Z",
     "shell.execute_reply.started": "2021-05-22T12:06:46.701035Z"
    },
    "papermill": {
     "duration": 20.400508,
     "end_time": "2021-05-22T16:01:36.935102",
     "exception": false,
     "start_time": "2021-05-22T16:01:16.534594",
     "status": "completed"
    },
    "tags": []
   },
   "outputs": [
    {
     "name": "stdout",
     "output_type": "stream",
     "text": [
      "RMLE on splitted test data: 0.42656289721266755\n"
     ]
    }
   ],
   "source": [
    "rms_error=evaluate_dl_model(simple_model, X_test, y_test_arr)\n",
    "print('RMLE on splitted test data:', rms_error)"
   ]
  },
  {
   "cell_type": "markdown",
   "id": "local-ethiopia",
   "metadata": {
    "papermill": {
     "duration": 15.111345,
     "end_time": "2021-05-22T16:02:07.750231",
     "exception": false,
     "start_time": "2021-05-22T16:01:52.638886",
     "status": "completed"
    },
    "tags": []
   },
   "source": [
    "### Plotting training process"
   ]
  },
  {
   "cell_type": "code",
   "execution_count": 19,
   "id": "tired-shelter",
   "metadata": {
    "execution": {
     "iopub.execute_input": "2021-05-22T16:02:38.577788Z",
     "iopub.status.busy": "2021-05-22T16:02:38.577152Z",
     "iopub.status.idle": "2021-05-22T16:02:38.580025Z",
     "shell.execute_reply": "2021-05-22T16:02:38.580429Z",
     "shell.execute_reply.started": "2021-05-22T12:10:07.345129Z"
    },
    "papermill": {
     "duration": 15.183816,
     "end_time": "2021-05-22T16:02:38.580568",
     "exception": false,
     "start_time": "2021-05-22T16:02:23.396752",
     "status": "completed"
    },
    "tags": []
   },
   "outputs": [
    {
     "name": "stdout",
     "output_type": "stream",
     "text": [
      "dict_keys(['loss', 'root_mean_squared_error', 'val_loss', 'val_root_mean_squared_error', 'lr'])\n"
     ]
    }
   ],
   "source": [
    "print(history.history.keys())"
   ]
  },
  {
   "cell_type": "code",
   "execution_count": 20,
   "id": "systematic-slide",
   "metadata": {
    "execution": {
     "iopub.execute_input": "2021-05-22T16:03:09.435086Z",
     "iopub.status.busy": "2021-05-22T16:03:09.419523Z",
     "iopub.status.idle": "2021-05-22T16:03:09.614175Z",
     "shell.execute_reply": "2021-05-22T16:03:09.613349Z",
     "shell.execute_reply.started": "2021-05-22T12:12:31.729443Z"
    },
    "papermill": {
     "duration": 15.946655,
     "end_time": "2021-05-22T16:03:09.614306",
     "exception": false,
     "start_time": "2021-05-22T16:02:53.667651",
     "status": "completed"
    },
    "tags": []
   },
   "outputs": [
    {
     "data": {
      "image/png": "[encoded data removed]",
      "text/plain": [
       "<Figure size 432x288 with 1 Axes>"
      ]
     },
     "metadata": {
      "needs_background": "light"
     },
     "output_type": "display_data"
    }
   ],
   "source": [
    "# Plot history: RMLE\n",
    "plt.plot(history.history['root_mean_squared_error'], label='RMLE (training data)')\n",
    "plt.plot(history.history['val_root_mean_squared_error'], label='RMLE (validation data)')\n",
    "plt.title('RMLE for Simple MLP Model')\n",
    "plt.ylabel('RMLE value')\n",
    "plt.xlabel('No. epochs')\n",
    "plt.legend(loc=\"upper left\")\n",
    "plt.show()"
   ]
  },
  {
   "cell_type": "code",
   "execution_count": 21,
   "id": "affecting-python",
   "metadata": {
    "execution": {
     "iopub.execute_input": "2021-05-22T16:03:40.463181Z",
     "iopub.status.busy": "2021-05-22T16:03:40.461632Z",
     "iopub.status.idle": "2021-05-22T16:03:40.464073Z",
     "shell.execute_reply": "2021-05-22T16:03:40.464594Z"
    },
    "papermill": {
     "duration": 15.740015,
     "end_time": "2021-05-22T16:03:40.464742",
     "exception": false,
     "start_time": "2021-05-22T16:03:24.724727",
     "status": "completed"
    },
    "tags": []
   },
   "outputs": [],
   "source": [
    "# def create_submission_output_file(model, X_data, bs=64):\n",
    "#     submission_prices = model.predict(X_data, batch_size=bs)\n",
    "#     submission_prices = np.exp(submission_prices)\n",
    "#     submission_prices = np.squeeze(submission_prices, axis=1)\n",
    "#     my_submission = pd.DataFrame({'test_id': test_df['test_id'], 'price': submission_prices})\n",
    "#     my_submission.to_csv(\"./submission.csv\", index=False)"
   ]
  },
  {
   "cell_type": "code",
   "execution_count": 22,
   "id": "sporting-hostel",
   "metadata": {
    "execution": {
     "iopub.execute_input": "2021-05-22T16:04:11.078384Z",
     "iopub.status.busy": "2021-05-22T16:04:11.077541Z",
     "iopub.status.idle": "2021-05-22T16:04:11.079754Z",
     "shell.execute_reply": "2021-05-22T16:04:11.080126Z"
    },
    "papermill": {
     "duration": 15.571645,
     "end_time": "2021-05-22T16:04:11.080263",
     "exception": false,
     "start_time": "2021-05-22T16:03:55.508618",
     "status": "completed"
    },
    "tags": []
   },
   "outputs": [],
   "source": [
    "# create_submission_output_file(simple_model, X_kaggle_test)"
   ]
  },
  {
   "cell_type": "code",
   "execution_count": 23,
   "id": "satellite-tucson",
   "metadata": {
    "execution": {
     "iopub.execute_input": "2021-05-22T16:04:41.360887Z",
     "iopub.status.busy": "2021-05-22T16:04:41.360042Z",
     "iopub.status.idle": "2021-05-22T16:04:41.362906Z",
     "shell.execute_reply": "2021-05-22T16:04:41.362461Z"
    },
    "papermill": {
     "duration": 15.109898,
     "end_time": "2021-05-22T16:04:41.363020",
     "exception": false,
     "start_time": "2021-05-22T16:04:26.253122",
     "status": "completed"
    },
    "tags": []
   },
   "outputs": [],
   "source": [
    "# test_df.shape"
   ]
  }
 ],
 "metadata": {
  "kernelspec": {
   "display_name": "Python 3",
   "language": "python",
   "name": "python3"
  },
  "language_info": {
   "codemirror_mode": {
    "name": "ipython",
    "version": 3
   },
   "file_extension": ".py",
   "mimetype": "text/x-python",
   "name": "python",
   "nbconvert_exporter": "python",
   "pygments_lexer": "ipython3",
   "version": "3.7.10"
  },
  "papermill": {
   "default_parameters": {},
   "duration": 3776.405602,
   "end_time": "2021-05-22T16:05:00.660252",
   "environment_variables": {},
   "exception": null,
   "input_path": "__notebook__.ipynb",
   "output_path": "__notebook__.ipynb",
   "parameters": {},
   "start_time": "2021-05-22T15:02:04.254650",
   "version": "2.3.3"
  }
 },
 "nbformat": 4,
 "nbformat_minor": 5
}
